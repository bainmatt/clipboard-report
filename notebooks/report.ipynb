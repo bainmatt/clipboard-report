{
 "cells": [
  {
   "cell_type": "raw",
   "metadata": {
    "editable": false,
    "vscode": {
     "languageId": "raw"
    }
   },
   "source": [
    "---\n",
    "title: \"Nurse Staffing Recommendations\"\n",
    "subtitle: \"This is a subtitle\"\n",
    "abstract: |\n",
    "  This is an abstract.\n",
    "author: \"Matthew Bain\"\n",
    "date: \"March 22, 2024\"\n",
    "code-link: true\n",
    "code-fold: show\n",
    "crossrefs-hover: true\n",
    "code-copy: hover\n",
    "toc-expand: true\n",
    "toc-location: left\n",
    "footnotes-hover: true\n",
    "number-sections: false\n",
    "# self-contained-math: true\n",
    "\n",
    "# css: ../../generic-css.css\n",
    "# bibliography: ../../generic-bib.bib\n",
    "\n",
    "toc: true\n",
    "toc-depth: 2\n",
    "fig-format: svg\n",
    "cap-location: bottom\n",
    "fig-align: left\n",
    "code-line-numbers: false\n",
    "citations-hover: true\n",
    "format: html\n",
    "---"
   ]
  },
  {
   "cell_type": "markdown",
   "metadata": {},
   "source": [
    "[...]"
   ]
  },
  {
   "cell_type": "markdown",
   "metadata": {},
   "source": [
    "## Imports"
   ]
  },
  {
   "cell_type": "code",
   "execution_count": 19,
   "metadata": {},
   "outputs": [],
   "source": [
    "#| echo: false\n",
    "\n",
    "# To render this notebook:\n",
    "# \n",
    "#   $ quarto preview notebooks/report.ipynb\n",
    "# \n",
    "# \n",
    "# For more info on cell parameters:\n",
    "# https://quarto.org/docs/reference/cells/cells-jupyter.html\n",
    "# \n",
    "# For info on technical writing:\n",
    "# https://quarto.org/docs/visual-editor/technical.html\n",
    "# \n",
    "# For info on cross-references:\n",
    "# https://quarto.org/docs/authoring/cross-references.html\n",
    "\n",
    "import sys\n",
    "from pathlib import Path\n",
    "\n",
    "src_path = Path('..')\n",
    "sys.path.append(str(src_path.resolve()))"
   ]
  },
  {
   "cell_type": "code",
   "execution_count": 20,
   "metadata": {},
   "outputs": [],
   "source": [
    "import numpy as np\n",
    "import pandas as pd\n",
    "import matplotlib.pyplot as plt\n",
    "\n",
    "from src.stylesheet import customize_plots\n",
    "from src.inspection import make_df, display"
   ]
  },
  {
   "cell_type": "markdown",
   "metadata": {},
   "source": [
    "## The dataset"
   ]
  },
  {
   "cell_type": "markdown",
   "metadata": {},
   "source": [
    "[...]"
   ]
  },
  {
   "cell_type": "code",
   "execution_count": 21,
   "metadata": {},
   "outputs": [],
   "source": [
    "# This is a test\n",
    "def test(x):\n",
    "    \"\"\"\n",
    "    This is a test.\n",
    "\n",
    "    Parameters\n",
    "    -----------\n",
    "    x : int\n",
    "        An integer.\n",
    "\n",
    "    Returns\n",
    "    -------\n",
    "    y : int\n",
    "        An integer.\n",
    "    \"\"\"\n",
    "    y = x + 1\n",
    "    return y"
   ]
  },
  {
   "cell_type": "code",
   "execution_count": 22,
   "metadata": {},
   "outputs": [
    {
     "data": {
      "text/plain": [
       "5"
      ]
     },
     "execution_count": 22,
     "metadata": {},
     "output_type": "execute_result"
    }
   ],
   "source": [
    "test(4)"
   ]
  },
  {
   "cell_type": "code",
   "execution_count": 23,
   "metadata": {},
   "outputs": [
    {
     "data": {
      "text/plain": [
       "[<matplotlib.lines.Line2D at 0x16409ea50>]"
      ]
     },
     "execution_count": 23,
     "metadata": {},
     "output_type": "execute_result"
    },
    {
     "data": {
      "image/png": "[encoded data removed]",
      "text/plain": [
       "<Figure size 500x500 with 1 Axes>"
      ]
     },
     "metadata": {},
     "output_type": "display_data"
    }
   ],
   "source": [
    "#| label: fig-lab\n",
    "#| fig-cap: A figure caption\n",
    "\n",
    "customize_plots()\n",
    "x = np.linspace(1, 10, 19)\n",
    "plt.plot(x*2)"
   ]
  },
  {
   "cell_type": "code",
   "execution_count": 24,
   "metadata": {},
   "outputs": [
    {
     "name": "stdout",
     "output_type": "stream",
     "text": [
      "\n",
      "\u001b[1mdf\u001b[0m\n",
      "--- (3, 3) ---\n",
      "    1   2   3\n",
      "A  1A  2A  3A\n",
      "B  1B  2B  3B\n",
      "C  1C  2C  3C\n",
      "\n",
      "\n",
      "\u001b[1mdf.transpose()\u001b[0m\n",
      "--- (3, 3) ---\n",
      "    A   B   C\n",
      "1  1A  1B  1C\n",
      "2  2A  2B  2C\n",
      "3  3A  3B  3C\n",
      "\n",
      "\n"
     ]
    }
   ],
   "source": [
    "df = make_df([1, 2, 3], [\"A\", \"B\", \"C\"])\n",
    "display(\"df\", \"df.transpose()\", globs=globals())"
   ]
  },
  {
   "cell_type": "code",
   "execution_count": null,
   "metadata": {},
   "outputs": [],
   "source": []
  }
 ],
 "metadata": {
  "kernelspec": {
   "display_name": "clipboard-CMS",
   "language": "python",
   "name": "python3"
  },
  "language_info": {
   "codemirror_mode": {
    "name": "ipython",
    "version": 3
   },
   "file_extension": ".py",
   "mimetype": "text/x-python",
   "name": "python",
   "nbconvert_exporter": "python",
   "pygments_lexer": "ipython3",
   "version": "3.11.10"
  }
 },
 "nbformat": 4,
 "nbformat_minor": 2
}
