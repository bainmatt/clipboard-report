{
  "cells": [
    {
      "cell_type": "markdown",
      "metadata": {},
      "source": [
        "# Exploring a database with SQL\n",
        "\n",
        "Implementing basic SQL queries in sqlite3\n",
        "\n",
        "Matthew Bain  \n",
        "2024-03-22\n",
        "\n",
        "## Imports"
      ],
      "id": "b17368c3-13e6-4b31-acaa-b4f5b6eb8638"
    },
    {
      "cell_type": "code",
      "execution_count": 1147,
      "metadata": {},
      "outputs": [],
      "source": [
        "import sqlite3\n",
        "import pandas as pd\n",
        "from IPython.display import Markdown, display"
      ],
      "id": "cell-3"
    },
    {
      "cell_type": "markdown",
      "metadata": {},
      "source": [
        "## SQL\n",
        "\n",
        "Let us imagine we have the following tables in our database:\n",
        "\n",
        "1.  **Sales**\n",
        "\n",
        "-   `sales_id` (INT)\n",
        "-   `customer_id` (INT)\n",
        "-   `product_id` (INT)\n",
        "-   `sale_date` (DATE)\n",
        "-   `quantity` (INT)\n",
        "-   `total_amount` (DECIMAL)\n",
        "\n",
        "1.  **Customers**\n",
        "\n",
        "-   `customer_id` (INT)\n",
        "-   `customer_name` (VARCHAR)\n",
        "-   `sales_region` (VARCHAR)\n",
        "-   `sign_up_date` (DATE)\n",
        "\n",
        "1.  **Products**\n",
        "\n",
        "-   `product_id` (INT)\n",
        "-   `product_name` (VARCHAR)\n",
        "-   `category` (VARCHAR)\n",
        "-   `price` (DECIMAL)\n",
        "\n",
        "We can simulate this problem by creating a test database in Python and\n",
        "adding tables to it that match this description."
      ],
      "id": "5c47769d-7236-43a7-a484-f9c667c05181"
    },
    {
      "cell_type": "code",
      "execution_count": 1149,
      "metadata": {},
      "outputs": [],
      "source": [
        "# Create a database and cursor to query it\n",
        "conn = sqlite3.connect(\"testdatabase.db\", timeout=10.0)\n",
        "cursor = conn.cursor()"
      ],
      "id": "cell-7"
    },
    {
      "cell_type": "code",
      "execution_count": 1150,
      "metadata": {},
      "outputs": [
        {
          "output_type": "display_data",
          "metadata": {},
          "data": {
            "text/plain": [
              "<sqlite3.Cursor at 0x127d3b3c0>"
            ]
          }
        }
      ],
      "source": [
        "# Create `Sales` table\n",
        "cursor.execute(\n",
        "    \"\"\"\n",
        "    CREATE TABLE IF NOT EXISTS Sales\n",
        "    (\n",
        "        sales_id INTEGER PRIMARY KEY AUTOINCREMENT,\n",
        "        customer_id INTEGER,\n",
        "        product_id INTEGER,\n",
        "        sales_date DATE,\n",
        "        quantity INTEGER,\n",
        "        total_amount DECIMAL(10, 2),\n",
        "        FOREIGN KEY (customer_id) REFERENCES Customers(customer_id),\n",
        "        FOREIGN KEY (product_id) REFERENCES Products(product_id)\n",
        "    )\n",
        "    \"\"\"\n",
        ")\n",
        "\n",
        "# Create `Customers` table\n",
        "cursor.execute(\n",
        "    \"\"\"\n",
        "    CREATE TABLE IF NOT EXISTS Customers\n",
        "    (\n",
        "        customer_id INTEGER PRIMARY KEY AUTOINCREMENT,\n",
        "        customer_name VARCHAR(255) NOT NULL,\n",
        "        sales_region VARCHAR(255),\n",
        "        sign_up_date DATE\n",
        "    )\n",
        "    \"\"\"\n",
        ")\n",
        "\n",
        "# Create `Products` table\n",
        "cursor.execute(\n",
        "    \"\"\"\n",
        "    CREATE TABLE IF NOT EXISTS Products\n",
        "    (\n",
        "        product_id INTEGER PRIMARY KEY AUTOINCREMENT,\n",
        "        product_name VARCHAR(255) NOT NULL,\n",
        "        category VARCHAR(255),\n",
        "        price DECIMAL(10, 2)\n",
        "    )\n",
        "    \"\"\"\n",
        ")"
      ],
      "id": "cell-8"
    },
    {
      "cell_type": "code",
      "execution_count": 1151,
      "metadata": {},
      "outputs": [
        {
          "output_type": "display_data",
          "metadata": {},
          "data": {
            "text/plain": [
              "<sqlite3.Cursor at 0x127d3b3c0>"
            ]
          }
        }
      ],
      "source": [
        "# Insert record into `Customers` table\n",
        "query = \"\"\"\n",
        "    INSERT INTO Customers\n",
        "    (customer_name, sales_region, sign_up_date)\n",
        "    VALUES (?, ?, ?)\n",
        "\"\"\"\n",
        "values = [\n",
        "    (\"John Doe\", \"West\", \"2023-09-25\"),\n",
        "    (\"Jane Young\", \"South\", \"2024-09-25\"),\n",
        "    (\"Chris Nguyen\", \"West\", \"2024-09-25\"),\n",
        "]\n",
        "cursor.executemany(query, values)\n",
        "\n",
        "# Insert record into `Products` table\n",
        "query = \"\"\"\n",
        "    INSERT INTO Products\n",
        "    (product_name, category, price)\n",
        "    VALUES (?, ?, ?)\n",
        "\"\"\"\n",
        "values = [\n",
        "    (\"Washing machine\", \"Appliances\", 1500.00),\n",
        "    (\"Laptop\", \"Electronics\", 1000.00),\n",
        "    (\"Phone\", \"Electronics\", 800.00),\n",
        "]\n",
        "cursor.executemany(query, values)\n",
        "\n",
        "# Insert record into `Sales` table\n",
        "query = \"\"\"\n",
        "    INSERT INTO Sales\n",
        "    (customer_id, product_id, sales_date, quantity, total_amount)\n",
        "    VALUES (?, ?, ?, ?, ?)\n",
        "\"\"\"\n",
        "values = [\n",
        "    (1, 1, \"2023-09-26\", 2, values[0][2] * 2),\n",
        "    (2, 1, \"2023-01-15\", 4, values[0][2] * 4),\n",
        "    (2, 2, \"2024-09-20\", 3, values[1][2] * 3),\n",
        "    (3, 3, \"2024-09-22\", 9, values[2][2] * 9),\n",
        "    (1, 2, \"2023-09-26\", 5, values[1][2] * 5),\n",
        "]\n",
        "cursor.executemany(query, values)"
      ],
      "id": "cell-9"
    },
    {
      "cell_type": "code",
      "execution_count": 1152,
      "metadata": {
        "cold-fold": true
      },
      "outputs": [
        {
          "output_type": "display_data",
          "metadata": {},
          "data": {
            "text/html": [
              "\n",
              "</div>"
            ]
          }
        },
        {
          "output_type": "display_data",
          "metadata": {},
          "data": {
            "text/html": [
              "\n",
              "</div>"
            ]
          }
        },
        {
          "output_type": "display_data",
          "metadata": {},
          "data": {
            "text/html": [
              "\n",
              "</div>"
            ]
          }
        }
      ],
      "source": [
        "# Query `Sales`\n",
        "query = \"\"\"\n",
        "    SELECT *\n",
        "    FROM Sales\n",
        "    LIMIT 5;\n",
        "\"\"\"\n",
        "display(Markdown(\"**`Sales`**:\"), pd.read_sql(query, conn))\n",
        "\n",
        "# Query `Customers`\n",
        "query = \"\"\"\n",
        "    SELECT *\n",
        "    FROM Customers\n",
        "    LIMIT 5;\n",
        "\"\"\"\n",
        "display(Markdown(\"**`Customers`**:\"), pd.read_sql(query, conn))\n",
        "\n",
        "# Query `Products`\n",
        "query = \"\"\"\n",
        "    SELECT *\n",
        "    FROM Products\n",
        "    LIMIT 5;\n",
        "\"\"\"\n",
        "display(Markdown(\"**`Products`**:\"), pd.read_sql(query, conn))"
      ],
      "id": "cell-10"
    },
    {
      "cell_type": "markdown",
      "metadata": {},
      "source": [
        "### Q1\n",
        "\n",
        "*Write a query to return the customer_name, product_name, and\n",
        "total_amount for each sale in the last 30 days.*"
      ],
      "id": "9e293049-66d5-4769-8d9a-eaa19a1cb3f7"
    },
    {
      "cell_type": "code",
      "execution_count": 1155,
      "metadata": {},
      "outputs": [
        {
          "output_type": "display_data",
          "metadata": {},
          "data": {
            "text/html": [
              "\n",
              "</div>"
            ]
          }
        }
      ],
      "source": [
        "query = \"\"\"\n",
        "    SELECT\n",
        "        Customers.customer_name,\n",
        "        Products.product_name,\n",
        "        Sales.total_amount\n",
        "    FROM\n",
        "        Sales\n",
        "    LEFT JOIN Customers\n",
        "        ON Sales.customer_id = Customers.customer_id\n",
        "    LEFT JOIN Products\n",
        "        ON Sales.product_id = Products.product_id\n",
        "    WHERE\n",
        "        Sales.sales_date >= DATE('now', '-30 days');\n",
        "\"\"\"\n",
        "pd.read_sql(query, conn)"
      ],
      "id": "cell-15"
    },
    {
      "cell_type": "markdown",
      "metadata": {},
      "source": [
        "### Q2\n",
        "\n",
        "*Write a query to find the total revenue generated by each product\n",
        "category in the last year. The output should include the product\n",
        "category and the total revenue for that category.*"
      ],
      "id": "49513eab-cf54-4b3d-bc81-aec14a6b59a5"
    },
    {
      "cell_type": "code",
      "execution_count": 1156,
      "metadata": {},
      "outputs": [
        {
          "output_type": "display_data",
          "metadata": {},
          "data": {
            "text/html": [
              "\n",
              "</div>"
            ]
          }
        }
      ],
      "source": [
        "query = \"\"\"\n",
        "    SELECT\n",
        "        Products.category,\n",
        "        SUM(Sales.total_amount) AS total_revenue\n",
        "    FROM\n",
        "        Sales\n",
        "    LEFT JOIN Products\n",
        "        ON Sales.product_id = Products.product_id\n",
        "    WHERE\n",
        "        Sales.sales_date >= DATE('now', '-1 year')\n",
        "    GROUP BY\n",
        "        category;\n",
        "\"\"\"\n",
        "pd.read_sql(query, conn)"
      ],
      "id": "cell-18"
    },
    {
      "cell_type": "markdown",
      "metadata": {},
      "source": [
        "### Q3\n",
        "\n",
        "*Write a query to return all customers who made purchases in 2023 and\n",
        "are located in the “West” region.*"
      ],
      "id": "7a9272d3-17b5-4071-b8c7-9215c66904da"
    },
    {
      "cell_type": "code",
      "execution_count": 1157,
      "metadata": {},
      "outputs": [
        {
          "output_type": "display_data",
          "metadata": {},
          "data": {
            "text/html": [
              "\n",
              "</div>"
            ]
          }
        }
      ],
      "source": [
        "query = \"\"\"\n",
        "    SELECT DISTINCT\n",
        "        Customers.customer_name\n",
        "    FROM\n",
        "        Customers\n",
        "    INNER JOIN Sales\n",
        "        ON Customers.customer_id = Sales.customer_id\n",
        "    WHERE\n",
        "        strftime('%Y', Sales.sales_date) = '2023'\n",
        "        AND Customers.sales_region = 'West'\n",
        "\"\"\"\n",
        "pd.read_sql(query, conn)"
      ],
      "id": "cell-21"
    },
    {
      "cell_type": "markdown",
      "metadata": {},
      "source": [
        "### Q4\n",
        "\n",
        "*Write a query to display the total number of sales, total quantity\n",
        "sold, and total revenue for each customer. The result should include the\n",
        "customer_name, total sales, total quantity, and total revenue.*"
      ],
      "id": "71c81ddf-d990-4282-a9bf-4cd7b886f671"
    },
    {
      "cell_type": "code",
      "execution_count": 1158,
      "metadata": {},
      "outputs": [
        {
          "output_type": "display_data",
          "metadata": {},
          "data": {
            "text/html": [
              "\n",
              "</div>"
            ]
          }
        }
      ],
      "source": [
        "query = \"\"\"\n",
        "    SELECT\n",
        "        Customers.customer_name,\n",
        "        COUNT(Sales.sales_id) AS total_sales,\n",
        "        SUM(Sales.quantity) AS total_quantity,\n",
        "        SUM(Sales.total_amount) AS total_revenue\n",
        "    FROM\n",
        "        Customers\n",
        "    LEFT JOIN Sales\n",
        "        ON Sales.customer_id = Customers.customer_id\n",
        "    GROUP BY\n",
        "        Customers.customer_id;\n",
        "\"\"\"\n",
        "pd.read_sql(query, conn)"
      ],
      "id": "cell-24"
    },
    {
      "cell_type": "markdown",
      "metadata": {},
      "source": [
        "### Q5\n",
        "\n",
        "*Write a query to find the top 3 customers (by total revenue) in the\n",
        "year 2023.*"
      ],
      "id": "cc60ac58-b788-4c0e-afbb-26b6734e51b3"
    },
    {
      "cell_type": "code",
      "execution_count": 1159,
      "metadata": {},
      "outputs": [
        {
          "output_type": "display_data",
          "metadata": {},
          "data": {
            "text/html": [
              "\n",
              "</div>"
            ]
          }
        }
      ],
      "source": [
        "query = \"\"\"\n",
        "    SELECT\n",
        "        Customers.customer_name,\n",
        "        SUM(Sales.total_amount) AS total_revenue\n",
        "    FROM\n",
        "        Customers\n",
        "    LEFT JOIN Sales\n",
        "        ON Customers.customer_id = Sales.customer_id\n",
        "        AND strftime('%Y', Sales.sales_date) = '2023'\n",
        "    GROUP BY\n",
        "        Customers.customer_name\n",
        "    ORDER BY\n",
        "        total_revenue DESC;\n",
        "\"\"\"\n",
        "pd.read_sql(query, conn)"
      ],
      "id": "cell-27"
    },
    {
      "cell_type": "markdown",
      "metadata": {},
      "source": [
        "### Q6\n",
        "\n",
        "*Write a query to rank products by their total sales quantity in 2023.\n",
        "The result should include the product_name, total quantity sold, and\n",
        "rank.*"
      ],
      "id": "a1d0076f-c4e8-43fa-846a-966996e57aaf"
    },
    {
      "cell_type": "code",
      "execution_count": 1160,
      "metadata": {},
      "outputs": [
        {
          "output_type": "display_data",
          "metadata": {},
          "data": {
            "text/html": [
              "\n",
              "</div>"
            ]
          }
        }
      ],
      "source": [
        "query = \"\"\"\n",
        "    SELECT\n",
        "        Products.product_name,\n",
        "        SUM(Sales.quantity) AS total_quantity,\n",
        "        RANK() OVER\n",
        "            (ORDER BY SUM(Sales.quantity) DESC) AS quantity_rank\n",
        "    FROM\n",
        "        Products\n",
        "    LEFT JOIN Sales\n",
        "        ON Products.product_id = Sales.product_id\n",
        "        AND strftime('%Y', Sales.sales_date) = '2023'\n",
        "    GROUP BY\n",
        "        Products.product_name;\n",
        "\"\"\"\n",
        "pd.read_sql(query, conn)"
      ],
      "id": "cell-30"
    },
    {
      "cell_type": "markdown",
      "metadata": {},
      "source": [
        "### Q7\n",
        "\n",
        "*Write a query that categorizes customers into “New” (if they signed up\n",
        "in the last 6 months) or “Existing” based on their sign_up_date. Include\n",
        "the customer_name, region, and category in the result.*"
      ],
      "id": "a1548ce6-2a36-4f0a-b745-f61a17b25c26"
    },
    {
      "cell_type": "code",
      "execution_count": 1161,
      "metadata": {},
      "outputs": [
        {
          "output_type": "display_data",
          "metadata": {},
          "data": {
            "text/html": [
              "\n",
              "</div>"
            ]
          }
        }
      ],
      "source": [
        "query = \"\"\"\n",
        "    SELECT DISTINCT\n",
        "        Customers.customer_name,\n",
        "        Customers.sales_region,\n",
        "    CASE\n",
        "        WHEN\n",
        "            Customers.sign_up_date >= DATE('now', '-6 months')\n",
        "        THEN\n",
        "            'New'\n",
        "        ELSE\n",
        "            'Existing'\n",
        "    END AS customer_status\n",
        "    FROM\n",
        "        Customers\n",
        "    LEFT JOIN Sales\n",
        "        ON Customers.customer_id = Sales.customer_id\n",
        "\"\"\"\n",
        "pd.read_sql(query, conn)"
      ],
      "id": "cell-33"
    },
    {
      "cell_type": "markdown",
      "metadata": {},
      "source": [
        "### Q8\n",
        "\n",
        "*Write a query to return the month and year along with the total sales\n",
        "for each month for the last 12 months.*\n",
        "\n",
        "## Wrapping up"
      ],
      "id": "2fb4158f-a42e-4be3-9a5b-c6760472c062"
    },
    {
      "cell_type": "code",
      "execution_count": 1162,
      "metadata": {},
      "outputs": [],
      "source": [
        "cursor.close()\n",
        "conn.close()"
      ],
      "id": "cell-38"
    }
  ],
  "nbformat": 4,
  "nbformat_minor": 5,
  "metadata": {
    "kernelspec": {
      "name": "python3",
      "display_name": "clipboard-CMS",
      "language": "python"
    },
    "language_info": {
      "name": "python",
      "codemirror_mode": {
        "name": "ipython",
        "version": "3"
      },
      "file_extension": ".py",
      "mimetype": "text/x-python",
      "nbconvert_exporter": "python",
      "pygments_lexer": "ipython3",
      "version": "3.11.0"
    }
  }
}