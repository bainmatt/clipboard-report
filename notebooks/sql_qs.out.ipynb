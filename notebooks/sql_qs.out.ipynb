{
  "cells": [
    {
      "cell_type": "markdown",
      "metadata": {},
      "source": [
        "# Exploring a database with SQL\n",
        "\n",
        "Implementing basic SQL queries in sqlite3\n",
        "\n",
        "Matthew Bain  \n",
        "2024-03-22\n",
        "\n",
        "## Imports"
      ],
      "id": "c54bc5ba-6e3b-427e-af09-592ef6e8d08d"
    },
    {
      "cell_type": "code",
      "execution_count": 1376,
      "metadata": {},
      "outputs": [],
      "source": [
        "import sqlite3\n",
        "import pandas as pd\n",
        "from IPython.display import Markdown, display\n",
        "\n",
        "from src.util import DBManager"
      ],
      "id": "cell-3"
    },
    {
      "cell_type": "markdown",
      "metadata": {},
      "source": [
        "## Define the tables\n",
        "\n",
        "Let us imagine we have the following tables in our database:\n",
        "\n",
        "1.  **Sales**\n",
        "\n",
        "-   `sales_id` (INT)\n",
        "-   `customer_id` (INT)\n",
        "-   `product_id` (INT)\n",
        "-   `sale_date` (DATE)\n",
        "-   `quantity` (INT)\n",
        "-   `total_amount` (DECIMAL)\n",
        "\n",
        "1.  **Customers**\n",
        "\n",
        "-   `customer_id` (INT)\n",
        "-   `customer_name` (VARCHAR)\n",
        "-   `sales_region` (VARCHAR)\n",
        "-   `sign_up_date` (DATE)\n",
        "\n",
        "1.  **Products**\n",
        "\n",
        "-   `product_id` (INT)\n",
        "-   `product_name` (VARCHAR)\n",
        "-   `category` (VARCHAR)\n",
        "-   `price` (DECIMAL)\n",
        "\n",
        "We can simulate this problem by creating a test database in Python,\n",
        "creating tables within it that match this description, and inserting\n",
        "some example values into the tables."
      ],
      "id": "13e25b2a-8527-43cb-bebb-4e7bc5f2d550"
    },
    {
      "cell_type": "code",
      "execution_count": 1378,
      "metadata": {},
      "outputs": [],
      "source": [
        "# Create a database and cursor to query it\n",
        "# db.save()\n",
        "# db.close()\n",
        "\n",
        "db_name = \"testdatabase.db\"\n",
        "db = DBManager()\n",
        "conn, cursor = db.open()"
      ],
      "id": "cell-7"
    },
    {
      "cell_type": "code",
      "execution_count": 1380,
      "metadata": {},
      "outputs": [
        {
          "output_type": "display_data",
          "metadata": {},
          "data": {
            "text/plain": [
              "<sqlite3.Cursor at 0x1318ec4c0>"
            ]
          }
        }
      ],
      "source": [
        "# Create `Sales` table\n",
        "cursor.execute(\n",
        "    \"\"\"\n",
        "    CREATE TABLE IF NOT EXISTS Sales\n",
        "    (\n",
        "        sales_id        INTEGER PRIMARY KEY AUTOINCREMENT,\n",
        "        customer_id     INTEGER,\n",
        "        product_id      INTEGER,\n",
        "        sales_date      DATE,\n",
        "        quantity        INTEGER,\n",
        "        total_amount    DECIMAL(10, 2),\n",
        "        FOREIGN KEY (customer_id) REFERENCES Customers(customer_id),\n",
        "        FOREIGN KEY (product_id) REFERENCES Products(product_id)\n",
        "    );\n",
        "    \"\"\"\n",
        ")\n",
        "\n",
        "# Create `Customers` table\n",
        "cursor.execute(\n",
        "    \"\"\"\n",
        "    CREATE TABLE IF NOT EXISTS Customers\n",
        "    (\n",
        "        customer_id     INTEGER PRIMARY KEY AUTOINCREMENT,\n",
        "        customer_name   VARCHAR(255) NOT NULL,\n",
        "        sales_region    VARCHAR(255),\n",
        "        sign_up_date    DATE\n",
        "    );\n",
        "    \"\"\"\n",
        ")\n",
        "\n",
        "# Create `Products` table\n",
        "cursor.execute(\n",
        "    \"\"\"\n",
        "    CREATE TABLE IF NOT EXISTS Products\n",
        "    (\n",
        "        product_id      INTEGER PRIMARY KEY AUTOINCREMENT,\n",
        "        product_name    VARCHAR(255) NOT NULL,\n",
        "        category        VARCHAR(255),\n",
        "        price           DECIMAL(10, 2)\n",
        "    );\n",
        "    \"\"\"\n",
        ")"
      ],
      "id": "cell-9"
    },
    {
      "cell_type": "code",
      "execution_count": 1381,
      "metadata": {},
      "outputs": [
        {
          "output_type": "display_data",
          "metadata": {},
          "data": {
            "text/plain": [
              "<sqlite3.Cursor at 0x1318ec4c0>"
            ]
          }
        }
      ],
      "source": [
        "# Insert record into `Customers` table\n",
        "query = \"\"\"\n",
        "    INSERT INTO Customers\n",
        "    (customer_name, sales_region, sign_up_date)\n",
        "    VALUES (?, ?, ?);\n",
        "\"\"\"\n",
        "values = [\n",
        "    (\"John Doe\", \"West\", \"2023-09-25\"),\n",
        "    (\"Jane Young\", \"South\", \"2024-09-25\"),\n",
        "    (\"Chris Nguyen\", \"West\", \"2024-09-25\"),\n",
        "]\n",
        "cursor.executemany(query, values)\n",
        "\n",
        "# Insert record into `Products` table\n",
        "query = \"\"\"\n",
        "    INSERT INTO Products\n",
        "    (product_name, category, price)\n",
        "    VALUES (?, ?, ?);\n",
        "\"\"\"\n",
        "values = [\n",
        "    (\"Washing machine\", \"Appliances\", 1500.00),\n",
        "    (\"Laptop\", \"Electronics\", 1000.00),\n",
        "    (\"Phone\", \"Electronics\", 800.00),\n",
        "]\n",
        "cursor.executemany(query, values)\n",
        "\n",
        "# Insert record into `Sales` table\n",
        "query = \"\"\"\n",
        "    INSERT INTO Sales\n",
        "    (customer_id, product_id, sales_date, quantity, total_amount)\n",
        "    VALUES (?, ?, ?, ?, ?);\n",
        "\"\"\"\n",
        "values = [\n",
        "    (1, 1, \"2023-09-26\", 2, values[0][2] * 2),\n",
        "    (2, 1, \"2023-01-15\", 4, values[0][2] * 4),\n",
        "    (2, 2, \"2024-09-20\", 3, values[1][2] * 3),\n",
        "    (3, 3, \"2024-08-22\", 9, values[2][2] * 10),\n",
        "    (1, 2, \"2023-09-26\", 40, values[1][2] * 40),\n",
        "]\n",
        "cursor.executemany(query, values)"
      ],
      "id": "cell-10"
    },
    {
      "cell_type": "code",
      "execution_count": 1382,
      "metadata": {
        "cold-fold": true
      },
      "outputs": [
        {
          "output_type": "display_data",
          "metadata": {},
          "data": {
            "text/html": [
              "\n",
              "</div>"
            ]
          }
        },
        {
          "output_type": "display_data",
          "metadata": {},
          "data": {
            "text/html": [
              "\n",
              "</div>"
            ]
          }
        },
        {
          "output_type": "display_data",
          "metadata": {},
          "data": {
            "text/html": [
              "\n",
              "</div>"
            ]
          }
        }
      ],
      "source": [
        "# Query `Sales`\n",
        "query = \"\"\"\n",
        "    SELECT *\n",
        "    FROM Sales\n",
        "    LIMIT 5;\n",
        "\"\"\"\n",
        "display(Markdown(\"**`Sales`**:\"), pd.read_sql(query, conn))\n",
        "\n",
        "# Query `Customers`\n",
        "query = \"\"\"\n",
        "    SELECT *\n",
        "    FROM Customers\n",
        "    LIMIT 5;\n",
        "\"\"\"\n",
        "display(Markdown(\"**`Customers`**:\"), pd.read_sql(query, conn))\n",
        "\n",
        "# Query `Products`\n",
        "query = \"\"\"\n",
        "    SELECT *\n",
        "    FROM Products\n",
        "    LIMIT 5;\n",
        "\"\"\"\n",
        "display(Markdown(\"**`Products`**:\"), pd.read_sql(query, conn))"
      ],
      "id": "cell-11"
    },
    {
      "cell_type": "markdown",
      "metadata": {},
      "source": [
        "With these example tables constructed, let us now run some queries.\n",
        "\n",
        "## Query the tables\n",
        "\n",
        "### Q1\n",
        "\n",
        "*Write a query to return the customer_name, product_name, and\n",
        "total_amount for each sale in the last 30 days.*"
      ],
      "id": "d3afe2b3-f25f-45af-8b09-9982bc1d555b"
    },
    {
      "cell_type": "code",
      "execution_count": 1384,
      "metadata": {},
      "outputs": [
        {
          "output_type": "display_data",
          "metadata": {},
          "data": {
            "text/html": [
              "\n",
              "</div>"
            ]
          }
        }
      ],
      "source": [
        "query = \"\"\"\n",
        "    SELECT\n",
        "        Customers.customer_name,\n",
        "        Products.product_name,\n",
        "        Sales.total_amount\n",
        "    FROM\n",
        "        Sales\n",
        "    LEFT JOIN Customers\n",
        "        ON Sales.customer_id = Customers.customer_id\n",
        "    LEFT JOIN Products\n",
        "        ON Sales.product_id = Products.product_id\n",
        "    WHERE\n",
        "        Sales.sales_date >= DATE('now', '-30 days');\n",
        "\"\"\"\n",
        "pd.read_sql(query, conn)"
      ],
      "id": "cell-17"
    },
    {
      "cell_type": "markdown",
      "metadata": {},
      "source": [
        "### Q2\n",
        "\n",
        "*Write a query to find the total revenue generated by each product\n",
        "category in the last year. The output should include the product\n",
        "category and the total revenue for that category.*"
      ],
      "id": "29750d21-4331-43e4-b2e3-bcec962ce4a2"
    },
    {
      "cell_type": "code",
      "execution_count": 1385,
      "metadata": {},
      "outputs": [
        {
          "output_type": "display_data",
          "metadata": {},
          "data": {
            "text/html": [
              "\n",
              "</div>"
            ]
          }
        }
      ],
      "source": [
        "query = \"\"\"\n",
        "    SELECT\n",
        "        Products.category,\n",
        "        SUM(Sales.total_amount) AS total_revenue\n",
        "    FROM\n",
        "        Sales\n",
        "    LEFT JOIN Products\n",
        "        ON Sales.product_id = Products.product_id\n",
        "    WHERE\n",
        "        Sales.sales_date >= DATE('now', '-1 year')\n",
        "    GROUP BY\n",
        "        category;\n",
        "\"\"\"\n",
        "pd.read_sql(query, conn)"
      ],
      "id": "cell-20"
    },
    {
      "cell_type": "markdown",
      "metadata": {},
      "source": [
        "### Q3\n",
        "\n",
        "*Write a query to return all customers who made purchases in 2023 and\n",
        "are located in the “West” region.*"
      ],
      "id": "5430f14d-b504-401a-ab29-365977dc173a"
    },
    {
      "cell_type": "code",
      "execution_count": 1386,
      "metadata": {},
      "outputs": [
        {
          "output_type": "display_data",
          "metadata": {},
          "data": {
            "text/html": [
              "\n",
              "</div>"
            ]
          }
        }
      ],
      "source": [
        "query = \"\"\"\n",
        "    SELECT DISTINCT\n",
        "        Customers.customer_name\n",
        "    FROM\n",
        "        Customers\n",
        "    INNER JOIN Sales\n",
        "        ON Customers.customer_id = Sales.customer_id\n",
        "    WHERE\n",
        "        strftime('%Y', Sales.sales_date) = '2023'\n",
        "        AND Customers.sales_region = 'West';\n",
        "\"\"\"\n",
        "pd.read_sql(query, conn)"
      ],
      "id": "cell-23"
    },
    {
      "cell_type": "markdown",
      "metadata": {},
      "source": [
        "### Q4\n",
        "\n",
        "*Write a query to display the total number of sales, total quantity\n",
        "sold, and total revenue for each customer. The result should include the\n",
        "customer_name, total sales, total quantity, and total revenue.*"
      ],
      "id": "f0503739-ed1f-4140-980b-d3d904cb8ef5"
    },
    {
      "cell_type": "code",
      "execution_count": 1387,
      "metadata": {},
      "outputs": [
        {
          "output_type": "display_data",
          "metadata": {},
          "data": {
            "text/html": [
              "\n",
              "</div>"
            ]
          }
        }
      ],
      "source": [
        "query = \"\"\"\n",
        "    SELECT\n",
        "        Customers.customer_name,\n",
        "        COUNT(Sales.sales_id) AS total_sales,\n",
        "        SUM(Sales.quantity) AS total_quantity,\n",
        "        SUM(Sales.total_amount) AS total_revenue\n",
        "    FROM\n",
        "        Customers\n",
        "    LEFT JOIN Sales\n",
        "        ON Sales.customer_id = Customers.customer_id\n",
        "    GROUP BY\n",
        "        Customers.customer_id;\n",
        "\"\"\"\n",
        "pd.read_sql(query, conn)"
      ],
      "id": "cell-26"
    },
    {
      "cell_type": "markdown",
      "metadata": {},
      "source": [
        "### Q5\n",
        "\n",
        "*Write a query to find the top 3 customers (by total revenue) in the\n",
        "year 2023.*"
      ],
      "id": "738d3f26-8163-4430-a5ea-5907a8a48cc0"
    },
    {
      "cell_type": "code",
      "execution_count": 1388,
      "metadata": {},
      "outputs": [
        {
          "output_type": "display_data",
          "metadata": {},
          "data": {
            "text/html": [
              "\n",
              "</div>"
            ]
          }
        }
      ],
      "source": [
        "query = \"\"\"\n",
        "    SELECT\n",
        "        Customers.customer_name,\n",
        "        SUM(Sales.total_amount) AS total_revenue\n",
        "    FROM\n",
        "        Customers\n",
        "    LEFT JOIN Sales\n",
        "        ON Customers.customer_id = Sales.customer_id\n",
        "        AND strftime('%Y', Sales.sales_date) = '2023'\n",
        "    GROUP BY\n",
        "        Customers.customer_name\n",
        "    ORDER BY\n",
        "        total_revenue DESC;\n",
        "\"\"\"\n",
        "pd.read_sql(query, conn)"
      ],
      "id": "cell-29"
    },
    {
      "cell_type": "markdown",
      "metadata": {},
      "source": [
        "### Q6\n",
        "\n",
        "*Write a query to rank products by their total sales quantity in 2023.\n",
        "The result should include the product_name, total quantity sold, and\n",
        "rank.*"
      ],
      "id": "b60f7f49-e2dc-4cc1-b4ca-8c9e441db5ee"
    },
    {
      "cell_type": "code",
      "execution_count": 1389,
      "metadata": {},
      "outputs": [
        {
          "output_type": "display_data",
          "metadata": {},
          "data": {
            "text/html": [
              "\n",
              "</div>"
            ]
          }
        }
      ],
      "source": [
        "query = \"\"\"\n",
        "    SELECT\n",
        "        Products.product_name,\n",
        "        SUM(Sales.quantity) AS total_quantity,\n",
        "        RANK() OVER\n",
        "            (ORDER BY SUM(Sales.quantity) DESC) AS quantity_rank\n",
        "    FROM\n",
        "        Products\n",
        "    LEFT JOIN Sales\n",
        "        ON Products.product_id = Sales.product_id\n",
        "        AND strftime('%Y', Sales.sales_date) = '2023'\n",
        "    GROUP BY\n",
        "        Products.product_name;\n",
        "\"\"\"\n",
        "pd.read_sql(query, conn)"
      ],
      "id": "cell-32"
    },
    {
      "cell_type": "markdown",
      "metadata": {},
      "source": [
        "### Q7\n",
        "\n",
        "*Write a query that categorizes customers into “New” (if they signed up\n",
        "in the last 6 months) or “Existing” based on their sign_up_date. Include\n",
        "the customer_name, region, and category in the result.*"
      ],
      "id": "ca81435d-1bcc-493c-88b5-7d5d7bfc744c"
    },
    {
      "cell_type": "code",
      "execution_count": 1390,
      "metadata": {},
      "outputs": [
        {
          "output_type": "display_data",
          "metadata": {},
          "data": {
            "text/html": [
              "\n",
              "</div>"
            ]
          }
        }
      ],
      "source": [
        "query = \"\"\"\n",
        "    SELECT DISTINCT\n",
        "        Customers.customer_name,\n",
        "        Customers.sales_region,\n",
        "    CASE\n",
        "        WHEN\n",
        "            Customers.sign_up_date >= DATE('now', '-6 months')\n",
        "        THEN\n",
        "            'New'\n",
        "        ELSE\n",
        "            'Existing'\n",
        "    END AS customer_status\n",
        "    FROM\n",
        "        Customers\n",
        "    LEFT JOIN Sales\n",
        "        ON Customers.customer_id = Sales.customer_id;\n",
        "\"\"\"\n",
        "pd.read_sql(query, conn)"
      ],
      "id": "cell-35"
    },
    {
      "cell_type": "markdown",
      "metadata": {},
      "source": [
        "### Q8\n",
        "\n",
        "*Write a query to return the month and year along with the total sales\n",
        "for each month for the last 12 months.*"
      ],
      "id": "ae750545-5319-422c-922b-092b42e6d09f"
    },
    {
      "cell_type": "code",
      "execution_count": 1391,
      "metadata": {
        "cold-fold": true
      },
      "outputs": [
        {
          "output_type": "display_data",
          "metadata": {},
          "data": {
            "text/plain": [
              "<sqlite3.Cursor at 0x1318eec40>"
            ]
          }
        }
      ],
      "source": [
        "# Create the table\n",
        "query_create_table = \"\"\"\n",
        "    CREATE TABLE IF NOT EXISTS date_dim (\n",
        "        year        INTEGER,\n",
        "        month       INTEGER,\n",
        "        month_name  VARCHAR(255)\n",
        "    );\n",
        "\"\"\"\n",
        "conn.execute(query_create_table)\n",
        "\n",
        "# Create a date range\n",
        "start_date = '2023-01-01'\n",
        "end_date = pd.to_datetime('now')\n",
        "date_range = pd.date_range(\n",
        "    start=start_date, end=end_date, freq=\"ME\"\n",
        ")\n",
        "\n",
        "# Extract year and month pairs from the date range\n",
        "values = [\n",
        "    (date.year, date.month, date.month_name())\n",
        "    for date in date_range\n",
        "]\n",
        "\n",
        "# Insert the values into the table\n",
        "conn.executemany(\n",
        "    \"INSERT INTO date_dim (year, month, month_name) VALUES (?, ?, ?);\",\n",
        "    values\n",
        ")"
      ],
      "id": "cell-38"
    },
    {
      "cell_type": "code",
      "execution_count": 1392,
      "metadata": {},
      "outputs": [
        {
          "output_type": "display_data",
          "metadata": {},
          "data": {
            "text/html": [
              "\n",
              "</div>"
            ]
          }
        }
      ],
      "source": [
        "query = \"\"\"\n",
        "    SELECT\n",
        "        d.year AS sales_year,\n",
        "        d.month_name AS sales_month,\n",
        "        COALESCE(COUNT(S.sales_id), 0) AS total_sales\n",
        "    FROM\n",
        "        date_dim d\n",
        "    LEFT JOIN\n",
        "        Sales S ON d.year = strftime('%Y', S.sales_date)\n",
        "        AND d.month = strftime('%m', S.sales_date)\n",
        "    WHERE\n",
        "        d.year >= strftime('%Y', DATE('now', '-12 months'))\n",
        "    GROUP BY\n",
        "        d.year, d.month\n",
        "    ORDER BY\n",
        "        d.year, d.month;\n",
        "\"\"\"\n",
        "pd.read_sql(query, conn)"
      ],
      "id": "cell-39"
    },
    {
      "cell_type": "markdown",
      "metadata": {},
      "source": [
        "### Q9\n",
        "\n",
        "*Write a query to return the product categories that generated more than\n",
        "\\$50,000 in revenue during the last 6 months.*"
      ],
      "id": "73a80be0-02c8-4870-a1c8-4d6b54c1356c"
    },
    {
      "cell_type": "code",
      "execution_count": 1393,
      "metadata": {},
      "outputs": [
        {
          "output_type": "display_data",
          "metadata": {},
          "data": {
            "text/html": [
              "\n",
              "</div>"
            ]
          }
        }
      ],
      "source": [
        "query = \"\"\"\n",
        "    SELECT\n",
        "        Products.category,\n",
        "        SUM(Sales.total_amount) as total_revenue\n",
        "    FROM\n",
        "        Products\n",
        "    LEFT JOIN Sales\n",
        "        ON Products.product_id = Sales.product_id\n",
        "    WHERE\n",
        "        Sales.sales_date >= DATE('now', '-25 months')\n",
        "    GROUP BY\n",
        "        Products.category\n",
        "    HAVING\n",
        "        SUM(Sales.total_amount) >= 50000;\n",
        "\"\"\"\n",
        "pd.read_sql(query, conn)"
      ],
      "id": "cell-42"
    },
    {
      "cell_type": "markdown",
      "metadata": {},
      "source": [
        "### Q10\n",
        "\n",
        "*Write a query to check for any sales where the total_amount doesn’t\n",
        "match the expected value (i.e., quantity \\* price).*"
      ],
      "id": "616ad63c-b03d-4cc7-a9bc-833c7192d90f"
    },
    {
      "cell_type": "code",
      "execution_count": 1394,
      "metadata": {},
      "outputs": [
        {
          "output_type": "display_data",
          "metadata": {},
          "data": {
            "text/html": [
              "\n",
              "</div>"
            ]
          }
        }
      ],
      "source": [
        "query = \"\"\"\n",
        "    SELECT\n",
        "        Sales.*,\n",
        "        Products.price\n",
        "    FROM\n",
        "        Sales\n",
        "    LEFT JOIN Products\n",
        "        ON Sales.product_id = Products.product_id\n",
        "    WHERE\n",
        "        Sales.total_amount != Sales.quantity * Products.price\n",
        "\"\"\"\n",
        "pd.read_sql(query, conn)"
      ],
      "id": "cell-45"
    },
    {
      "cell_type": "markdown",
      "metadata": {},
      "source": [
        "## Wrap up"
      ],
      "id": "d7ce951b-07ec-4fdc-8cab-054818988bc9"
    },
    {
      "cell_type": "code",
      "execution_count": 1395,
      "metadata": {},
      "outputs": [],
      "source": [
        "db.save()\n",
        "db.close()"
      ],
      "id": "cell-47"
    },
    {
      "cell_type": "markdown",
      "metadata": {},
      "source": [
        "And that concludes this brief tour of using `sqlite3` in Python to\n",
        "create a test database and define, manipulate, and query tables inside\n",
        "it."
      ],
      "id": "e4af726c-f399-40d3-a282-c99d031fa261"
    }
  ],
  "nbformat": 4,
  "nbformat_minor": 5,
  "metadata": {
    "kernelspec": {
      "name": "python3",
      "display_name": "clipboard-CMS",
      "language": "python"
    },
    "language_info": {
      "name": "python",
      "codemirror_mode": {
        "name": "ipython",
        "version": "3"
      },
      "file_extension": ".py",
      "mimetype": "text/x-python",
      "nbconvert_exporter": "python",
      "pygments_lexer": "ipython3",
      "version": "3.11.0"
    }
  }
}