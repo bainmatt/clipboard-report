{
  "cells": [
    {
      "cell_type": "markdown",
      "metadata": {},
      "source": [
        "# Exploring a database with SQL\n",
        "\n",
        "Implementing basic SQL queries in sqlite3\n",
        "\n",
        "Matthew Bain  \n",
        "2024-03-22\n",
        "\n",
        "## Imports"
      ],
      "id": "a0596e4d-dd7d-4447-8542-ccb6bf3af5aa"
    },
    {
      "cell_type": "code",
      "execution_count": 65,
      "metadata": {},
      "outputs": [],
      "source": [
        "import sqlite3\n",
        "import pandas as pd\n",
        "from IPython.display import Markdown, display\n",
        "\n",
        "from src.util import DBManager"
      ],
      "id": "cell-3"
    },
    {
      "cell_type": "markdown",
      "metadata": {},
      "source": [
        "## Define the tables\n",
        "\n",
        "Let us imagine we have the following tables in our database:\n",
        "\n",
        "1.  **Sales**\n",
        "\n",
        "-   `sales_id` (INT)\n",
        "-   `customer_id` (INT)\n",
        "-   `product_id` (INT)\n",
        "-   `sale_date` (DATE)\n",
        "-   `quantity` (INT)\n",
        "-   `total_amount` (DECIMAL)\n",
        "\n",
        "1.  **Customers**\n",
        "\n",
        "-   `customer_id` (INT)\n",
        "-   `customer_name` (VARCHAR)\n",
        "-   `sales_region` (VARCHAR)\n",
        "-   `sign_up_date` (DATE)\n",
        "\n",
        "1.  **Products**\n",
        "\n",
        "-   `product_id` (INT)\n",
        "-   `product_name` (VARCHAR)\n",
        "-   `category` (VARCHAR)\n",
        "-   `price` (DECIMAL)\n",
        "\n",
        "We can simulate this scenario by creating a test database in Python,\n",
        "creating tables within it that match this description, and inserting\n",
        "some example values into the tables."
      ],
      "id": "747c172f-d645-4a23-b501-4cff1f147c73"
    },
    {
      "cell_type": "code",
      "execution_count": 67,
      "metadata": {},
      "outputs": [],
      "source": [
        "db_name = \"testdatabase.db\"\n",
        "db = DBManager(db_name)\n",
        "conn, cursor = db.open()"
      ],
      "id": "cell-7"
    },
    {
      "cell_type": "code",
      "execution_count": 69,
      "metadata": {},
      "outputs": [
        {
          "output_type": "display_data",
          "metadata": {},
          "data": {
            "text/plain": [
              "<sqlite3.Cursor at 0x1178efa40>"
            ]
          }
        }
      ],
      "source": [
        "# Create `Sales` table\n",
        "cursor.execute(\n",
        "    \"\"\"\n",
        "    CREATE TABLE IF NOT EXISTS Sales\n",
        "    (\n",
        "        sales_id        INTEGER PRIMARY KEY AUTOINCREMENT,\n",
        "        customer_id     INTEGER,\n",
        "        product_id      INTEGER,\n",
        "        sales_date      DATE,\n",
        "        quantity        INTEGER,\n",
        "        total_amount    DECIMAL(10, 2),\n",
        "        FOREIGN KEY (customer_id) REFERENCES Customers(customer_id),\n",
        "        FOREIGN KEY (product_id) REFERENCES Products(product_id)\n",
        "    );\n",
        "    \"\"\"\n",
        ")\n",
        "\n",
        "# Create `Customers` table\n",
        "cursor.execute(\n",
        "    \"\"\"\n",
        "    CREATE TABLE IF NOT EXISTS Customers\n",
        "    (\n",
        "        customer_id     INTEGER PRIMARY KEY AUTOINCREMENT,\n",
        "        customer_name   VARCHAR(255) NOT NULL,\n",
        "        sales_region    VARCHAR(255),\n",
        "        sign_up_date    DATE\n",
        "    );\n",
        "    \"\"\"\n",
        ")\n",
        "\n",
        "# Create `Products` table\n",
        "cursor.execute(\n",
        "    \"\"\"\n",
        "    CREATE TABLE IF NOT EXISTS Products\n",
        "    (\n",
        "        product_id      INTEGER PRIMARY KEY AUTOINCREMENT,\n",
        "        product_name    VARCHAR(255) NOT NULL,\n",
        "        category        VARCHAR(255),\n",
        "        price           DECIMAL(10, 2)\n",
        "    );\n",
        "    \"\"\"\n",
        ")"
      ],
      "id": "cell-9"
    },
    {
      "cell_type": "code",
      "execution_count": 70,
      "metadata": {},
      "outputs": [
        {
          "output_type": "display_data",
          "metadata": {},
          "data": {
            "text/plain": [
              "<sqlite3.Cursor at 0x1178efa40>"
            ]
          }
        }
      ],
      "source": [
        "# Insert record into `Customers` table\n",
        "query = \"\"\"\n",
        "    INSERT INTO Customers\n",
        "    (customer_name, sales_region, sign_up_date)\n",
        "    VALUES (?, ?, ?);\n",
        "\"\"\"\n",
        "values = [\n",
        "    (\"John Doe\", \"West\", \"2023-09-25\"),\n",
        "    (\"Jane Young\", \"South\", \"2024-09-25\"),\n",
        "    (\"Chris Nguyen\", \"West\", \"2024-09-25\"),\n",
        "]\n",
        "cursor.executemany(query, values)\n",
        "\n",
        "# Insert record into `Products` table\n",
        "query = \"\"\"\n",
        "    INSERT INTO Products\n",
        "    (product_name, category, price)\n",
        "    VALUES (?, ?, ?);\n",
        "\"\"\"\n",
        "values = [\n",
        "    (\"Washing machine\", \"Appliances\", 1500.00),\n",
        "    (\"Laptop\", \"Electronics\", 1000.00),\n",
        "    (\"Phone\", \"Electronics\", 800.00),\n",
        "]\n",
        "cursor.executemany(query, values)\n",
        "\n",
        "# Insert record into `Sales` table\n",
        "query = \"\"\"\n",
        "    INSERT INTO Sales\n",
        "    (customer_id, product_id, sales_date, quantity, total_amount)\n",
        "    VALUES (?, ?, ?, ?, ?);\n",
        "\"\"\"\n",
        "values = [\n",
        "    (1, 1, \"2023-09-26\", 2, values[0][2] * 2),\n",
        "    (2, 1, \"2023-01-15\", 4, values[0][2] * 4),\n",
        "    (2, 2, \"2024-09-20\", 3, values[1][2] * 3),\n",
        "    (3, 3, \"2024-08-22\", 9, values[2][2] * 10),\n",
        "    (1, 2, \"2023-09-26\", 40, values[1][2] * 40),\n",
        "]\n",
        "cursor.executemany(query, values)"
      ],
      "id": "cell-10"
    },
    {
      "cell_type": "code",
      "execution_count": 71,
      "metadata": {
        "cold-fold": true
      },
      "outputs": [
        {
          "output_type": "display_data",
          "metadata": {},
          "data": {
            "text/html": [
              "\n",
              "</div>"
            ]
          }
        },
        {
          "output_type": "display_data",
          "metadata": {},
          "data": {
            "text/html": [
              "\n",
              "</div>"
            ]
          }
        },
        {
          "output_type": "display_data",
          "metadata": {},
          "data": {
            "text/html": [
              "\n",
              "</div>"
            ]
          }
        }
      ],
      "source": [
        "# Query `Sales`\n",
        "query = \"\"\"\n",
        "    SELECT *\n",
        "    FROM Sales\n",
        "    LIMIT 5;\n",
        "\"\"\"\n",
        "display(Markdown(\"**`Sales`**:\"), pd.read_sql(query, conn))\n",
        "\n",
        "# Query `Customers`\n",
        "query = \"\"\"\n",
        "    SELECT *\n",
        "    FROM Customers\n",
        "    LIMIT 5;\n",
        "\"\"\"\n",
        "display(Markdown(\"**`Customers`**:\"), pd.read_sql(query, conn))\n",
        "\n",
        "# Query `Products`\n",
        "query = \"\"\"\n",
        "    SELECT *\n",
        "    FROM Products\n",
        "    LIMIT 5;\n",
        "\"\"\"\n",
        "display(Markdown(\"**`Products`**:\"), pd.read_sql(query, conn))"
      ],
      "id": "cell-11"
    },
    {
      "cell_type": "markdown",
      "metadata": {},
      "source": [
        "## Query the tables\n",
        "\n",
        "With these example tables constructed, let us now run some queries.\n",
        "\n",
        "### Q1\n",
        "\n",
        "*Write a query to return the customer_name, product_name, and\n",
        "total_amount for each sale in the last 30 days.*"
      ],
      "id": "2c8b1106-f083-43cf-bd70-05b003e6dc8a"
    },
    {
      "cell_type": "code",
      "execution_count": 73,
      "metadata": {},
      "outputs": [
        {
          "output_type": "display_data",
          "metadata": {},
          "data": {
            "text/html": [
              "\n",
              "</div>"
            ]
          }
        }
      ],
      "source": [
        "query = \"\"\"\n",
        "    SELECT\n",
        "        Customers.customer_name,\n",
        "        Products.product_name,\n",
        "        Sales.total_amount\n",
        "    FROM\n",
        "        Sales\n",
        "    LEFT JOIN Customers\n",
        "        ON Sales.customer_id = Customers.customer_id\n",
        "    LEFT JOIN Products\n",
        "        ON Sales.product_id = Products.product_id\n",
        "    WHERE\n",
        "        Sales.sales_date >= DATE('now', '-30 days');\n",
        "\"\"\"\n",
        "pd.read_sql(query, conn)"
      ],
      "id": "cell-17"
    },
    {
      "cell_type": "markdown",
      "metadata": {},
      "source": [
        "### Q2\n",
        "\n",
        "*Write a query to find the total revenue generated by each product\n",
        "category in the last year. The output should include the product\n",
        "category and the total revenue for that category.*"
      ],
      "id": "f935bc45-45f9-421a-9a8a-c2e62bd982c9"
    },
    {
      "cell_type": "code",
      "execution_count": 74,
      "metadata": {},
      "outputs": [
        {
          "output_type": "display_data",
          "metadata": {},
          "data": {
            "text/html": [
              "\n",
              "</div>"
            ]
          }
        }
      ],
      "source": [
        "query = \"\"\"\n",
        "    SELECT\n",
        "        Products.category,\n",
        "        SUM(Sales.total_amount) AS total_revenue\n",
        "    FROM\n",
        "        Sales\n",
        "    LEFT JOIN Products\n",
        "        ON Sales.product_id = Products.product_id\n",
        "    WHERE\n",
        "        Sales.sales_date >= DATE('now', '-1 year')\n",
        "    GROUP BY\n",
        "        category;\n",
        "\"\"\"\n",
        "pd.read_sql(query, conn)"
      ],
      "id": "cell-20"
    },
    {
      "cell_type": "markdown",
      "metadata": {},
      "source": [
        "### Q3\n",
        "\n",
        "*Write a query to return all customers who made purchases in 2023 and\n",
        "are located in the “West” region.*"
      ],
      "id": "e7498363-0c01-4882-bd1a-f5c41a951a8a"
    },
    {
      "cell_type": "code",
      "execution_count": 75,
      "metadata": {},
      "outputs": [
        {
          "output_type": "display_data",
          "metadata": {},
          "data": {
            "text/html": [
              "\n",
              "</div>"
            ]
          }
        }
      ],
      "source": [
        "query = \"\"\"\n",
        "    SELECT DISTINCT\n",
        "        Customers.customer_name\n",
        "    FROM\n",
        "        Customers\n",
        "    INNER JOIN Sales\n",
        "        ON Customers.customer_id = Sales.customer_id\n",
        "    WHERE\n",
        "        strftime('%Y', Sales.sales_date) = '2023'\n",
        "        AND Customers.sales_region = 'West';\n",
        "\"\"\"\n",
        "pd.read_sql(query, conn)"
      ],
      "id": "cell-23"
    },
    {
      "cell_type": "markdown",
      "metadata": {},
      "source": [
        "### Q4\n",
        "\n",
        "*Write a query to display the total number of sales, total quantity\n",
        "sold, and total revenue for each customer. The result should include the\n",
        "customer_name, total sales, total quantity, and total revenue.*"
      ],
      "id": "c7fca61e-b886-42b6-9ec2-235ce0288880"
    },
    {
      "cell_type": "code",
      "execution_count": 76,
      "metadata": {},
      "outputs": [
        {
          "output_type": "display_data",
          "metadata": {},
          "data": {
            "text/html": [
              "\n",
              "</div>"
            ]
          }
        }
      ],
      "source": [
        "query = \"\"\"\n",
        "    SELECT\n",
        "        Customers.customer_name,\n",
        "        COUNT(Sales.sales_id) AS total_sales,\n",
        "        SUM(Sales.quantity) AS total_quantity,\n",
        "        SUM(Sales.total_amount) AS total_revenue\n",
        "    FROM\n",
        "        Customers\n",
        "    LEFT JOIN Sales\n",
        "        ON Sales.customer_id = Customers.customer_id\n",
        "    GROUP BY\n",
        "        Customers.customer_id;\n",
        "\"\"\"\n",
        "pd.read_sql(query, conn)"
      ],
      "id": "cell-26"
    },
    {
      "cell_type": "markdown",
      "metadata": {},
      "source": [
        "### Q5\n",
        "\n",
        "*Write a query to find the top 3 customers (by total revenue) in the\n",
        "year 2023.*"
      ],
      "id": "36698bfd-c864-46de-9dba-8113f6fb860f"
    },
    {
      "cell_type": "code",
      "execution_count": 77,
      "metadata": {},
      "outputs": [
        {
          "output_type": "display_data",
          "metadata": {},
          "data": {
            "text/html": [
              "\n",
              "</div>"
            ]
          }
        }
      ],
      "source": [
        "query = \"\"\"\n",
        "    SELECT\n",
        "        Customers.customer_name,\n",
        "        SUM(Sales.total_amount) AS total_revenue\n",
        "    FROM\n",
        "        Customers\n",
        "    LEFT JOIN Sales\n",
        "        ON Customers.customer_id = Sales.customer_id\n",
        "        AND strftime('%Y', Sales.sales_date) = '2023'\n",
        "    GROUP BY\n",
        "        Customers.customer_name\n",
        "    ORDER BY\n",
        "        total_revenue DESC;\n",
        "\"\"\"\n",
        "pd.read_sql(query, conn)"
      ],
      "id": "cell-29"
    },
    {
      "cell_type": "markdown",
      "metadata": {},
      "source": [
        "### Q6\n",
        "\n",
        "*Write a query to rank products by their total sales quantity in 2023.\n",
        "The result should include the product_name, total quantity sold, and\n",
        "rank.*"
      ],
      "id": "1967ec48-671c-4ef6-8d8d-45b7d648c062"
    },
    {
      "cell_type": "code",
      "execution_count": 78,
      "metadata": {},
      "outputs": [
        {
          "output_type": "display_data",
          "metadata": {},
          "data": {
            "text/html": [
              "\n",
              "</div>"
            ]
          }
        }
      ],
      "source": [
        "query = \"\"\"\n",
        "    SELECT\n",
        "        Products.product_name,\n",
        "        SUM(Sales.quantity) AS total_quantity,\n",
        "        RANK() OVER\n",
        "            (ORDER BY SUM(Sales.quantity) DESC) AS quantity_rank\n",
        "    FROM\n",
        "        Products\n",
        "    LEFT JOIN Sales\n",
        "        ON Products.product_id = Sales.product_id\n",
        "        AND strftime('%Y', Sales.sales_date) = '2023'\n",
        "    GROUP BY\n",
        "        Products.product_name;\n",
        "\"\"\"\n",
        "pd.read_sql(query, conn)"
      ],
      "id": "cell-32"
    },
    {
      "cell_type": "markdown",
      "metadata": {},
      "source": [
        "### Q7\n",
        "\n",
        "*Write a query that categorizes customers into “New” (if they signed up\n",
        "in the last 6 months) or “Existing” based on their sign_up_date. Include\n",
        "the customer_name, region, and category in the result.*"
      ],
      "id": "193d9d33-58be-4af9-a22a-08095439ac5d"
    },
    {
      "cell_type": "code",
      "execution_count": 79,
      "metadata": {},
      "outputs": [
        {
          "output_type": "display_data",
          "metadata": {},
          "data": {
            "text/html": [
              "\n",
              "</div>"
            ]
          }
        }
      ],
      "source": [
        "query = \"\"\"\n",
        "    SELECT DISTINCT\n",
        "        Customers.customer_name,\n",
        "        Customers.sales_region,\n",
        "    CASE\n",
        "        WHEN\n",
        "            Customers.sign_up_date >= DATE('now', '-6 months')\n",
        "        THEN\n",
        "            'New'\n",
        "        ELSE\n",
        "            'Existing'\n",
        "    END AS customer_status\n",
        "    FROM\n",
        "        Customers\n",
        "    LEFT JOIN Sales\n",
        "        ON Customers.customer_id = Sales.customer_id;\n",
        "\"\"\"\n",
        "pd.read_sql(query, conn)"
      ],
      "id": "cell-35"
    },
    {
      "cell_type": "markdown",
      "metadata": {},
      "source": [
        "### Q8\n",
        "\n",
        "*Write a query to return the month and year along with the total sales\n",
        "for each month for the last 12 months.*"
      ],
      "id": "a5e3f906-1728-4182-b24a-3621f722c666"
    },
    {
      "cell_type": "code",
      "execution_count": 80,
      "metadata": {
        "cold-fold": true
      },
      "outputs": [
        {
          "output_type": "display_data",
          "metadata": {},
          "data": {
            "text/plain": [
              "<sqlite3.Cursor at 0x1178efe40>"
            ]
          }
        }
      ],
      "source": [
        "# Create the table\n",
        "query_create_table = \"\"\"\n",
        "    CREATE TABLE IF NOT EXISTS date_dim (\n",
        "        year        INTEGER,\n",
        "        month       INTEGER,\n",
        "        month_name  VARCHAR(255)\n",
        "    );\n",
        "\"\"\"\n",
        "conn.execute(query_create_table)\n",
        "\n",
        "# Create a date range\n",
        "start_date = '2023-01-01'\n",
        "end_date = pd.to_datetime('now')\n",
        "date_range = pd.date_range(\n",
        "    start=start_date, end=end_date, freq=\"ME\"\n",
        ")\n",
        "\n",
        "# Extract year and month pairs from the date range\n",
        "values = [\n",
        "    (date.year, date.month, date.month_name())\n",
        "    for date in date_range\n",
        "]\n",
        "\n",
        "# Insert the values into the table\n",
        "conn.executemany(\n",
        "    \"INSERT INTO date_dim (year, month, month_name) VALUES (?, ?, ?);\",\n",
        "    values\n",
        ")"
      ],
      "id": "cell-38"
    },
    {
      "cell_type": "code",
      "execution_count": 81,
      "metadata": {},
      "outputs": [
        {
          "output_type": "display_data",
          "metadata": {},
          "data": {
            "text/html": [
              "\n",
              "</div>"
            ]
          }
        }
      ],
      "source": [
        "query = \"\"\"\n",
        "    SELECT\n",
        "        d.year AS sales_year,\n",
        "        d.month_name AS sales_month,\n",
        "        COALESCE(COUNT(S.sales_id), 0) AS total_sales\n",
        "    FROM\n",
        "        date_dim d\n",
        "    LEFT JOIN\n",
        "        Sales S ON d.year = strftime('%Y', S.sales_date)\n",
        "        AND d.month = strftime('%m', S.sales_date)\n",
        "    WHERE\n",
        "        d.year >= strftime('%Y', DATE('now', '-12 months'))\n",
        "    GROUP BY\n",
        "        d.year, d.month\n",
        "    ORDER BY\n",
        "        d.year, d.month;\n",
        "\"\"\"\n",
        "pd.read_sql(query, conn)"
      ],
      "id": "cell-39"
    },
    {
      "cell_type": "markdown",
      "metadata": {},
      "source": [
        "### Q9\n",
        "\n",
        "*Write a query to return the product categories that generated more than\n",
        "\\$50,000 in revenue during the last 6 months.*"
      ],
      "id": "671b3ccc-729b-455e-b83d-ea47c51422f0"
    },
    {
      "cell_type": "code",
      "execution_count": 82,
      "metadata": {},
      "outputs": [
        {
          "output_type": "display_data",
          "metadata": {},
          "data": {
            "text/html": [
              "\n",
              "</div>"
            ]
          }
        }
      ],
      "source": [
        "query = \"\"\"\n",
        "    SELECT\n",
        "        Products.category,\n",
        "        SUM(Sales.total_amount) as total_revenue\n",
        "    FROM\n",
        "        Products\n",
        "    LEFT JOIN Sales\n",
        "        ON Products.product_id = Sales.product_id\n",
        "    WHERE\n",
        "        Sales.sales_date >= DATE('now', '-25 months')\n",
        "    GROUP BY\n",
        "        Products.category\n",
        "    HAVING\n",
        "        SUM(Sales.total_amount) >= 50000;\n",
        "\"\"\"\n",
        "pd.read_sql(query, conn)"
      ],
      "id": "cell-42"
    },
    {
      "cell_type": "markdown",
      "metadata": {},
      "source": [
        "### Q10\n",
        "\n",
        "*Write a query to check for any sales where the total_amount doesn’t\n",
        "match the expected value (i.e., quantity \\* price).*"
      ],
      "id": "0a45577f-9421-4d91-a249-f326b051b488"
    },
    {
      "cell_type": "code",
      "execution_count": 83,
      "metadata": {},
      "outputs": [
        {
          "output_type": "display_data",
          "metadata": {},
          "data": {
            "text/html": [
              "\n",
              "</div>"
            ]
          }
        }
      ],
      "source": [
        "query = \"\"\"\n",
        "    SELECT\n",
        "        Sales.*,\n",
        "        Products.price\n",
        "    FROM\n",
        "        Sales\n",
        "    LEFT JOIN Products\n",
        "        ON Sales.product_id = Products.product_id\n",
        "    WHERE\n",
        "        Sales.total_amount != Sales.quantity * Products.price\n",
        "\"\"\"\n",
        "pd.read_sql(query, conn)"
      ],
      "id": "cell-45"
    },
    {
      "cell_type": "markdown",
      "metadata": {},
      "source": [
        "## Wrap up"
      ],
      "id": "8e118ee1-f7b1-4131-9c26-2e4741b041aa"
    },
    {
      "cell_type": "code",
      "execution_count": 84,
      "metadata": {},
      "outputs": [],
      "source": [
        "db.save()\n",
        "db.close()"
      ],
      "id": "cell-47"
    },
    {
      "cell_type": "markdown",
      "metadata": {},
      "source": [
        "And that concludes this brief tour of using SQL to define, manipulate,\n",
        "and query tables in a database. In summary, we:\n",
        "\n",
        "-   used `sqlite3` in Python to create a test database;\n",
        "-   defined some tables;\n",
        "-   inserted values into those tables;\n",
        "-   ran various queries on the tables;\n",
        "-   saw key elements of SQL logic including grouping, filtering,\n",
        "    ordering, joins, and datetime manipulation."
      ],
      "id": "367c902f-4bab-416d-b82c-bc3f08c9aacd"
    }
  ],
  "nbformat": 4,
  "nbformat_minor": 5,
  "metadata": {
    "kernelspec": {
      "name": "python3",
      "display_name": "clipboard-CMS",
      "language": "python"
    },
    "language_info": {
      "name": "python",
      "codemirror_mode": {
        "name": "ipython",
        "version": "3"
      },
      "file_extension": ".py",
      "mimetype": "text/x-python",
      "nbconvert_exporter": "python",
      "pygments_lexer": "ipython3",
      "version": "3.11.0"
    }
  }
}