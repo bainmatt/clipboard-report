{
  "cells": [
    {
      "cell_type": "markdown",
      "metadata": {},
      "source": [
        "# Nurse Staffing Recommendations\n",
        "\n",
        "Analysis of the Center for Medicare & Medicaid Services Nurse Staffing\n",
        "Dataset\n",
        "\n",
        "Matthew Bain  \n",
        "2024-03-22\n",
        "\n",
        "I investigate nurse staffing data to provide informed recommendations to\n",
        "a medical staffing organization.\n",
        "\n",
        "\\[…\\]\n",
        "\n",
        "## Imports"
      ],
      "id": "92816ee5-ee12-4520-a7b7-9e0459f79f21"
    },
    {
      "cell_type": "code",
      "execution_count": 3,
      "metadata": {},
      "outputs": [],
      "source": [
        "import numpy as np\n",
        "import pandas as pd\n",
        "import matplotlib.pyplot as plt\n",
        "\n",
        "from great_tables import GT\n",
        "from pandas.plotting import scatter_matrix\n",
        "\n",
        "from src.stylesheet import customize_plots\n",
        "from src.inspection import make_df, display"
      ],
      "id": "cell-6"
    },
    {
      "cell_type": "markdown",
      "metadata": {},
      "source": [
        "## The dataset\n",
        "\n",
        "We begin by exploring the data to get to know the features and patterns\n",
        "on which we will base our analysis."
      ],
      "id": "5e139772-ab7e-4ba9-a26e-72d5ab0ec9f5"
    },
    {
      "cell_type": "code",
      "execution_count": 9,
      "metadata": {},
      "outputs": [],
      "source": [
        "if 'data' not in locals():\n",
        "    data = pd.read_csv(\n",
        "        \"../data/raw/PBJ_Daily_Nurse_Staffing_Q1_2024.zip\",\n",
        "        encoding='ISO-8859-1'\n",
        "    )\n",
        "else:\n",
        "    print(\"data loaded.\")"
      ],
      "id": "cell-14"
    },
    {
      "cell_type": "code",
      "execution_count": 10,
      "metadata": {},
      "outputs": [
        {
          "output_type": "display_data",
          "metadata": {},
          "data": {
            "text/html": [
              "\n",
              "<p>5 rows × 33 columns</p>\n",
              "</div>"
            ]
          }
        }
      ],
      "source": [
        "data.sample(5)"
      ],
      "id": "cell-15"
    },
    {
      "cell_type": "code",
      "execution_count": 11,
      "metadata": {},
      "outputs": [
        {
          "output_type": "display_data",
          "metadata": {},
          "data": {
            "text/html": [
              "\n",
              "<p>52 rows × 91 columns</p>\n",
              "</div>"
            ]
          }
        }
      ],
      "source": [
        "# TODO: pivot on day\n",
        "\n",
        "data_pivoted = data.pivot_table(\n",
        "    index=\"STATE\",\n",
        "    columns=\"WorkDate\",\n",
        "    values=\"Hrs_RN\",\n",
        "    aggfunc='mean'\n",
        ")\n",
        "\n",
        "# Resetting the index for easier column access\n",
        "# data_pivoted.reset_index(inplace=True)\n",
        "data_pivoted"
      ],
      "id": "cell-16"
    },
    {
      "cell_type": "code",
      "execution_count": 24,
      "metadata": {},
      "outputs": [
        {
          "output_type": "display_data",
          "metadata": {},
          "data": {
            "text/html": [
              "\n",
              "<p>52 rows × 90 columns</p>\n",
              "</div>"
            ]
          }
        }
      ],
      "source": [
        "data_pivoted.iloc[:, 1:]"
      ],
      "id": "cell-17"
    },
    {
      "cell_type": "code",
      "execution_count": null,
      "metadata": {},
      "outputs": [],
      "source": [
        "(\n",
        "    GT(data_pivoted, rowname_col=\"STATE\")\n",
        "    .fmt_nanoplot(\n",
        "        columns=data_pivoted.columns[1:],\n",
        "        reference_line=\"mean\",\n",
        "        reference_area=[\"min\", \"q1\"]\n",
        "    )\n",
        "    .fmt_nanoplot(\n",
        "        columns=data_pivoted.columns[1:],\n",
        "        plot_type=\"bar\",\n",
        "        reference_line=\"max\",\n",
        "        reference_area=[\"max\", \"median\"]\n",
        "    )\n",
        ")"
      ],
      "id": "cell-18"
    },
    {
      "cell_type": "code",
      "execution_count": 80,
      "metadata": {},
      "outputs": [
        {
          "output_type": "display_data",
          "metadata": {},
          "data": {
            "text/html": [
              "\n",
              "<p>8 rows × 27 columns</p>\n",
              "</div>"
            ]
          }
        }
      ],
      "source": [
        "data.describe().round(1)\n",
        "# display(Markdown(data.describe().to_markdown()))"
      ],
      "id": "cell-20"
    },
    {
      "cell_type": "code",
      "execution_count": 81,
      "metadata": {},
      "outputs": [],
      "source": [
        "attributes = [\"Hrs_RN\", \"Hrs_LPN_ctr\", \"Hrs_CNA\", \"Hrs_NAtrn\", \"Hrs_MedAide\"]\n",
        "n = len(attributes)\n",
        "\n",
        "fig, axs = plt.subplots(n, n, figsize=(8, 8))\n",
        "scatter_matrix(\n",
        "    data[attributes].sample(200),\n",
        "    ax=axs, alpha=.7,\n",
        "    hist_kwds=dict(bins=15, linewidth=0)\n",
        ")\n",
        "fig.align_ylabels(axs[:, 0])\n",
        "fig.align_xlabels(axs[-1, :])\n",
        "for ax in axs.flatten():\n",
        "    ax.tick_params(axis='both', which='both', length=3.5)\n",
        "\n",
        "# save_fig(\"scatter_matrix_plot\")\n",
        "\n",
        "plt.show()"
      ],
      "id": "cell-fig-scatter-matrix"
    },
    {
      "cell_type": "code",
      "execution_count": 125,
      "metadata": {},
      "outputs": [
        {
          "output_type": "display_data",
          "metadata": {},
          "data": {
            "text/html": [
              "\n",
              "\n",
              "</div>\n",
              "        "
            ]
          }
        }
      ],
      "source": [
        "from great_tables import GT\n",
        "\n",
        "df = data.loc[150000:, [\n",
        "    \"STATE\",\n",
        "    \"COUNTY_NAME\", \"COUNTY_FIPS\",\n",
        "    \"CITY\",\n",
        "    \"PROVNAME\", \"PROVNUM\",\n",
        "    # \"MDScensus\"\n",
        "]].value_counts().reset_index()\n",
        "GT(df.head(n=10))"
      ],
      "id": "cell-22"
    },
    {
      "cell_type": "markdown",
      "metadata": {},
      "source": [
        "## Some GT examples"
      ],
      "id": "1cd7e02f-d670-4120-afe0-6d6499ec2b7b"
    },
    {
      "cell_type": "code",
      "execution_count": 91,
      "metadata": {},
      "outputs": [],
      "source": [
        "from typing import Any\n",
        "from IPython.display import display as ipy_display, HTML\n",
        "import numpy as np\n",
        "\n",
        "def display2(\n",
        "    *args,\n",
        "    globs: dict[str, Any] | None = None,\n",
        "    bold: bool = True,\n",
        "    width: str = \"400px\"  # Fixed width for each block\n",
        ") -> None:\n",
        "    \"\"\"\n",
        "    Display an informative representation of multiple objects side-by-side in Jupyter.\n",
        "\n",
        "    Parameters\n",
        "    ----------\n",
        "    *args : tuple\n",
        "        Tuple of expressions to evaluate and display.\n",
        "    globs : dict[str, Any], default=None\n",
        "        Global namespace, to give eval() access to nonlocals passed by name.\n",
        "    bold : bool, default=True\n",
        "        Option to enable/disable string styling.\n",
        "    width : str, default=\"400px\"\n",
        "        Fixed width for each displayed block in the Jupyter notebook.\n",
        "\n",
        "    Warnings\n",
        "    --------\n",
        "    This function uses `eval()` to render expressions it receives\n",
        "    as strings. Access to variables in the global namespace is controlled\n",
        "    by `globs`. Take care to only pass trusted expressions to the function.\n",
        "    \"\"\"\n",
        "\n",
        "    if globs is None:\n",
        "        globs = {}\n",
        "\n",
        "    outputs = []\n",
        "    for arg in args:\n",
        "        name = f\"<b>{arg}</b>\" if bold else arg\n",
        "        value = np.round(eval(arg, globs), 2)\n",
        "        shape = np.shape(value)\n",
        "        content = f\"<div style='width:{width}; padding:10px; float:left;'><pre>{name}\\n--- {repr(shape)} ---\\n{repr(value)}</pre></div>\"\n",
        "        outputs.append(content)\n",
        "\n",
        "    # Clearfix for layout\n",
        "    clearfix = \"<div style='clear: both;'></div>\"\n",
        "\n",
        "    # Display the HTML content in Jupyter\n",
        "    html_output = ''.join(outputs) + clearfix\n",
        "    ipy_display(HTML(html_output))\n",
        "\n",
        "    return None"
      ],
      "id": "cell-32"
    },
    {
      "cell_type": "code",
      "execution_count": 92,
      "metadata": {},
      "outputs": [
        {
          "output_type": "display_data",
          "metadata": {},
          "data": {
            "text/html": [
              "<div style='width:100px; padding:10px; float:left;'><pre><b>A</b>\n",
              "--- (2, 2) ---\n",
              "array([[1, 3],\n",
              "       [2, 4]])</pre></div><div style='width:100px; padding:10px; float:left;'><pre><b>x.T</b>\n",
              "--- (2, 1) ---\n",
              "array([[0],\n",
              "       [1]])</pre></div><div style='width:100px; padding:10px; float:left;'><pre><b>np.dot(A, x.T)</b>\n",
              "--- (2, 1) ---\n",
              "array([[3],\n",
              "       [4]])</pre></div><div style='clear: both;'></div>"
            ]
          }
        }
      ],
      "source": [
        "A = np.array([[1, 3], [2, 4]])\n",
        "x = np.array([[0, 1]])\n",
        "\n",
        "display2(\n",
        "    \"A\", \"x.T\", \"np.dot(A, x.T)\", globs=globals(), bold=True, width=\"100px\"\n",
        ")"
      ],
      "id": "cell-33"
    },
    {
      "cell_type": "code",
      "execution_count": 93,
      "metadata": {},
      "outputs": [
        {
          "output_type": "display_data",
          "metadata": {},
          "data": {
            "text/html": [
              "<div style='width:340px; padding:10px; float:left;'><pre><b>data['STATE'].value_counts()</b>\n",
              "--- (52,) ---\n",
              "STATE\n",
              "TX    105924\n",
              "CA    103740\n",
              "OH     83538\n",
              "FL     63245\n",
              "IL     61425\n",
              "PA     60515\n",
              "NY     54691\n",
              "IN     46501\n",
              "MO     44226\n",
              "MI     38402\n",
              "NC     37310\n",
              "IA     36036\n",
              "GA     31941\n",
              "NJ     31395\n",
              "MA     31122\n",
              "MN     30758\n",
              "WI     29484\n",
              "TN     27300\n",
              "KS     27118\n",
              "VA     26117\n",
              "OK     25116\n",
              "KY     24115\n",
              "LA     23751\n",
              "AL     20293\n",
              "MD     20020\n",
              "AR     19747\n",
              "CO     19110\n",
              "MS     18200\n",
              "CT     17836\n",
              "WA     17199\n",
              "SC     16835\n",
              "NE     16289\n",
              "AZ     12649\n",
              "OR     11557\n",
              "WV     11102\n",
              "UT      8918\n",
              "SD      8554\n",
              "ME      7371\n",
              "ID      7280\n",
              "ND      6734\n",
              "RI      6643\n",
              "NH      6643\n",
              "NM      6006\n",
              "NV      5824\n",
              "MT      5369\n",
              "DE      3913\n",
              "HI      3731\n",
              "VT      3094\n",
              "WY      2912\n",
              "DC      1547\n",
              "AK      1365\n",
              "PR       455\n",
              "Name: count, dtype: int64</pre></div><div style='width:340px; padding:10px; float:left;'><pre><b>data['COUNTY_NAME'].value_counts()</b>\n",
              "--- (1671,) ---\n",
              "COUNTY_NAME\n",
              "Los Angeles    33124\n",
              "Cook           18564\n",
              "Montgomery     16835\n",
              "Jefferson      16471\n",
              "Washington     12831\n",
              "               ...  \n",
              "Lanier            91\n",
              "Twiggs            91\n",
              "Vinton            91\n",
              "Boundary          91\n",
              "Refugio           91\n",
              "Name: count, Length: 1671, dtype: int64</pre></div><div style='width:340px; padding:10px; float:left;'><pre><b>data['CITY'].value_counts()</b>\n",
              "--- (5092,) ---\n",
              "CITY\n",
              "CHICAGO          7098\n",
              "LOS ANGELES      6916\n",
              "CINCINNATI       6279\n",
              "HOUSTON          5824\n",
              "SAN ANTONIO      5460\n",
              "                 ... \n",
              "LINCROFT           91\n",
              "WYCKOFF            91\n",
              "FLORHAM PARK       91\n",
              "NEW BRUNSWICK      91\n",
              "HORSESHOE BAY      91\n",
              "Name: count, Length: 5092, dtype: int64</pre></div><div style='width:340px; padding:10px; float:left;'><pre><b>data['PROVNAME'].value_counts()</b>\n",
              "--- (14441,) ---\n",
              "PROVNAME\n",
              "MILLER'S MERRY MANOR                                  1092\n",
              "PARKVIEW CARE CENTER                                   455\n",
              "LITTLE SISTERS OF THE POOR                             455\n",
              "HERITAGE MANOR                                         273\n",
              "RIVERSIDE NURSING AND REHABILITATION CENTER            273\n",
              "                                                      ... \n",
              "MORGANFIELD NURSING AND REHABILITATION CENTER           91\n",
              "CAMPBELLSVILLE NURSING AND REHABILITATION CENTER        91\n",
              "FRANKLIN-SIMPSON NURSING AND REHABILITATION CENTER      91\n",
              "GRAND HAVEN NURSING HOME                                91\n",
              "TIERRA ESTE NURSING AND REHABILITATION CENTER           91\n",
              "Name: count, Length: 14441, dtype: int64</pre></div><div style='width:340px; padding:10px; float:left;'><pre><b>data['MDScensus'].value_counts()</b>\n",
              "--- (635,) ---\n",
              "MDScensus\n",
              "56     15160\n",
              "57     15116\n",
              "58     15051\n",
              "55     14830\n",
              "53     14618\n",
              "       ...  \n",
              "622        1\n",
              "629        1\n",
              "730        1\n",
              "634        1\n",
              "617        1\n",
              "Name: count, Length: 635, dtype: int64</pre></div><div style='clear: both;'></div>"
            ]
          }
        }
      ],
      "source": [
        "display2(\n",
        "    \"data['STATE'].value_counts()\",\n",
        "    \"data['COUNTY_NAME'].value_counts()\",\n",
        "    \"data['CITY'].value_counts()\",\n",
        "    \"data['PROVNAME'].value_counts()\",\n",
        "    \"data['MDScensus'].value_counts()\",\n",
        "    width=\"340px\",\n",
        "    globs=globals()\n",
        ")"
      ],
      "id": "cell-34"
    },
    {
      "cell_type": "code",
      "execution_count": 94,
      "metadata": {},
      "outputs": [
        {
          "output_type": "display_data",
          "metadata": {},
          "data": {
            "text/html": [
              "\n",
              "<p>1330966 rows × 3 columns</p>\n",
              "</div>"
            ]
          }
        }
      ],
      "source": [
        "data[[\"CY_Qtr\", \"WorkDate\", \"MDScensus\"]]"
      ],
      "id": "cell-35"
    },
    {
      "cell_type": "markdown",
      "metadata": {},
      "source": [
        "## SQL"
      ],
      "id": "324a9f20-ce5c-44ee-a64c-3f80c4bb8d8a"
    }
  ],
  "nbformat": 4,
  "nbformat_minor": 5,
  "metadata": {
    "kernelspec": {
      "name": "python3",
      "display_name": "clipboard-CMS",
      "language": "python"
    },
    "language_info": {
      "name": "python",
      "codemirror_mode": {
        "name": "ipython",
        "version": "3"
      },
      "file_extension": ".py",
      "mimetype": "text/x-python",
      "nbconvert_exporter": "python",
      "pygments_lexer": "ipython3",
      "version": "3.11.10"
    }
  }
}