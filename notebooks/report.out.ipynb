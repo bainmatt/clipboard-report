{
  "cells": [
    {
      "cell_type": "markdown",
      "metadata": {},
      "source": [
        "# Nurse staffing strategies for enhanced patient care\n",
        "\n",
        "Analysis of the Center for Medicare & Medicaid Services Nurse Staffing\n",
        "Dataset\n",
        "\n",
        "Matthew Bain  \n",
        "2024-03-22\n",
        "\n",
        "I analyze a medical staffing dataset and identify avenues to improve\n",
        "work satisfaction among nurses and the quality of care provided at\n",
        "United States medical institutions.\n",
        "\n",
        "\\[…\\]\n",
        "\n",
        "## Imports"
      ],
      "id": "54702cf8-87f5-4440-bf01-d3da6e93fb7c"
    },
    {
      "cell_type": "code",
      "execution_count": 4,
      "metadata": {},
      "outputs": [],
      "source": [
        "import numpy as np\n",
        "import pandas as pd\n",
        "import matplotlib.pyplot as plt\n",
        "\n",
        "from scipy import stats\n",
        "from great_tables import GT\n",
        "from itertools import combinations\n",
        "from pandas.plotting import scatter_matrix\n",
        "from IPython.display import (\n",
        "    display as display3,\n",
        "    Markdown\n",
        ")\n",
        "\n",
        "from src.stylesheet import customize_plots\n",
        "from src.inspection import make_df, display, display2"
      ],
      "id": "cell-4"
    },
    {
      "cell_type": "markdown",
      "metadata": {},
      "source": [
        "## The dataset\n",
        "\n",
        "### Load the data\n",
        "\n",
        "We begin by exploring the data to get to know the features and patterns\n",
        "on which we will base our analysis."
      ],
      "id": "afccde7e-a2f3-492e-9eea-8239b6bcb4a5"
    },
    {
      "cell_type": "code",
      "execution_count": 6,
      "metadata": {},
      "outputs": [],
      "source": [
        "if 'data' not in locals():\n",
        "    data = pd.read_csv(\n",
        "        \"../data/raw/PBJ_Daily_Nurse_Staffing_Q1_2024.zip\",\n",
        "        encoding='ISO-8859-1',\n",
        "        low_memory=False\n",
        "    )\n",
        "else:\n",
        "    print(\"data loaded.\")"
      ],
      "id": "cell-9"
    },
    {
      "cell_type": "markdown",
      "metadata": {},
      "source": [
        "### Inspect the data"
      ],
      "id": "65be0935-f6e9-4fa5-9231-18f35621e84b"
    },
    {
      "cell_type": "code",
      "execution_count": 7,
      "metadata": {},
      "outputs": [
        {
          "output_type": "display_data",
          "metadata": {},
          "data": {
            "text/html": [
              "\n",
              "\n",
              "</div>\n",
              "        "
            ]
          }
        }
      ],
      "source": [
        "GT(data.sample(10))"
      ],
      "id": "cell-11"
    },
    {
      "cell_type": "code",
      "execution_count": 9,
      "metadata": {},
      "outputs": [
        {
          "output_type": "display_data",
          "metadata": {},
          "data": {
            "text/html": [
              "\n",
              "\n",
              "</div>\n",
              "        "
            ]
          }
        }
      ],
      "source": [
        "df = data.describe().round(1)\n",
        "GT(df.reset_index())"
      ],
      "id": "cell-13"
    },
    {
      "cell_type": "markdown",
      "metadata": {},
      "source": [
        "### Group the features\n",
        "\n",
        "We note that there are 91 records per provider\n",
        "(`len(data[\"WorkDate\"].unique())`) and 1,330,966 records in the table\n",
        "overall. The following table, which collapses the raw data across\n",
        "providers, thus has 14,626 $\\left( \\frac{1330966}{91} \\right)$ entries."
      ],
      "id": "1b4b92b4-c0bf-4a29-bf20-2ff21bc466e9"
    },
    {
      "cell_type": "code",
      "execution_count": 10,
      "metadata": {},
      "outputs": [],
      "source": [
        "df = (\n",
        "    data.loc[:, [\n",
        "        \"STATE\",\n",
        "        \"COUNTY_NAME\", \"COUNTY_FIPS\",\n",
        "        \"CITY\",\n",
        "        \"PROVNAME\", \"PROVNUM\",\n",
        "    ]]\n",
        "    .value_counts()\n",
        "    .to_frame()\n",
        "    .rename(columns={0: 'Counts'})\n",
        ")\n",
        "GT(df.reset_index().head(n=20))"
      ],
      "id": "235f805c-85d0-450f-9d54-52c2f5cd16b3"
    },
    {
      "cell_type": "code",
      "execution_count": 12,
      "metadata": {},
      "outputs": [],
      "source": [
        "GT(data[[\"CY_Qtr\", \"WorkDate\", \"MDScensus\"]].head())"
      ],
      "id": "cell-18"
    },
    {
      "cell_type": "markdown",
      "metadata": {},
      "source": [
        "### Clean the data\n",
        "\n",
        "## Explore the dataset\n",
        "\n",
        "### Visualize distributions\n",
        "\n",
        "### Visualize relationships"
      ],
      "id": "7ad20b71-a541-4850-95a4-3edb81387255"
    },
    {
      "cell_type": "code",
      "execution_count": 13,
      "metadata": {},
      "outputs": [],
      "source": [
        "attributes = [\"Hrs_RN\", \"Hrs_LPN_ctr\", \"Hrs_CNA\", \"Hrs_NAtrn\", \"Hrs_MedAide\"]\n",
        "n = len(attributes)\n",
        "\n",
        "fig, axs = plt.subplots(n, n, figsize=(8, 8))\n",
        "scatter_matrix(\n",
        "    data[attributes].sample(200),\n",
        "    ax=axs, alpha=.7,\n",
        "    hist_kwds=dict(bins=15, linewidth=0)\n",
        ")\n",
        "fig.align_ylabels(axs[:, 0])\n",
        "fig.align_xlabels(axs[-1, :])\n",
        "for ax in axs.flatten():\n",
        "    ax.tick_params(axis='both', which='both', length=3.5)\n",
        "\n",
        "# save_fig(\"scatter_matrix_plot\")\n",
        "\n",
        "plt.show()"
      ],
      "id": "cell-fig-scatter-matrix"
    },
    {
      "cell_type": "markdown",
      "metadata": {},
      "source": [
        "### Compare groups\n",
        "\n",
        "> **Note 1: \\[Recommendation\\].**"
      ],
      "id": "fe127593-0491-4a18-8153-60db28ee362a"
    },
    {
      "cell_type": "code",
      "execution_count": 14,
      "metadata": {},
      "outputs": [
        {
          "output_type": "display_data",
          "metadata": {},
          "data": {}
        }
      ],
      "source": [
        "##| fig-subcap:\n",
        "##|   - Average working hours with 95% confidence intervals.\n",
        "##|   - Results of group comparisons by independent t-tests.\n",
        "\n",
        "N_GROUPS = 6\n",
        "N_LEVELS = 1\n",
        "\n",
        "data_ = np.random.normal(loc=5, scale=3.0, size=(N_GROUPS, N_LEVELS, 10))\n",
        "\n",
        "# Calculate averages and confidence intervals\n",
        "averages = np.mean(data_, axis=2)\n",
        "conf_intervals = np.zeros_like(averages, dtype=float)\n",
        "\n",
        "for group_idx in range(N_GROUPS):\n",
        "    for level_idx in range(N_LEVELS):\n",
        "        interval = stats.t.interval(\n",
        "            0.95,\n",
        "            len(data_[group_idx, level_idx]) - 1,\n",
        "            loc=np.mean(data_[group_idx, level_idx]),\n",
        "            scale=stats.sem(data_[group_idx, level_idx])\n",
        "        )\n",
        "\n",
        "        # Use upper bound\n",
        "        conf_intervals[group_idx, level_idx] = np.abs(\n",
        "            interval[1] - averages[group_idx, level_idx]\n",
        "        )\n",
        "\n",
        "# -- Plot grouped bars with confidence intervals -----------------------------\n",
        "\n",
        "width = 0.2\n",
        "colors = plt.cm.Blues_r(np.linspace(.15, .85, N_LEVELS))\n",
        "line_thickness = 0.6\n",
        "stagger_amount = 0.8\n",
        "\n",
        "fig, ax = plt.subplots()\n",
        "\n",
        "for level_idx in range(N_LEVELS):\n",
        "    bars = ax.bar(\n",
        "        np.arange(N_GROUPS) + level_idx * width - (width * (N_LEVELS - 1) / 2),\n",
        "        averages[:, level_idx],\n",
        "        yerr=conf_intervals[:, level_idx],\n",
        "        width=width,\n",
        "        edgecolor=\"white\",\n",
        "        alpha=0.85,\n",
        "        # capsize=3,\n",
        "        color=colors[level_idx],\n",
        "        error_kw={'elinewidth': line_thickness, 'capsize': 0},\n",
        "        label=f'Level {level_idx + 1}',\n",
        "    )\n",
        "\n",
        "# Style\n",
        "ax.set_ylabel('Values')\n",
        "\n",
        "group_labels = [f'Group {i}' for i in range(1, N_GROUPS + 1)]\n",
        "ax.set_xticks(np.arange(N_GROUPS))\n",
        "ax.set_xticklabels(group_labels, rotation=60, ha='right')\n",
        "\n",
        "# ax.legend(title='', bbox_to_anchor=(1.05, 1), loc='upper left')\n",
        "\n",
        "# -- Add staggered sigbars and asterisks for select btwn-group comparisons ---\n",
        "\n",
        "significance_level = 0.09\n",
        "stagger_index = 0\n",
        "stats_list = []\n",
        "\n",
        "for comb in combinations(range(N_GROUPS), 2):\n",
        "    group1_center = ax.get_xticks()[comb[0]]\n",
        "    group2_center = ax.get_xticks()[comb[1]]\n",
        "\n",
        "    t_stat, p_value = stats.ttest_ind(\n",
        "        data_[comb[0], :, :].flatten(),\n",
        "        data_[comb[1], :, :].flatten()\n",
        "    )\n",
        "\n",
        "    if p_value < significance_level:\n",
        "        tallest_bar_height = np.max(averages) + np.max(conf_intervals) + 0.5\n",
        "\n",
        "        # Adjust the stagger amount\n",
        "        significance_height = (\n",
        "            tallest_bar_height\n",
        "            + np.max(conf_intervals) * 0.07\n",
        "            + stagger_index * stagger_amount\n",
        "        )\n",
        "\n",
        "        # Plot staggered lines aligned with the midpoints of compared groups\n",
        "        ax.plot(\n",
        "            [group1_center, group2_center],\n",
        "            [significance_height] * 2,\n",
        "            color='black',\n",
        "            lw=line_thickness\n",
        "        )\n",
        "\n",
        "        # Plot asterisks aligned with the center of the significance bars\n",
        "        asterisks = (\n",
        "            '*' * sum([p_value < alpha for alpha in [0.01, 0.001, 0.0001]])\n",
        "        )\n",
        "        ax.text(\n",
        "            (group1_center + group2_center) / 2,\n",
        "            significance_height,\n",
        "            asterisks,\n",
        "            ha='center',\n",
        "            va='bottom',\n",
        "            fontsize=10\n",
        "        )\n",
        "\n",
        "        # Increment the index for staggered bars\n",
        "        stagger_index += 1\n",
        "\n",
        "        # Store significant comparisons, t values, and sample sizes\n",
        "        sample_size1 = len(data_[comb[0], :, :].flatten())\n",
        "        sample_size2 = len(data_[comb[1], :, :].flatten())\n",
        "        stats_list.append({\n",
        "            \"Comparison\":\n",
        "                f'{group_labels[comb[0]]} vs {group_labels[comb[1]]}',\n",
        "            \"p-value\":\n",
        "                f\"{p_value:.4f}\",\n",
        "            \"t-statistic\":\n",
        "                f\"{t_stat:.4f}\",\n",
        "            \"Sample Size\": (\n",
        "                f'{group_labels[comb[0]]} = {sample_size1}, '\n",
        "                f'{group_labels[comb[1]]} = {sample_size2}'\n",
        "            )\n",
        "        })\n",
        "\n",
        "# Style and show\n",
        "ax.spines[['top', 'right']].set_visible(False)\n",
        "ax.spines[['bottom', 'left']].set_visible(False)\n",
        "ax.set_axisbelow(True)\n",
        "\n",
        "ax.grid(axis='y')\n",
        "plt.tight_layout()\n",
        "plt.show()\n",
        "\n",
        "stats_df = pd.DataFrame(stats_list)"
      ],
      "id": "cell-fig-comparisons"
    },
    {
      "cell_type": "code",
      "execution_count": 15,
      "metadata": {},
      "outputs": [],
      "source": [],
      "id": "5ec5157f-8215-42ec-a7d8-87b41ca55603"
    },
    {
      "cell_type": "markdown",
      "metadata": {},
      "source": [
        "## Feature engineer\n",
        "\n",
        "### Join geographical data\n",
        "\n",
        "### Join seasonal data\n",
        "\n",
        "## Analyze geography\n",
        "\n",
        "## Analyze seasonality\n",
        "\n",
        "## Model\n",
        "\n",
        "## Extra visualizations\n",
        "\n",
        "### Sparklines"
      ],
      "id": "da3daa0b-fef8-477f-85dd-92baa599911a"
    },
    {
      "cell_type": "code",
      "execution_count": 17,
      "metadata": {},
      "outputs": [],
      "source": [
        "# Plot sparklines of average work hours across 91 days by state\n",
        "(\n",
        "    GT(gt_df.head(), rowname_col=\"STATE\")\n",
        "    .fmt_nanoplot(\n",
        "        columns=\"lines\",\n",
        "        reference_line=\"mean\",\n",
        "        reference_area=[\"min\", \"q1\"]\n",
        "    )\n",
        "    .tab_header(\n",
        "        title=\"Nurse hours worked in the United States\",\n",
        "        subtitle=\"The top 5 busiest states\",\n",
        "    )\n",
        "    .tab_stubhead(label=\"State\")\n",
        "    .cols_label(\n",
        "        lines=\"Total hours worked over 91 days\",\n",
        "    )\n",
        ")"
      ],
      "id": "cell-fig-sparklines"
    },
    {
      "cell_type": "markdown",
      "metadata": {},
      "source": [
        "## Concluding thoughts\n",
        "\n",
        "(see <a href=\"#nte-rec1\" class=\"quarto-xref\">Note 1</a>)"
      ],
      "id": "79606f3f-2470-4737-9861-631c4ee93614"
    }
  ],
  "nbformat": 4,
  "nbformat_minor": 5,
  "metadata": {
    "kernelspec": {
      "name": "python3",
      "display_name": "clipboard-CMS",
      "language": "python"
    },
    "language_info": {
      "name": "python",
      "codemirror_mode": {
        "name": "ipython",
        "version": "3"
      },
      "file_extension": ".py",
      "mimetype": "text/x-python",
      "nbconvert_exporter": "python",
      "pygments_lexer": "ipython3",
      "version": "3.11.0"
    }
  }
}