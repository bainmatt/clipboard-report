{
  "cells": [
    {
      "cell_type": "markdown",
      "metadata": {},
      "source": [
        "# Nurse staffing strategies for enhanced patient care\n",
        "\n",
        "Analysis of the Center for Medicare & Medicaid Services Nurse Staffing\n",
        "Dataset\n",
        "\n",
        "Matthew Bain  \n",
        "2024-03-22\n",
        "\n",
        "I analyze a medical staffing dataset and identify avenues to improve\n",
        "work satisfaction among nurses and the quality of care provided at\n",
        "United States medical institutions.\n",
        "\n",
        "\\[…\\]\n",
        "\n",
        "## Imports"
      ],
      "id": "218ffee9-278f-4622-8218-23ad91a916cd"
    },
    {
      "cell_type": "code",
      "execution_count": 24,
      "metadata": {},
      "outputs": [],
      "source": [
        "import numpy as np\n",
        "import pandas as pd\n",
        "import matplotlib.pyplot as plt\n",
        "\n",
        "from great_tables import GT\n",
        "from pandas.plotting import scatter_matrix\n",
        "\n",
        "from src.stylesheet import customize_plots\n",
        "from src.inspection import make_df, display, display2"
      ],
      "id": "cell-4"
    },
    {
      "cell_type": "markdown",
      "metadata": {},
      "source": [
        "## The dataset\n",
        "\n",
        "### Load the data\n",
        "\n",
        "We begin by exploring the data to get to know the features and patterns\n",
        "on which we will base our analysis."
      ],
      "id": "8a74151d-1d3d-4ade-a836-7286e6cd450b"
    },
    {
      "cell_type": "code",
      "execution_count": 38,
      "metadata": {},
      "outputs": [],
      "source": [
        "if 'data' not in locals():\n",
        "    data = pd.read_csv(\n",
        "        \"../data/raw/PBJ_Daily_Nurse_Staffing_Q1_2024.zip\",\n",
        "        encoding='ISO-8859-1',\n",
        "        low_memory=False\n",
        "    )\n",
        "else:\n",
        "    print(\"data loaded.\")"
      ],
      "id": "cell-9"
    },
    {
      "cell_type": "markdown",
      "metadata": {},
      "source": [
        "### Inspect the data"
      ],
      "id": "db4bee75-03b3-44a7-8bba-ebde4fab71bf"
    },
    {
      "cell_type": "code",
      "execution_count": 39,
      "metadata": {},
      "outputs": [
        {
          "output_type": "display_data",
          "metadata": {},
          "data": {
            "text/html": [
              "\n",
              "<p>5 rows × 33 columns</p>\n",
              "</div>"
            ]
          }
        }
      ],
      "source": [
        "data.sample(5)"
      ],
      "id": "cell-11"
    },
    {
      "cell_type": "code",
      "execution_count": 40,
      "metadata": {},
      "outputs": [
        {
          "output_type": "stream",
          "name": "stdout",
          "text": [
            "<class 'pandas.core.frame.DataFrame'>\n",
            "RangeIndex: 1330966 entries, 0 to 1330965\n",
            "Data columns (total 33 columns):\n",
            " #   Column            Non-Null Count    Dtype  \n",
            "---  ------            --------------    -----  \n",
            " 0   PROVNUM           1330966 non-null  object \n",
            " 1   PROVNAME          1330966 non-null  object \n",
            " 2   CITY              1330966 non-null  object \n",
            " 3   STATE             1330966 non-null  object \n",
            " 4   COUNTY_NAME       1330966 non-null  object \n",
            " 5   COUNTY_FIPS       1330966 non-null  int64  \n",
            " 6   CY_Qtr            1330966 non-null  object \n",
            " 7   WorkDate          1330966 non-null  int64  \n",
            " 8   MDScensus         1330966 non-null  int64  \n",
            " 9   Hrs_RNDON         1330966 non-null  float64\n",
            " 10  Hrs_RNDON_emp     1330966 non-null  float64\n",
            " 11  Hrs_RNDON_ctr     1330966 non-null  float64\n",
            " 12  Hrs_RNadmin       1330966 non-null  float64\n",
            " 13  Hrs_RNadmin_emp   1330966 non-null  float64\n",
            " 14  Hrs_RNadmin_ctr   1330966 non-null  float64\n",
            " 15  Hrs_RN            1330966 non-null  float64\n",
            " 16  Hrs_RN_emp        1330966 non-null  float64\n",
            " 17  Hrs_RN_ctr        1330966 non-null  float64\n",
            " 18  Hrs_LPNadmin      1330966 non-null  float64\n",
            " 19  Hrs_LPNadmin_emp  1330966 non-null  float64\n",
            " 20  Hrs_LPNadmin_ctr  1330966 non-null  float64\n",
            " 21  Hrs_LPN           1330966 non-null  float64\n",
            " 22  Hrs_LPN_emp       1330966 non-null  float64\n",
            " 23  Hrs_LPN_ctr       1330966 non-null  float64\n",
            " 24  Hrs_CNA           1330966 non-null  float64\n",
            " 25  Hrs_CNA_emp       1330966 non-null  float64\n",
            " 26  Hrs_CNA_ctr       1330966 non-null  float64\n",
            " 27  Hrs_NAtrn         1330966 non-null  float64\n",
            " 28  Hrs_NAtrn_emp     1330966 non-null  float64\n",
            " 29  Hrs_NAtrn_ctr     1330966 non-null  float64\n",
            " 30  Hrs_MedAide       1330966 non-null  float64\n",
            " 31  Hrs_MedAide_emp   1330966 non-null  float64\n",
            " 32  Hrs_MedAide_ctr   1330966 non-null  float64\n",
            "dtypes: float64(24), int64(3), object(6)"
          ]
        }
      ],
      "source": [
        "data.info(memory_usage=False)"
      ],
      "id": "cell-12"
    },
    {
      "cell_type": "code",
      "execution_count": 41,
      "metadata": {},
      "outputs": [
        {
          "output_type": "display_data",
          "metadata": {},
          "data": {
            "text/html": [
              "\n",
              "<p>8 rows × 27 columns</p>\n",
              "</div>"
            ]
          }
        }
      ],
      "source": [
        "data.describe().round(1)\n",
        "# display(Markdown(data.describe().to_markdown()))"
      ],
      "id": "cell-13"
    },
    {
      "cell_type": "markdown",
      "metadata": {},
      "source": [
        "### Group the features"
      ],
      "id": "384102ef-b16d-4323-b91f-e3d8649ac05c"
    },
    {
      "cell_type": "code",
      "execution_count": 42,
      "metadata": {},
      "outputs": [
        {
          "output_type": "display_data",
          "metadata": {},
          "data": {
            "text/html": [
              "\n",
              "<p>14626 rows × 1 columns</p>\n",
              "</div>"
            ]
          }
        }
      ],
      "source": [
        "df = data.loc[:, [\n",
        "    \"STATE\",\n",
        "    \"COUNTY_NAME\", \"COUNTY_FIPS\",\n",
        "    \"CITY\",\n",
        "    \"PROVNAME\", \"PROVNUM\",\n",
        "    # \"MDScensus\"\n",
        "]].value_counts()\n",
        "df.to_frame()\n",
        "# GT(df.reset_index().head(n=5))"
      ],
      "id": "cell-15"
    },
    {
      "cell_type": "code",
      "execution_count": 43,
      "metadata": {},
      "outputs": [
        {
          "output_type": "display_data",
          "metadata": {},
          "data": {
            "text/html": [
              "<div style='width:340px; padding:10px; float:left;'><pre><b>data['STATE'].value_counts()</b>\n",
              "--- (52,) ---\n",
              "STATE\n",
              "TX    105924\n",
              "CA    103740\n",
              "OH     83538\n",
              "FL     63245\n",
              "IL     61425\n",
              "PA     60515\n",
              "NY     54691\n",
              "IN     46501\n",
              "MO     44226\n",
              "MI     38402\n",
              "NC     37310\n",
              "IA     36036\n",
              "GA     31941\n",
              "NJ     31395\n",
              "MA     31122\n",
              "MN     30758\n",
              "WI     29484\n",
              "TN     27300\n",
              "KS     27118\n",
              "VA     26117\n",
              "OK     25116\n",
              "KY     24115\n",
              "LA     23751\n",
              "AL     20293\n",
              "MD     20020\n",
              "AR     19747\n",
              "CO     19110\n",
              "MS     18200\n",
              "CT     17836\n",
              "WA     17199\n",
              "SC     16835\n",
              "NE     16289\n",
              "AZ     12649\n",
              "OR     11557\n",
              "WV     11102\n",
              "UT      8918\n",
              "SD      8554\n",
              "ME      7371\n",
              "ID      7280\n",
              "ND      6734\n",
              "RI      6643\n",
              "NH      6643\n",
              "NM      6006\n",
              "NV      5824\n",
              "MT      5369\n",
              "DE      3913\n",
              "HI      3731\n",
              "VT      3094\n",
              "WY      2912\n",
              "DC      1547\n",
              "AK      1365\n",
              "PR       455\n",
              "Name: count, dtype: int64</pre></div><div style='width:340px; padding:10px; float:left;'><pre><b>data['COUNTY_NAME'].value_counts()</b>\n",
              "--- (1671,) ---\n",
              "COUNTY_NAME\n",
              "Los Angeles    33124\n",
              "Cook           18564\n",
              "Montgomery     16835\n",
              "Jefferson      16471\n",
              "Washington     12831\n",
              "               ...  \n",
              "Lanier            91\n",
              "Twiggs            91\n",
              "Vinton            91\n",
              "Boundary          91\n",
              "Refugio           91\n",
              "Name: count, Length: 1671, dtype: int64</pre></div><div style='width:340px; padding:10px; float:left;'><pre><b>data['CITY'].value_counts()</b>\n",
              "--- (5092,) ---\n",
              "CITY\n",
              "CHICAGO          7098\n",
              "LOS ANGELES      6916\n",
              "CINCINNATI       6279\n",
              "HOUSTON          5824\n",
              "SAN ANTONIO      5460\n",
              "                 ... \n",
              "LINCROFT           91\n",
              "WYCKOFF            91\n",
              "FLORHAM PARK       91\n",
              "NEW BRUNSWICK      91\n",
              "HORSESHOE BAY      91\n",
              "Name: count, Length: 5092, dtype: int64</pre></div><div style='width:340px; padding:10px; float:left;'><pre><b>data['PROVNAME'].value_counts()</b>\n",
              "--- (14441,) ---\n",
              "PROVNAME\n",
              "MILLER'S MERRY MANOR                                  1092\n",
              "PARKVIEW CARE CENTER                                   455\n",
              "LITTLE SISTERS OF THE POOR                             455\n",
              "HERITAGE MANOR                                         273\n",
              "RIVERSIDE NURSING AND REHABILITATION CENTER            273\n",
              "                                                      ... \n",
              "MORGANFIELD NURSING AND REHABILITATION CENTER           91\n",
              "CAMPBELLSVILLE NURSING AND REHABILITATION CENTER        91\n",
              "FRANKLIN-SIMPSON NURSING AND REHABILITATION CENTER      91\n",
              "GRAND HAVEN NURSING HOME                                91\n",
              "TIERRA ESTE NURSING AND REHABILITATION CENTER           91\n",
              "Name: count, Length: 14441, dtype: int64</pre></div><div style='width:340px; padding:10px; float:left;'><pre><b>data['MDScensus'].value_counts()</b>\n",
              "--- (635,) ---\n",
              "MDScensus\n",
              "56     15160\n",
              "57     15116\n",
              "58     15051\n",
              "55     14830\n",
              "53     14618\n",
              "       ...  \n",
              "622        1\n",
              "629        1\n",
              "730        1\n",
              "634        1\n",
              "617        1\n",
              "Name: count, Length: 635, dtype: int64</pre></div><div style='clear: both;'></div>"
            ]
          }
        }
      ],
      "source": [
        "display2(\n",
        "    \"data['STATE'].value_counts()\",\n",
        "    \"data['COUNTY_NAME'].value_counts()\",\n",
        "    \"data['CITY'].value_counts()\",\n",
        "    \"data['PROVNAME'].value_counts()\",\n",
        "    \"data['MDScensus'].value_counts()\",\n",
        "    width=\"340px\",\n",
        "    globs=globals()\n",
        ")"
      ],
      "id": "cell-16"
    },
    {
      "cell_type": "code",
      "execution_count": 44,
      "metadata": {},
      "outputs": [
        {
          "output_type": "display_data",
          "metadata": {},
          "data": {
            "text/html": [
              "\n",
              "<p>1330966 rows × 3 columns</p>\n",
              "</div>"
            ]
          }
        }
      ],
      "source": [
        "data[[\"CY_Qtr\", \"WorkDate\", \"MDScensus\"]]"
      ],
      "id": "cell-17"
    },
    {
      "cell_type": "markdown",
      "metadata": {},
      "source": [
        "### Clean the data\n",
        "\n",
        "## Explore the dataset\n",
        "\n",
        "### Visualize distributions\n",
        "\n",
        "### Visualize relationships"
      ],
      "id": "a271bc9d-6b45-4ee8-a09c-83f5ff756e79"
    },
    {
      "cell_type": "code",
      "execution_count": 33,
      "metadata": {},
      "outputs": [],
      "source": [
        "attributes = [\"Hrs_RN\", \"Hrs_LPN_ctr\", \"Hrs_CNA\", \"Hrs_NAtrn\", \"Hrs_MedAide\"]\n",
        "n = len(attributes)\n",
        "\n",
        "fig, axs = plt.subplots(n, n, figsize=(8, 8))\n",
        "scatter_matrix(\n",
        "    data[attributes].sample(200),\n",
        "    ax=axs, alpha=.7,\n",
        "    hist_kwds=dict(bins=15, linewidth=0)\n",
        ")\n",
        "fig.align_ylabels(axs[:, 0])\n",
        "fig.align_xlabels(axs[-1, :])\n",
        "for ax in axs.flatten():\n",
        "    ax.tick_params(axis='both', which='both', length=3.5)\n",
        "\n",
        "# save_fig(\"scatter_matrix_plot\")\n",
        "\n",
        "plt.show()"
      ],
      "id": "cell-fig-scatter-matrix"
    },
    {
      "cell_type": "markdown",
      "metadata": {},
      "source": [
        "### Compare groups\n",
        "\n",
        "## Feature engineer\n",
        "\n",
        "### Join geographical data\n",
        "\n",
        "### Join seasonal data\n",
        "\n",
        "## Analyze geography\n",
        "\n",
        "## Analyze seasonality\n",
        "\n",
        "## Model\n",
        "\n",
        "## Extra visualizations\n",
        "\n",
        "### Sparklines"
      ],
      "id": "45b26983-5e1e-4581-b124-7c9a256d7f0d"
    },
    {
      "cell_type": "code",
      "execution_count": 34,
      "metadata": {},
      "outputs": [
        {
          "output_type": "display_data",
          "metadata": {},
          "data": {
            "text/html": [
              "\n",
              "<p>5 rows × 91 columns</p>\n",
              "</div>"
            ]
          }
        }
      ],
      "source": [
        "# TODO: pivot on day\n",
        "\n",
        "data_pivoted = data.pivot_table(\n",
        "    index=\"STATE\",\n",
        "    columns=\"WorkDate\",\n",
        "    values=\"Hrs_RN\",\n",
        "    aggfunc='mean'\n",
        ")\n",
        "\n",
        "# Resetting the index for easier column access\n",
        "# data_pivoted.reset_index(inplace=True)\n",
        "data_pivoted.head()"
      ],
      "id": "cell-32"
    },
    {
      "cell_type": "code",
      "execution_count": 35,
      "metadata": {},
      "outputs": [],
      "source": [
        "# (\n",
        "#     GT(data_pivoted, rowname_col=\"STATE\")\n",
        "#     .fmt_nanoplot(\n",
        "#         columns=data_pivoted.columns[1:],\n",
        "#         reference_line=\"mean\",\n",
        "#         reference_area=[\"min\", \"q1\"]\n",
        "#     )\n",
        "#     .fmt_nanoplot(\n",
        "#         columns=data_pivoted.columns[1:],\n",
        "#         plot_type=\"bar\",\n",
        "#         reference_line=\"max\",\n",
        "#         reference_area=[\"max\", \"median\"]\n",
        "#     )\n",
        "# )"
      ],
      "id": "cell-33"
    },
    {
      "cell_type": "markdown",
      "metadata": {},
      "source": [
        "## Archive"
      ],
      "id": "a6e01096-164a-444d-92e2-b4166062872d"
    }
  ],
  "nbformat": 4,
  "nbformat_minor": 5,
  "metadata": {
    "kernelspec": {
      "name": "python3",
      "display_name": "clipboard-CMS",
      "language": "python"
    },
    "language_info": {
      "name": "python",
      "codemirror_mode": {
        "name": "ipython",
        "version": "3"
      },
      "file_extension": ".py",
      "mimetype": "text/x-python",
      "nbconvert_exporter": "python",
      "pygments_lexer": "ipython3",
      "version": "3.11.0"
    }
  }
}