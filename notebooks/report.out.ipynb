{
  "cells": [
    {
      "cell_type": "markdown",
      "metadata": {},
      "source": [
        "# Nurse staffing strategies for enhanced patient care\n",
        "\n",
        "Analysis of the Center for Medicare & Medicaid Services Nurse Staffing\n",
        "Dataset\n",
        "\n",
        "Matthew Bain  \n",
        "2024-03-22\n",
        "\n",
        "I analyze a medical staffing dataset and identify avenues to improve\n",
        "work satisfaction among nurses and the quality of care provided at\n",
        "United States medical institutions.\n",
        "\n",
        "\\[…\\]\n",
        "\n",
        "## Imports"
      ],
      "id": "727d7ecd-7636-479d-b239-5423203409e0"
    },
    {
      "cell_type": "code",
      "execution_count": 2,
      "metadata": {},
      "outputs": [],
      "source": [
        "import numpy as np\n",
        "import pandas as pd\n",
        "import matplotlib.pyplot as plt\n",
        "\n",
        "from great_tables import GT\n",
        "from pandas.plotting import scatter_matrix\n",
        "\n",
        "from src.stylesheet import customize_plots\n",
        "from src.inspection import make_df, display, display2"
      ],
      "id": "cell-4"
    },
    {
      "cell_type": "markdown",
      "metadata": {},
      "source": [
        "## The dataset\n",
        "\n",
        "### Load the data\n",
        "\n",
        "We begin by exploring the data to get to know the features and patterns\n",
        "on which we will base our analysis."
      ],
      "id": "ba48b641-a203-4acc-88dc-263774f99eca"
    },
    {
      "cell_type": "code",
      "execution_count": 4,
      "metadata": {},
      "outputs": [],
      "source": [
        "if 'data' not in locals():\n",
        "    data = pd.read_csv(\n",
        "        \"../data/raw/PBJ_Daily_Nurse_Staffing_Q1_2024.zip\",\n",
        "        encoding='ISO-8859-1',\n",
        "        low_memory=False\n",
        "    )\n",
        "else:\n",
        "    print(\"data loaded.\")"
      ],
      "id": "cell-9"
    },
    {
      "cell_type": "markdown",
      "metadata": {},
      "source": [
        "### Inspect the data"
      ],
      "id": "aa2723c4-bf53-459b-9a6f-3e3131693d70"
    },
    {
      "cell_type": "code",
      "execution_count": 18,
      "metadata": {},
      "outputs": [
        {
          "output_type": "display_data",
          "metadata": {},
          "data": {
            "text/html": [
              "\n",
              "\n",
              "</div>\n",
              "        "
            ]
          }
        }
      ],
      "source": [
        "GT(data.sample(10))"
      ],
      "id": "cell-11"
    },
    {
      "cell_type": "code",
      "execution_count": 7,
      "metadata": {},
      "outputs": [
        {
          "output_type": "display_data",
          "metadata": {},
          "data": {
            "text/html": [
              "\n",
              "\n",
              "</div>\n",
              "        "
            ]
          }
        }
      ],
      "source": [
        "df = data.describe().round(1)\n",
        "# display(Markdown(df.to_markdown()))\n",
        "GT(df.reset_index())"
      ],
      "id": "cell-13"
    },
    {
      "cell_type": "markdown",
      "metadata": {},
      "source": [
        "### Group the features\n",
        "\n",
        "We note that there are 91 records per provider\n",
        "(`len(data[\"WorkDate\"].unique())`) and 1,330,966 records in the table\n",
        "overall. The following table, which collapses the raw data across\n",
        "providers, thus has 14,626 $\\left( \\frac{1330966}{91} \\right)$ entries."
      ],
      "id": "c366495a-6a50-474f-9c01-ee32cfda31d9"
    },
    {
      "cell_type": "code",
      "execution_count": 8,
      "metadata": {},
      "outputs": [
        {
          "output_type": "display_data",
          "metadata": {},
          "data": {
            "text/html": [
              "\n",
              "\n",
              "</div>\n",
              "        "
            ]
          }
        }
      ],
      "source": [
        "df = data.loc[:, [\n",
        "    \"STATE\",\n",
        "    \"COUNTY_NAME\", \"COUNTY_FIPS\",\n",
        "    \"CITY\",\n",
        "    \"PROVNAME\", \"PROVNUM\",\n",
        "    # \"MDScensus\"\n",
        "]].value_counts()\n",
        "# df.to_frame()\n",
        "GT(df.reset_index().head(n=20))"
      ],
      "id": "cell-16"
    },
    {
      "cell_type": "code",
      "execution_count": 17,
      "metadata": {},
      "outputs": [
        {
          "output_type": "display_data",
          "metadata": {},
          "data": {
            "text/html": [
              "\n",
              "\n",
              "</div>\n",
              "        "
            ]
          }
        }
      ],
      "source": [
        "GT(data[[\"CY_Qtr\", \"WorkDate\", \"MDScensus\"]].head())"
      ],
      "id": "cell-18"
    },
    {
      "cell_type": "markdown",
      "metadata": {},
      "source": [
        "### Clean the data\n",
        "\n",
        "## Explore the dataset\n",
        "\n",
        "### Visualize distributions\n",
        "\n",
        "### Visualize relationships"
      ],
      "id": "15176630-6e76-4d13-9344-050ed24427fe"
    },
    {
      "cell_type": "code",
      "execution_count": 11,
      "metadata": {},
      "outputs": [],
      "source": [
        "attributes = [\"Hrs_RN\", \"Hrs_LPN_ctr\", \"Hrs_CNA\", \"Hrs_NAtrn\", \"Hrs_MedAide\"]\n",
        "n = len(attributes)\n",
        "\n",
        "fig, axs = plt.subplots(n, n, figsize=(8, 8))\n",
        "scatter_matrix(\n",
        "    data[attributes].sample(200),\n",
        "    ax=axs, alpha=.7,\n",
        "    hist_kwds=dict(bins=15, linewidth=0)\n",
        ")\n",
        "fig.align_ylabels(axs[:, 0])\n",
        "fig.align_xlabels(axs[-1, :])\n",
        "for ax in axs.flatten():\n",
        "    ax.tick_params(axis='both', which='both', length=3.5)\n",
        "\n",
        "# save_fig(\"scatter_matrix_plot\")\n",
        "\n",
        "plt.show()"
      ],
      "id": "cell-fig-scatter-matrix"
    },
    {
      "cell_type": "markdown",
      "metadata": {},
      "source": [
        "### Compare groups\n",
        "\n",
        "## Feature engineer\n",
        "\n",
        "### Join geographical data\n",
        "\n",
        "### Join seasonal data\n",
        "\n",
        "## Analyze geography\n",
        "\n",
        "## Analyze seasonality\n",
        "\n",
        "## Model\n",
        "\n",
        "## Extra visualizations\n",
        "\n",
        "### Sparklines"
      ],
      "id": "11a32aa6-9021-43bc-8a10-60b9df6660fc"
    },
    {
      "cell_type": "code",
      "execution_count": 85,
      "metadata": {},
      "outputs": [],
      "source": [
        "# Plot sparklines of average work hours across 91 days by state\n",
        "(\n",
        "    GT(gt_df.head(), rowname_col=\"STATE\")\n",
        "    .fmt_nanoplot(\n",
        "        columns=\"lines\",\n",
        "        reference_line=\"mean\",\n",
        "        reference_area=[\"min\", \"q1\"]\n",
        "    )\n",
        "    .tab_header(\n",
        "        title=\"Nurse hours worked in the United States\",\n",
        "        subtitle=\"The top 5 busiest states\",\n",
        "    )\n",
        "    .tab_stubhead(label=\"State\")\n",
        "    .cols_label(\n",
        "        lines=\"Total hours worked over 91 days\",\n",
        "    )\n",
        ")"
      ],
      "id": "cell-fig-sparklines"
    },
    {
      "cell_type": "markdown",
      "metadata": {},
      "source": [
        "## Archive"
      ],
      "id": "97a43e92-5a9d-4235-8222-e9bda9f51096"
    }
  ],
  "nbformat": 4,
  "nbformat_minor": 5,
  "metadata": {
    "kernelspec": {
      "name": "python3",
      "display_name": "clipboard-CMS",
      "language": "python"
    },
    "language_info": {
      "name": "python",
      "codemirror_mode": {
        "name": "ipython",
        "version": "3"
      },
      "file_extension": ".py",
      "mimetype": "text/x-python",
      "nbconvert_exporter": "python",
      "pygments_lexer": "ipython3",
      "version": "3.11.0"
    }
  }
}