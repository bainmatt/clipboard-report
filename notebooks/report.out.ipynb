{
  "cells": [
    {
      "cell_type": "markdown",
      "metadata": {},
      "source": [
        "# Nurse staffing strategies for enhanced patient care\n",
        "\n",
        "Analysis of the Center for Medicare & Medicaid Services Nurse Staffing\n",
        "Dataset\n",
        "\n",
        "Matthew Bain  \n",
        "2024-03-22\n",
        "\n",
        "I analyze a medical staffing dataset and identify avenues to improve\n",
        "work satisfaction among nurses and the quality of care provided at\n",
        "United States medical institutions.\n",
        "\n",
        "\\[…\\]\n",
        "\n",
        "## Imports"
      ],
      "id": "9a8e09a3-2c8b-4926-bd8e-d76b252435c5"
    },
    {
      "cell_type": "code",
      "execution_count": 2,
      "metadata": {},
      "outputs": [],
      "source": [
        "import numpy as np\n",
        "import pandas as pd\n",
        "import matplotlib.pyplot as plt\n",
        "\n",
        "from scipy import stats\n",
        "from great_tables import GT\n",
        "from itertools import combinations\n",
        "from pandas.plotting import scatter_matrix\n",
        "from IPython.display import (\n",
        "    display as display3,\n",
        "    Markdown\n",
        ")\n",
        "\n",
        "from src.paths import get_path_to\n",
        "from src.stylesheet import customize_plots\n",
        "from src.inspection import make_df, display, display2"
      ],
      "id": "cell-4"
    },
    {
      "cell_type": "markdown",
      "metadata": {},
      "source": [
        "## The dataset\n",
        "\n",
        "### Load the data\n",
        "\n",
        "We begin by exploring the data to get to know the features and patterns\n",
        "on which we will base our analysis."
      ],
      "id": "00b60a6d-9508-477c-9d33-3cbbd711b3a4"
    },
    {
      "cell_type": "code",
      "execution_count": 4,
      "metadata": {},
      "outputs": [],
      "source": [
        "if 'data' not in locals():\n",
        "    data = pd.read_csv(\n",
        "        get_path_to(\"data\", \"raw\", \"PBJ_Daily_Nurse_Staffing_Q1_2024.zip\"),\n",
        "        encoding='ISO-8859-1',\n",
        "        low_memory=False\n",
        "    )\n",
        "else:\n",
        "    print(\"data loaded.\")"
      ],
      "id": "cell-9"
    },
    {
      "cell_type": "markdown",
      "metadata": {},
      "source": [
        "### Inspect the data"
      ],
      "id": "1f555ef6-f0d1-44b8-99c8-d470529328eb"
    },
    {
      "cell_type": "code",
      "execution_count": 5,
      "metadata": {},
      "outputs": [
        {
          "output_type": "display_data",
          "metadata": {},
          "data": {
            "text/html": [
              "\n",
              "\n",
              "</div>\n",
              "        "
            ]
          }
        }
      ],
      "source": [
        "GT(data.sample(10))"
      ],
      "id": "cell-11"
    },
    {
      "cell_type": "code",
      "execution_count": 7,
      "metadata": {},
      "outputs": [
        {
          "output_type": "display_data",
          "metadata": {},
          "data": {
            "text/html": [
              "\n",
              "\n",
              "</div>\n",
              "        "
            ]
          }
        }
      ],
      "source": [
        "df = data.describe().round(1)\n",
        "GT(df.reset_index())"
      ],
      "id": "cell-13"
    },
    {
      "cell_type": "markdown",
      "metadata": {},
      "source": [
        "### Group the features\n",
        "\n",
        "We note that there are 91 records per provider\n",
        "(`len(data[\"WorkDate\"].unique())`) and 1,330,966 records in the table\n",
        "overall. The following table, which collapses the raw data across\n",
        "providers, thus has 14,626 $\\left( \\frac{1330966}{91} \\right)$ entries."
      ],
      "id": "30a08ded-b92d-42f1-bd6e-d54e4648a47a"
    },
    {
      "cell_type": "code",
      "execution_count": 8,
      "metadata": {},
      "outputs": [],
      "source": [
        "df = (\n",
        "    data.loc[:, [\n",
        "        \"STATE\",\n",
        "        \"COUNTY_NAME\", \"COUNTY_FIPS\",\n",
        "        \"CITY\",\n",
        "        \"PROVNAME\", \"PROVNUM\",\n",
        "    ]]\n",
        "    .value_counts()\n",
        "    .to_frame()\n",
        "    .rename(columns={0: 'Counts'})\n",
        ")\n",
        "GT(df.reset_index().head(n=20))"
      ],
      "id": "03d47e7e-e3a7-4156-bc2e-5f202afa01e9"
    },
    {
      "cell_type": "code",
      "execution_count": 10,
      "metadata": {},
      "outputs": [],
      "source": [
        "GT(data[[\"CY_Qtr\", \"WorkDate\", \"MDScensus\"]].head())"
      ],
      "id": "cell-18"
    },
    {
      "cell_type": "code",
      "execution_count": 11,
      "metadata": {},
      "outputs": [
        {
          "output_type": "display_data",
          "metadata": {},
          "data": {
            "text/html": [
              "\n",
              "<p>1330966 rows × 8 columns</p>\n",
              "</div>"
            ]
          }
        }
      ],
      "source": [
        "# Normalize feature names\n",
        "# data.rename(columns=lambda name: name.replace('_', ' ').capitalize())\n",
        "\n",
        "# Group by location for geographic view\n",
        "# data.groupby(by=[\"STATE\", \"CITY\"])[\"Hrs_NAtrn\"].sum()\n",
        "\n",
        "# Pivot by date for historical view\n",
        "\n",
        "# Query\n",
        "# (data\n",
        "#  .query(\"Hrs_NAtrn > 0 and STATE in ['AL', 'AZ'] and WorkDate > 20240315\")\n",
        "# )\n",
        "\n",
        "# Subset feature groups\n",
        "data.filter(regex=r'^Hrs_[^_]+$', axis='columns')\n",
        "# data.filter(like=\"Hrs_RNDON\", axis=\"columns\")\n",
        "\n",
        "# Drop\n",
        "# data.drop(columns=data.filter(regex=\"^CY_Qtr$\").columns, inplace=False)"
      ],
      "id": "cell-19"
    },
    {
      "cell_type": "markdown",
      "metadata": {},
      "source": [
        "### Clean the data"
      ],
      "id": "3d11cd75-6b95-470e-9996-079a4b43e229"
    },
    {
      "cell_type": "code",
      "execution_count": 12,
      "metadata": {},
      "outputs": [],
      "source": [
        "# Normalize feature names (lowercase and remove underscores)\n",
        "\n",
        "# Normalize categorical features (make a column title case)\n",
        "# data['CITY'].str.title()"
      ],
      "id": "cell-21"
    },
    {
      "cell_type": "markdown",
      "metadata": {},
      "source": [
        "## Explore the dataset\n",
        "\n",
        "### Visualize distributions\n",
        "\n",
        "### Visualize relationships"
      ],
      "id": "c1c3ac98-0bbb-4332-847d-2eaf8311a129"
    },
    {
      "cell_type": "code",
      "execution_count": 13,
      "metadata": {},
      "outputs": [],
      "source": [
        "attributes = [\"Hrs_RN\", \"Hrs_LPN_ctr\", \"Hrs_CNA\", \"Hrs_NAtrn\", \"Hrs_MedAide\"]\n",
        "n = len(attributes)\n",
        "\n",
        "fig, axs = plt.subplots(n, n, figsize=(8, 8))\n",
        "scatter_matrix(\n",
        "    data[attributes].sample(200),\n",
        "    ax=axs, alpha=.7,\n",
        "    hist_kwds=dict(bins=15, linewidth=0)\n",
        ")\n",
        "fig.align_ylabels(axs[:, 0])\n",
        "fig.align_xlabels(axs[-1, :])\n",
        "for ax in axs.flatten():\n",
        "    ax.tick_params(axis='both', which='both', length=3.5)\n",
        "\n",
        "# save_fig(\"scatter_matrix_plot\")\n",
        "\n",
        "plt.show()"
      ],
      "id": "cell-fig-scatter-matrix"
    },
    {
      "cell_type": "markdown",
      "metadata": {},
      "source": [
        "### Compare groups\n",
        "\n",
        "> **Note 1: \\[Recommendation\\].**"
      ],
      "id": "b1875519-1eb9-48dd-89b0-c73afa8dc95e"
    },
    {
      "cell_type": "code",
      "execution_count": 14,
      "metadata": {},
      "outputs": [],
      "source": [
        "##| fig-subcap:\n",
        "##|   - Average working hours with 95% confidence intervals.\n",
        "##|   - Results of group comparisons by independent t-tests.\n",
        "\n",
        "N_GROUPS = 6\n",
        "N_LEVELS = 1\n",
        "\n",
        "data_ = np.random.normal(loc=5, scale=3.0, size=(N_GROUPS, N_LEVELS, 10))\n",
        "\n",
        "# Calculate averages and confidence intervals\n",
        "averages = np.mean(data_, axis=2)\n",
        "conf_intervals = np.zeros_like(averages, dtype=float)\n",
        "\n",
        "for group_idx in range(N_GROUPS):\n",
        "    for level_idx in range(N_LEVELS):\n",
        "        interval = stats.t.interval(\n",
        "            0.95,\n",
        "            len(data_[group_idx, level_idx]) - 1,\n",
        "            loc=np.mean(data_[group_idx, level_idx]),\n",
        "            scale=stats.sem(data_[group_idx, level_idx])\n",
        "        )\n",
        "\n",
        "        # Use upper bound\n",
        "        conf_intervals[group_idx, level_idx] = np.abs(\n",
        "            interval[1] - averages[group_idx, level_idx]\n",
        "        )\n",
        "\n",
        "# -- Plot grouped bars with confidence intervals -----------------------------\n",
        "\n",
        "width = 0.2\n",
        "colors = plt.cm.Blues_r(np.linspace(.15, .85, N_LEVELS))\n",
        "line_thickness = 0.6\n",
        "stagger_amount = 0.8\n",
        "\n",
        "fig, ax = plt.subplots()\n",
        "\n",
        "for level_idx in range(N_LEVELS):\n",
        "    bars = ax.bar(\n",
        "        np.arange(N_GROUPS) + level_idx * width - (width * (N_LEVELS - 1) / 2),\n",
        "        averages[:, level_idx],\n",
        "        yerr=conf_intervals[:, level_idx],\n",
        "        width=width,\n",
        "        edgecolor=\"white\",\n",
        "        alpha=0.85,\n",
        "        # capsize=3,\n",
        "        color=colors[level_idx],\n",
        "        error_kw={'elinewidth': line_thickness, 'capsize': 0},\n",
        "        label=f'Level {level_idx + 1}',\n",
        "    )\n",
        "\n",
        "# Style\n",
        "ax.set_ylabel('Values')\n",
        "\n",
        "group_labels = [f'Group {i}' for i in range(1, N_GROUPS + 1)]\n",
        "ax.set_xticks(np.arange(N_GROUPS))\n",
        "ax.set_xticklabels(group_labels, rotation=60, ha='right')\n",
        "\n",
        "# ax.legend(title='', bbox_to_anchor=(1.05, 1), loc='upper left')\n",
        "\n",
        "# -- Add staggered sigbars and asterisks for select btwn-group comparisons ---\n",
        "\n",
        "significance_level = 0.09\n",
        "stagger_index = 0\n",
        "stats_list = []\n",
        "\n",
        "for comb in combinations(range(N_GROUPS), 2):\n",
        "    group1_center = ax.get_xticks()[comb[0]]\n",
        "    group2_center = ax.get_xticks()[comb[1]]\n",
        "\n",
        "    t_stat, p_value = stats.ttest_ind(\n",
        "        data_[comb[0], :, :].flatten(),\n",
        "        data_[comb[1], :, :].flatten()\n",
        "    )\n",
        "\n",
        "    if p_value < significance_level:\n",
        "        tallest_bar_height = np.max(averages) + np.max(conf_intervals) + 0.5\n",
        "\n",
        "        # Adjust the stagger amount\n",
        "        significance_height = (\n",
        "            tallest_bar_height\n",
        "            + np.max(conf_intervals) * 0.07\n",
        "            + stagger_index * stagger_amount\n",
        "        )\n",
        "\n",
        "        # Plot staggered lines aligned with the midpoints of compared groups\n",
        "        ax.plot(\n",
        "            [group1_center, group2_center],\n",
        "            [significance_height] * 2,\n",
        "            color='black',\n",
        "            lw=line_thickness\n",
        "        )\n",
        "\n",
        "        # Plot asterisks aligned with the center of the significance bars\n",
        "        asterisks = (\n",
        "            '*' * sum([p_value < alpha for alpha in [0.01, 0.001, 0.0001]])\n",
        "        )\n",
        "        ax.text(\n",
        "            (group1_center + group2_center) / 2,\n",
        "            significance_height,\n",
        "            asterisks,\n",
        "            ha='center',\n",
        "            va='bottom',\n",
        "            fontsize=10\n",
        "        )\n",
        "\n",
        "        # Increment the index for staggered bars\n",
        "        stagger_index += 1\n",
        "\n",
        "        # Store significant comparisons, t values, and sample sizes\n",
        "        sample_size1 = len(data_[comb[0], :, :].flatten())\n",
        "        sample_size2 = len(data_[comb[1], :, :].flatten())\n",
        "        stats_list.append({\n",
        "            \"Comparison\":\n",
        "                f'{group_labels[comb[0]]} vs {group_labels[comb[1]]}',\n",
        "            \"p-value\":\n",
        "                f\"{p_value:.4f}\",\n",
        "            \"t-statistic\":\n",
        "                f\"{t_stat:.4f}\",\n",
        "            \"Sample Size\": (\n",
        "                f'{group_labels[comb[0]]} = {sample_size1}, '\n",
        "                f'{group_labels[comb[1]]} = {sample_size2}'\n",
        "            )\n",
        "        })\n",
        "\n",
        "# Style and show\n",
        "ax.spines[['top', 'right']].set_visible(False)\n",
        "ax.spines[['bottom', 'left']].set_visible(False)\n",
        "ax.set_axisbelow(True)\n",
        "\n",
        "ax.grid(axis='y')\n",
        "plt.tight_layout()\n",
        "plt.show()\n",
        "\n",
        "stats_df = pd.DataFrame(stats_list)"
      ],
      "id": "cell-fig-comparisons"
    },
    {
      "cell_type": "markdown",
      "metadata": {},
      "source": [
        "<table>\n",
        "<colgroup>\n",
        "<col style=\"width: 100%\" />\n",
        "</colgroup>\n",
        "<tbody>\n",
        "<tr class=\"odd\">\n",
        "<td\n",
        "style=\"text-align: center;\"><div id=\"tuuhhhuooa\" style=\"padding-left:0px;padding-right:0px;padding-top:10px;padding-bottom:10px;overflow-x:auto;overflow-y:auto;width:auto;height:auto;\">\n",
        "<style>\n",
        "#tuuhhhuooa table {\n",
        "          font-family: -apple-system, BlinkMacSystemFont, 'Segoe UI', Roboto, Oxygen, Ubuntu, Cantarell, 'Helvetica Neue', 'Fira Sans', 'Droid Sans', Arial, sans-serif;\n",
        "          -webkit-font-smoothing: antialiased;\n",
        "          -moz-osx-font-smoothing: grayscale;\n",
        "        }\n",
        "&#10;#tuuhhhuooa thead, tbody, tfoot, tr, td, th { border-style: none !important; }\n",
        " tr { background-color: transparent !important; }\n",
        "#tuuhhhuooa p { margin: 0 !important; padding: 0 !important; }\n",
        " #tuuhhhuooa .gt_table { display: table !important; border-collapse: collapse !important; line-height: normal !important; margin-left: auto !important; margin-right: auto !important; color: #333333 !important; font-size: 16px !important; font-weight: normal !important; font-style: normal !important; background-color: #FFFFFF !important; width: auto !important; border-top-style: solid !important; border-top-width: 2px !important; border-top-color: #A8A8A8 !important; border-right-style: none !important; border-right-width: 2px !important; border-right-color: #D3D3D3 !important; border-bottom-style: solid !important; border-bottom-width: 2px !important; border-bottom-color: #A8A8A8 !important; border-left-style: none !important; border-left-width: 2px !important; border-left-color: #D3D3D3 !important; }\n",
        " #tuuhhhuooa .gt_caption { padding-top: 4px !important; padding-bottom: 4px !important; }\n",
        " #tuuhhhuooa .gt_title { color: #333333 !important; font-size: 125% !important; font-weight: initial !important; padding-top: 4px !important; padding-bottom: 4px !important; padding-left: 5px !important; padding-right: 5px !important; border-bottom-color: #FFFFFF !important; border-bottom-width: 0 !important; }\n",
        " #tuuhhhuooa .gt_subtitle { color: #333333 !important; font-size: 85% !important; font-weight: initial !important; padding-top: 3px !important; padding-bottom: 5px !important; padding-left: 5px !important; padding-right: 5px !important; border-top-color: #FFFFFF !important; border-top-width: 0 !important; }\n",
        " #tuuhhhuooa .gt_heading { background-color: #FFFFFF !important; text-align: center !important; border-bottom-color: #FFFFFF !important; border-left-style: none !important; border-left-width: 1px !important; border-left-color: #D3D3D3 !important; border-right-style: none !important; border-right-width: 1px !important; border-right-color: #D3D3D3 !important; }\n",
        " #tuuhhhuooa .gt_bottom_border { border-bottom-style: solid !important; border-bottom-width: 2px !important; border-bottom-color: #D3D3D3 !important; }\n",
        " #tuuhhhuooa .gt_col_headings { border-top-style: solid !important; border-top-width: 2px !important; border-top-color: #D3D3D3 !important; border-bottom-style: solid !important; border-bottom-width: 2px !important; border-bottom-color: #D3D3D3 !important; border-left-style: none !important; border-left-width: 1px !important; border-left-color: #D3D3D3 !important; border-right-style: none !important; border-right-width: 1px !important; border-right-color: #D3D3D3 !important; }\n",
        " #tuuhhhuooa .gt_col_heading { color: #333333 !important; background-color: #FFFFFF !important; font-size: 100% !important; font-weight: normal !important; text-transform: inherit !important; border-left-style: none !important; border-left-width: 1px !important; border-left-color: #D3D3D3 !important; border-right-style: none !important; border-right-width: 1px !important; border-right-color: #D3D3D3 !important; vertical-align: bottom !important; padding-top: 5px !important; padding-bottom: 5px !important; padding-left: 5px !important; padding-right: 5px !important; overflow-x: hidden !important; }\n",
        " #tuuhhhuooa .gt_column_spanner_outer { color: #333333 !important; background-color: #FFFFFF !important; font-size: 100% !important; font-weight: normal !important; text-transform: inherit !important; padding-top: 0 !important; padding-bottom: 0 !important; padding-left: 4px !important; padding-right: 4px !important; }\n",
        " #tuuhhhuooa .gt_column_spanner_outer:first-child { padding-left: 0 !important; }\n",
        " #tuuhhhuooa .gt_column_spanner_outer:last-child { padding-right: 0 !important; }\n",
        " #tuuhhhuooa .gt_column_spanner { border-bottom-style: solid !important; border-bottom-width: 2px !important; border-bottom-color: #D3D3D3 !important; vertical-align: bottom !important; padding-top: 5px !important; padding-bottom: 5px !important; overflow-x: hidden !important; display: inline-block !important; width: 100% !important; }\n",
        " #tuuhhhuooa .gt_spanner_row { border-bottom-style: hidden !important; }\n",
        " #tuuhhhuooa .gt_group_heading { padding-top: 8px !important; padding-bottom: 8px !important; padding-left: 5px !important; padding-right: 5px !important; color: #333333 !important; background-color: #FFFFFF !important; font-size: 100% !important; font-weight: initial !important; text-transform: inherit !important; border-top-style: solid !important; border-top-width: 2px !important; border-top-color: #D3D3D3 !important; border-bottom-style: solid !important; border-bottom-width: 2px !important; border-bottom-color: #D3D3D3 !important; border-left-style: none !important; border-left-width: 1px !important; border-left-color: #D3D3D3 !important; border-right-style: none !important; border-right-width: 1px !important; border-right-color: #D3D3D3 !important; vertical-align: middle !important; text-align: left !important; }\n",
        " #tuuhhhuooa .gt_empty_group_heading { padding: 0.5px !important; color: #333333 !important; background-color: #FFFFFF !important; font-size: 100% !important; font-weight: initial !important; border-top-style: solid !important; border-top-width: 2px !important; border-top-color: #D3D3D3 !important; border-bottom-style: solid !important; border-bottom-width: 2px !important; border-bottom-color: #D3D3D3 !important; vertical-align: middle !important; }\n",
        " #tuuhhhuooa .gt_from_md> :first-child { margin-top: 0 !important; }\n",
        " #tuuhhhuooa .gt_from_md> :last-child { margin-bottom: 0 !important; }\n",
        " #tuuhhhuooa .gt_row { padding-top: 8px !important; padding-bottom: 8px !important; padding-left: 5px !important; padding-right: 5px !important; margin: 10px !important; border-top-style: solid !important; border-top-width: 1px !important; border-top-color: #D3D3D3 !important; border-left-style: none !important; border-left-width: 1px !important; border-left-color: #D3D3D3 !important; border-right-style: none !important; border-right-width: 1px !important; border-right-color: #D3D3D3 !important; vertical-align: middle !important; overflow-x: hidden !important; }\n",
        " #tuuhhhuooa .gt_stub { color: #333333 !important; background-color: #FFFFFF !important; font-size: 100% !important; font-weight: initial !important; text-transform: inherit !important; border-right-style: solid !important; border-right-width: 2px !important; border-right-color: #D3D3D3 !important; padding-left: 5px !important; padding-right: 5px !important; }\n",
        " #tuuhhhuooa .gt_stub_row_group { color: #333333 !important; background-color: #FFFFFF !important; font-size: 100% !important; font-weight: initial !important; text-transform: inherit !important; border-right-style: solid !important; border-right-width: 2px !important; border-right-color: #D3D3D3 !important; padding-left: 5px !important; padding-right: 5px !important; vertical-align: top !important; }\n",
        " #tuuhhhuooa .gt_row_group_first td { border-top-width: 2px !important; }\n",
        " #tuuhhhuooa .gt_row_group_first th { border-top-width: 2px !important; }\n",
        " #tuuhhhuooa .gt_striped { background-color: rgba(128,128,128,0.05) !important; }\n",
        " #tuuhhhuooa .gt_table_body { border-top-style: solid !important; border-top-width: 2px !important; border-top-color: #D3D3D3 !important; border-bottom-style: solid !important; border-bottom-width: 2px !important; border-bottom-color: #D3D3D3 !important; }\n",
        " #tuuhhhuooa .gt_sourcenotes { color: #333333 !important; background-color: #FFFFFF !important; border-bottom-style: none !important; border-bottom-width: 2px !important; border-bottom-color: #D3D3D3 !important; border-left-style: none !important; border-left-width: 2px !important; border-left-color: #D3D3D3 !important; border-right-style: none !important; border-right-width: 2px !important; border-right-color: #D3D3D3 !important; }\n",
        " #tuuhhhuooa .gt_sourcenote { font-size: 90% !important; padding-top: 4px !important; padding-bottom: 4px !important; padding-left: 5px !important; padding-right: 5px !important; text-align: left !important; }\n",
        " #tuuhhhuooa .gt_left { text-align: left !important; }\n",
        " #tuuhhhuooa .gt_center { text-align: center !important; }\n",
        " #tuuhhhuooa .gt_right { text-align: right !important; font-variant-numeric: tabular-nums !important; }\n",
        " #tuuhhhuooa .gt_font_normal { font-weight: normal !important; }\n",
        " #tuuhhhuooa .gt_font_bold { font-weight: bold !important; }\n",
        " #tuuhhhuooa .gt_font_italic { font-style: italic !important; }\n",
        " #tuuhhhuooa .gt_super { font-size: 65% !important; }\n",
        " #tuuhhhuooa .gt_footnote_marks { font-size: 75% !important; vertical-align: 0.4em !important; position: initial !important; }\n",
        " #tuuhhhuooa .gt_asterisk { font-size: 100% !important; vertical-align: 0 !important; }\n",
        " &#10;</style>\n",
        "&#10;<table class=\"gt_table do-not-create-environment cell\"\n",
        "data-quarto-postprocess=\"true\" data-quarto-disable-processing=\"false\"\n",
        "data-quarto-bootstrap=\"false\">\n",
        "<tbody class=\"gt_table_body\">\n",
        "</tbody>\n",
        "</table>\n",
        "&#10;\n",
        "</div>\n",
        "        </td>\n",
        "</tr>\n",
        "</tbody>\n",
        "</table>\n",
        "\n",
        "Table 2: Results of group comparisons by independent t-tests.\n",
        "\n",
        "## Feature engineer\n",
        "\n",
        "### Join geographical data"
      ],
      "id": "06bcc491-5c72-4608-9cf0-15059cb4f3bc"
    },
    {
      "cell_type": "code",
      "execution_count": 16,
      "metadata": {},
      "outputs": [],
      "source": [
        "if 'uscities' not in locals():\n",
        "    uscities = pd.read_csv(\n",
        "        get_path_to(\"data\", \"raw\", \"uscities\", \"uscities.csv\"),\n",
        "        encoding='ISO-8859-1',\n",
        "        low_memory=False\n",
        "    )\n",
        "else:\n",
        "    print(\"data loaded.\")\n",
        "    \n",
        "GT(uscities.sample(5))"
      ],
      "id": "cell-32"
    },
    {
      "cell_type": "code",
      "execution_count": 17,
      "metadata": {},
      "outputs": [],
      "source": [
        "data_ = data.copy()\n",
        "data_[\"CITY\"] = data_['CITY'].str.title()\n",
        "data_.rename(columns={\"CITY\": \"city\"}, inplace=True)"
      ],
      "id": "cell-33"
    },
    {
      "cell_type": "code",
      "execution_count": 18,
      "metadata": {},
      "outputs": [
        {
          "output_type": "display_data",
          "metadata": {},
          "data": {
            "text/html": [
              "\n",
              "\n",
              "</div>\n",
              "        "
            ]
          }
        }
      ],
      "source": [
        "# Join\n",
        "data_geo = data_.join(uscities.set_index(\"city\")[[\"lat\", \"lng\"]], on=\"city\")\n",
        "GT(data_geo.head())"
      ],
      "id": "cell-34"
    },
    {
      "cell_type": "code",
      "execution_count": 19,
      "metadata": {},
      "outputs": [
        {
          "output_type": "display_data",
          "metadata": {},
          "data": {
            "text/html": [
              "\n",
              "<p>4646 rows × 4 columns</p>\n",
              "</div>"
            ]
          }
        }
      ],
      "source": [
        "# Sum aggregate hours columns\n",
        "data_geo[\"total hours\"] = (\n",
        "    data_geo\n",
        "    .filter(regex=r'^Hrs_[^_]+$', axis='columns')\n",
        "    .sum(axis=1)\n",
        ")\n",
        "\n",
        "# Group hours by city (collapse across date)\n",
        "data_geo_ = (\n",
        "    data_geo\n",
        "    .dropna()\n",
        "    .groupby(by=[\"city\"], as_index=False)\n",
        "    .agg({\"total hours\": \"sum\", \"lat\": \"first\", \"lng\": \"first\"})\n",
        "    .rename(columns={\"total hours\": \"total_hours_sum\"})\n",
        ")\n",
        "\n",
        "data_geo_"
      ],
      "id": "cell-35"
    },
    {
      "cell_type": "code",
      "execution_count": 34,
      "metadata": {},
      "outputs": [],
      "source": [
        "import geopandas as gpd\n",
        "\n",
        "gdf = gpd.GeoDataFrame(\n",
        "    data_geo_,\n",
        "    geometry=gpd.points_from_xy(data_geo_[\"lng\"], data_geo_[\"lat\"])\n",
        ")\n",
        "\n",
        "# Load a world map for plotting\n",
        "world = gpd.read_file(gpd.datasets.get_path(\"naturalearth_lowres\"))\n",
        "# us = world[world['name'] == \"United States\"]\n",
        "\n",
        "# Plot the map in the background\n",
        "fig, ax = plt.subplots(figsize=(8, 6))\n",
        "world.plot(ax=ax, color=\"white\")\n",
        "\n",
        "# ?Normalize the hours for color mapping\n",
        "norm = plt.Normalize(\n",
        "    vmin=gdf[\"total_hours_sum\"].min(),\n",
        "    vmax=gdf[\"total_hours_sum\"].max()\n",
        ")\n",
        "cmap = plt.cm.Jet\n",
        "\n",
        "# Plot the cities on top of the US map, color and size by total_hours_sum\n",
        "gdf.plot(\n",
        "    ax=ax,\n",
        "    # ?\n",
        "    color=gdf[\"total_hours_sum\"].apply(lambda x: cmap(norm(x))),\n",
        "    markersize=gdf[\"total_hours_sum\"] / 500000,\n",
        "    alpha=0.6\n",
        ")\n",
        "\n",
        "# Add labels to cities with total_hours_sum > 10,000\n",
        "for x, y, label, hours in zip(\n",
        "    gdf.geometry.x, gdf.geometry.y, gdf[\"city\"], gdf[\"total_hours_sum\"]\n",
        "):\n",
        "    if hours > 20000000:\n",
        "        ax.text(x, y, label, fontsize=8, ha=\"right\")\n",
        "\n",
        "# Add a color bar to show the scale of total_hours_sum\n",
        "sm = plt.cm.ScalarMappable(cmap=cmap, norm=norm)\n",
        "sm.set_array([])  # Only needed for colorbar\n",
        "cbar = plt.colorbar(sm, ax=ax, shrink=0.5)\n",
        "# cbar.set_label(\"Total Hours\")\n",
        "\n",
        "ax.set_axis_off()\n",
        "\n",
        "# plt.title(\"US Cities with Total Nurse Hours\")\n",
        "plt.xlim([-130, -65])  # Focus on the US longitude range\n",
        "plt.ylim([20, 50])     # Focus on the US latitude range\n",
        "plt.show()"
      ],
      "id": "cell-fig-geo"
    },
    {
      "cell_type": "markdown",
      "metadata": {},
      "source": [
        "### Join seasonal data\n",
        "\n",
        "## Analyze geography\n",
        "\n",
        "## Analyze seasonality\n",
        "\n",
        "## Model\n",
        "\n",
        "## Extra visualizations\n",
        "\n",
        "### Sparklines"
      ],
      "id": "00f4c356-6a09-4929-9584-043c0d6f7a7d"
    },
    {
      "cell_type": "code",
      "execution_count": 22,
      "metadata": {},
      "outputs": [],
      "source": [
        "# Plot sparklines of average work hours across 91 days by state\n",
        "(\n",
        "    GT(gt_df.head(), rowname_col=\"STATE\")\n",
        "    .fmt_nanoplot(\n",
        "        columns=\"lines\",\n",
        "        reference_line=\"mean\",\n",
        "        reference_area=[\"min\", \"q1\"]\n",
        "    )\n",
        "    .tab_header(\n",
        "        title=\"Nurse hours worked in the United States\",\n",
        "        subtitle=\"The top 5 busiest states\",\n",
        "    )\n",
        "    .tab_stubhead(label=\"State\")\n",
        "    .cols_label(\n",
        "        lines=\"Total hours worked over 91 days\",\n",
        "    )\n",
        ")"
      ],
      "id": "cell-fig-sparklines"
    },
    {
      "cell_type": "markdown",
      "metadata": {},
      "source": [
        "## Concluding thoughts\n",
        "\n",
        "(see <a href=\"#nte-rec1\" class=\"quarto-xref\">Note 1</a>)"
      ],
      "id": "cdce0519-015d-4f13-9cee-78f19539d837"
    }
  ],
  "nbformat": 4,
  "nbformat_minor": 5,
  "metadata": {
    "kernelspec": {
      "name": "python3",
      "display_name": "clipboard-CMS",
      "language": "python"
    },
    "language_info": {
      "name": "python",
      "codemirror_mode": {
        "name": "ipython",
        "version": "3"
      },
      "file_extension": ".py",
      "mimetype": "text/x-python",
      "nbconvert_exporter": "python",
      "pygments_lexer": "ipython3",
      "version": "3.11.0"
    }
  }
}