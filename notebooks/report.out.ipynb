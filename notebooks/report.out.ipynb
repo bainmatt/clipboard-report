{
  "cells": [
    {
      "cell_type": "markdown",
      "metadata": {},
      "source": [
        "# Nurse staffing strategies for enhanced patient care\n",
        "\n",
        "Analysis of the Center for Medicare & Medicaid Services Nurse Staffing\n",
        "Dataset\n",
        "\n",
        "Matthew Bain  \n",
        "2024-03-22\n",
        "\n",
        "I analyze a medical staffing dataset and identify avenues to improve\n",
        "work satisfaction among nurses and the quality of care provided at\n",
        "United States medical institutions.\n",
        "\n",
        "\\[…\\]\n",
        "\n",
        "## Imports"
      ],
      "id": "cfe4ec35-b3b1-4383-801f-e8da1527d244"
    },
    {
      "cell_type": "code",
      "execution_count": 24,
      "metadata": {},
      "outputs": [],
      "source": [
        "import numpy as np\n",
        "import pandas as pd\n",
        "import matplotlib.pyplot as plt\n",
        "\n",
        "from great_tables import GT\n",
        "from pandas.plotting import scatter_matrix\n",
        "\n",
        "from src.stylesheet import customize_plots\n",
        "from src.inspection import make_df, display, display2"
      ],
      "id": "cell-4"
    },
    {
      "cell_type": "markdown",
      "metadata": {},
      "source": [
        "## The dataset\n",
        "\n",
        "### Load the data\n",
        "\n",
        "We begin by exploring the data to get to know the features and patterns\n",
        "on which we will base our analysis."
      ],
      "id": "64b68214-b5d2-4f0f-bafc-132b7adfebcd"
    },
    {
      "cell_type": "code",
      "execution_count": 26,
      "metadata": {},
      "outputs": [],
      "source": [
        "if 'data' not in locals():\n",
        "    data = pd.read_csv(\n",
        "        \"../data/raw/PBJ_Daily_Nurse_Staffing_Q1_2024.zip\",\n",
        "        encoding='ISO-8859-1',\n",
        "        low_memory=False\n",
        "    )\n",
        "else:\n",
        "    print(\"data loaded.\")"
      ],
      "id": "cell-9"
    },
    {
      "cell_type": "markdown",
      "metadata": {},
      "source": [
        "### Inspect the data"
      ],
      "id": "71dac269-002f-4e2b-8213-6a77e377f16c"
    },
    {
      "cell_type": "code",
      "execution_count": 27,
      "metadata": {},
      "outputs": [
        {
          "output_type": "display_data",
          "metadata": {},
          "data": {
            "text/html": [
              "\n",
              "\n",
              "</div>\n",
              "        "
            ]
          }
        }
      ],
      "source": [
        "GT(data.sample(10))"
      ],
      "id": "cell-11"
    },
    {
      "cell_type": "code",
      "execution_count": 29,
      "metadata": {},
      "outputs": [
        {
          "output_type": "display_data",
          "metadata": {},
          "data": {
            "text/html": [
              "\n",
              "\n",
              "</div>\n",
              "        "
            ]
          }
        }
      ],
      "source": [
        "df = data.describe().round(1)\n",
        "GT(df.reset_index())"
      ],
      "id": "cell-13"
    },
    {
      "cell_type": "markdown",
      "metadata": {},
      "source": [
        "### Group the features\n",
        "\n",
        "We note that there are 91 records per provider\n",
        "(`len(data[\"WorkDate\"].unique())`) and 1,330,966 records in the table\n",
        "overall. The following table, which collapses the raw data across\n",
        "providers, thus has 14,626 $\\left( \\frac{1330966}{91} \\right)$ entries."
      ],
      "id": "520855b6-0f55-447f-b204-7c7114db4889"
    },
    {
      "cell_type": "code",
      "execution_count": 30,
      "metadata": {},
      "outputs": [],
      "source": [
        "df = data.loc[:, [\n",
        "    \"STATE\",\n",
        "    \"COUNTY_NAME\", \"COUNTY_FIPS\",\n",
        "    \"CITY\",\n",
        "    \"PROVNAME\", \"PROVNUM\",\n",
        "]].value_counts()\n",
        "GT(df.reset_index().head(n=20))"
      ],
      "id": "dce3ded8-4ec8-4cd0-8c1c-bd123656d6ba"
    },
    {
      "cell_type": "code",
      "execution_count": 32,
      "metadata": {},
      "outputs": [],
      "source": [
        "GT(data[[\"CY_Qtr\", \"WorkDate\", \"MDScensus\"]].head())"
      ],
      "id": "cell-18"
    },
    {
      "cell_type": "markdown",
      "metadata": {},
      "source": [
        "### Clean the data\n",
        "\n",
        "## Explore the dataset\n",
        "\n",
        "### Visualize distributions\n",
        "\n",
        "### Visualize relationships"
      ],
      "id": "e073cc8b-5d29-49d2-abe0-734eb2edcd1b"
    },
    {
      "cell_type": "code",
      "execution_count": 33,
      "metadata": {},
      "outputs": [],
      "source": [
        "attributes = [\"Hrs_RN\", \"Hrs_LPN_ctr\", \"Hrs_CNA\", \"Hrs_NAtrn\", \"Hrs_MedAide\"]\n",
        "n = len(attributes)\n",
        "\n",
        "fig, axs = plt.subplots(n, n, figsize=(8, 8))\n",
        "scatter_matrix(\n",
        "    data[attributes].sample(200),\n",
        "    ax=axs, alpha=.7,\n",
        "    hist_kwds=dict(bins=15, linewidth=0)\n",
        ")\n",
        "fig.align_ylabels(axs[:, 0])\n",
        "fig.align_xlabels(axs[-1, :])\n",
        "for ax in axs.flatten():\n",
        "    ax.tick_params(axis='both', which='both', length=3.5)\n",
        "\n",
        "# save_fig(\"scatter_matrix_plot\")\n",
        "\n",
        "plt.show()"
      ],
      "id": "cell-fig-scatter-matrix"
    },
    {
      "cell_type": "markdown",
      "metadata": {},
      "source": [
        "### Compare groups\n",
        "\n",
        "> **Note 1: \\[Recommendation\\].**\n",
        "\n",
        "## Feature engineer\n",
        "\n",
        "### Join geographical data\n",
        "\n",
        "### Join seasonal data\n",
        "\n",
        "## Analyze geography\n",
        "\n",
        "## Analyze seasonality\n",
        "\n",
        "## Model\n",
        "\n",
        "## Extra visualizations\n",
        "\n",
        "### Sparklines"
      ],
      "id": "63be3535-eb0a-45a2-8681-b592d3a903e3"
    },
    {
      "cell_type": "code",
      "execution_count": 35,
      "metadata": {},
      "outputs": [],
      "source": [
        "# Plot sparklines of average work hours across 91 days by state\n",
        "(\n",
        "    GT(gt_df.head(), rowname_col=\"STATE\")\n",
        "    .fmt_nanoplot(\n",
        "        columns=\"lines\",\n",
        "        reference_line=\"mean\",\n",
        "        reference_area=[\"min\", \"q1\"]\n",
        "    )\n",
        "    .tab_header(\n",
        "        title=\"Nurse hours worked in the United States\",\n",
        "        subtitle=\"The top 5 busiest states\",\n",
        "    )\n",
        "    .tab_stubhead(label=\"State\")\n",
        "    .cols_label(\n",
        "        lines=\"Total hours worked over 91 days\",\n",
        "    )\n",
        ")"
      ],
      "id": "cell-fig-sparklines"
    },
    {
      "cell_type": "markdown",
      "metadata": {},
      "source": [
        "## Concluding thoughts\n",
        "\n",
        "(see <a href=\"#nte-rec1\" class=\"quarto-xref\">Note 1</a>)"
      ],
      "id": "72df4c53-8033-44f1-9daa-c78f5da4be64"
    }
  ],
  "nbformat": 4,
  "nbformat_minor": 5,
  "metadata": {
    "kernelspec": {
      "name": "python3",
      "display_name": "clipboard-CMS",
      "language": "python"
    },
    "language_info": {
      "name": "python",
      "codemirror_mode": {
        "name": "ipython",
        "version": "3"
      },
      "file_extension": ".py",
      "mimetype": "text/x-python",
      "nbconvert_exporter": "python",
      "pygments_lexer": "ipython3",
      "version": "3.11.0"
    }
  }
}