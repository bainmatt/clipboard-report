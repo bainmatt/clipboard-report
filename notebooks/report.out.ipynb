{
  "cells": [
    {
      "cell_type": "markdown",
      "metadata": {},
      "source": [
        "# Nurse Staffing Recommendations\n",
        "\n",
        "This is a subtitle\n",
        "\n",
        "Matthew Bain  \n",
        "2024-03-22\n",
        "\n",
        "This is an abstract.\n",
        "\n",
        "\\[…\\]\n",
        "\n",
        "## Imports"
      ],
      "id": "88c47e4b-6f99-4eb3-971b-18be78f6af65"
    },
    {
      "cell_type": "code",
      "execution_count": 2,
      "metadata": {},
      "outputs": [],
      "source": [
        "import numpy as np\n",
        "import pandas as pd\n",
        "import matplotlib.pyplot as plt\n",
        "\n",
        "from src.stylesheet import customize_plots\n",
        "from src.inspection import make_df, display"
      ],
      "id": "cell-6"
    },
    {
      "cell_type": "markdown",
      "metadata": {},
      "source": [
        "## The dataset\n",
        "\n",
        "\\[…\\]"
      ],
      "id": "2840ea7a-81a9-4d64-b7d8-f653d3e5b5b8"
    },
    {
      "cell_type": "code",
      "execution_count": 3,
      "metadata": {},
      "outputs": [],
      "source": [
        "# This is a test\n",
        "def test(x):\n",
        "    \"\"\"\n",
        "    This is a test.\n",
        "\n",
        "    Parameters\n",
        "    -----------\n",
        "    x : int\n",
        "        An integer.\n",
        "\n",
        "    Returns\n",
        "    -------\n",
        "    y : int\n",
        "        An integer.\n",
        "    \"\"\"\n",
        "    y = x + 1\n",
        "    return y"
      ],
      "id": "cell-9"
    },
    {
      "cell_type": "code",
      "execution_count": 4,
      "metadata": {},
      "outputs": [
        {
          "output_type": "display_data",
          "metadata": {},
          "data": {
            "text/plain": [
              "5"
            ]
          }
        }
      ],
      "source": [
        "test(4)"
      ],
      "id": "cell-10"
    },
    {
      "cell_type": "code",
      "execution_count": 5,
      "metadata": {},
      "outputs": [
        {
          "output_type": "display_data",
          "metadata": {},
          "data": {}
        }
      ],
      "source": [
        "customize_plots()\n",
        "x = np.linspace(1, 10, 19)\n",
        "plt.plot(x*2)"
      ],
      "id": "cell-fig-lab"
    },
    {
      "cell_type": "code",
      "execution_count": 6,
      "metadata": {},
      "outputs": [
        {
          "output_type": "stream",
          "name": "stdout",
          "text": [
            "\n",
            "df\n",
            "--- (3, 3) ---\n",
            "    1   2   3\n",
            "A  1A  2A  3A\n",
            "B  1B  2B  3B\n",
            "C  1C  2C  3C\n",
            "\n",
            "\n",
            "df.transpose()\n",
            "--- (3, 3) ---\n",
            "    A   B   C\n",
            "1  1A  1B  1C\n",
            "2  2A  2B  2C\n",
            "3  3A  3B  3C\n",
            "\n"
          ]
        }
      ],
      "source": [
        "df = make_df([1, 2, 3], [\"A\", \"B\", \"C\"])\n",
        "display(\"df\", \"df.transpose()\", globs=globals())"
      ],
      "id": "cell-12"
    },
    {
      "cell_type": "markdown",
      "metadata": {},
      "source": [
        "## SQL"
      ],
      "id": "5abadfd8-b38c-497f-98b2-6981517da966"
    },
    {
      "cell_type": "code",
      "execution_count": null,
      "metadata": {
        "vscode": {
          "languageId": "sql"
        }
      },
      "outputs": [],
      "source": [
        "CREATE TABLE employees (\n",
        "    id INT PRIMARY KEY,\n",
        "    name VARCHAR(50),\n",
        "    position VARCHAR(50)\n",
        ");"
      ],
      "id": "cell-14"
    },
    {
      "cell_type": "code",
      "execution_count": null,
      "metadata": {
        "vscode": {
          "languageId": "sql"
        }
      },
      "outputs": [],
      "source": [
        "INSERT INTO employees (id, name, position)\n",
        "VALUES (1, 'Alice Johnson', 'Software Engineer'),\n",
        "       (2, 'Bob Smith', 'Data Analyst'),\n",
        "       (3, 'Charlie Brown', 'Project Manager');"
      ],
      "id": "cell-15"
    },
    {
      "cell_type": "code",
      "execution_count": null,
      "metadata": {
        "vscode": {
          "languageId": "sql"
        }
      },
      "outputs": [],
      "source": [
        "SELECT name\n",
        "FROM employees"
      ],
      "id": "cell-16"
    }
  ],
  "nbformat": 4,
  "nbformat_minor": 5,
  "metadata": {
    "kernelspec": {
      "name": "python3",
      "display_name": "clipboard-CMS",
      "language": "python"
    },
    "language_info": {
      "name": "python",
      "codemirror_mode": {
        "name": "ipython",
        "version": "3"
      },
      "file_extension": ".py",
      "mimetype": "text/x-python",
      "nbconvert_exporter": "python",
      "pygments_lexer": "ipython3",
      "version": "3.11.10"
    }
  }
}