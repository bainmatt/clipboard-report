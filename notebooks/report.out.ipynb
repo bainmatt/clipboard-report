{
  "cells": [
    {
      "cell_type": "markdown",
      "metadata": {},
      "source": [
        "# Nurse Staffing Recommendations\n",
        "\n",
        "This is a subtitle\n",
        "\n",
        "Matthew Bain  \n",
        "2024-03-22\n",
        "\n",
        "This is an abstract.\n",
        "\n",
        "\\[…\\]\n",
        "\n",
        "## Imports"
      ],
      "id": "43ffe6c9-bdd4-4495-8162-f75486ff8a9b"
    },
    {
      "cell_type": "code",
      "execution_count": 73,
      "metadata": {},
      "outputs": [],
      "source": [
        "import numpy as np\n",
        "import pandas as pd\n",
        "import matplotlib.pyplot as plt\n",
        "from IPython.display import Markdown\n",
        "\n",
        "from src.stylesheet import customize_plots\n",
        "from src.inspection import make_df, display"
      ],
      "id": "cell-6"
    },
    {
      "cell_type": "markdown",
      "metadata": {},
      "source": [
        "## The dataset\n",
        "\n",
        "\\[…\\]"
      ],
      "id": "5ac520dd-5594-4215-b4a7-9ac2f72463f7"
    },
    {
      "cell_type": "code",
      "execution_count": 78,
      "metadata": {},
      "outputs": [
        {
          "output_type": "stream",
          "name": "stdout",
          "text": [
            "data loaded."
          ]
        }
      ],
      "source": [
        "if 'data' not in locals():\n",
        "    data = pd.read_csv(\n",
        "        \"../data/raw/PBJ_Daily_Nurse_Staffing_Q1_2024.csv\",\n",
        "        encoding='ISO-8859-1'\n",
        "    )\n",
        "else:\n",
        "    print(\"data loaded.\")"
      ],
      "id": "cell-13"
    },
    {
      "cell_type": "code",
      "execution_count": 79,
      "metadata": {},
      "outputs": [
        {
          "output_type": "display_data",
          "metadata": {},
          "data": {
            "text/html": [
              "\n",
              "<p>5 rows × 33 columns</p>\n",
              "</div>"
            ]
          }
        }
      ],
      "source": [
        "data.sample(5)"
      ],
      "id": "cell-14"
    },
    {
      "cell_type": "code",
      "execution_count": 80,
      "metadata": {},
      "outputs": [
        {
          "output_type": "stream",
          "name": "stdout",
          "text": [
            "<class 'pandas.core.frame.DataFrame'>\n",
            "RangeIndex: 1330966 entries, 0 to 1330965\n",
            "Data columns (total 33 columns):\n",
            " #   Column            Non-Null Count    Dtype  \n",
            "---  ------            --------------    -----  \n",
            " 0   PROVNUM           1330966 non-null  object \n",
            " 1   PROVNAME          1330966 non-null  object \n",
            " 2   CITY              1330966 non-null  object \n",
            " 3   STATE             1330966 non-null  object \n",
            " 4   COUNTY_NAME       1330966 non-null  object \n",
            " 5   COUNTY_FIPS       1330966 non-null  int64  \n",
            " 6   CY_Qtr            1330966 non-null  object \n",
            " 7   WorkDate          1330966 non-null  int64  \n",
            " 8   MDScensus         1330966 non-null  int64  \n",
            " 9   Hrs_RNDON         1330966 non-null  float64\n",
            " 10  Hrs_RNDON_emp     1330966 non-null  float64\n",
            " 11  Hrs_RNDON_ctr     1330966 non-null  float64\n",
            " 12  Hrs_RNadmin       1330966 non-null  float64\n",
            " 13  Hrs_RNadmin_emp   1330966 non-null  float64\n",
            " 14  Hrs_RNadmin_ctr   1330966 non-null  float64\n",
            " 15  Hrs_RN            1330966 non-null  float64\n",
            " 16  Hrs_RN_emp        1330966 non-null  float64\n",
            " 17  Hrs_RN_ctr        1330966 non-null  float64\n",
            " 18  Hrs_LPNadmin      1330966 non-null  float64\n",
            " 19  Hrs_LPNadmin_emp  1330966 non-null  float64\n",
            " 20  Hrs_LPNadmin_ctr  1330966 non-null  float64\n",
            " 21  Hrs_LPN           1330966 non-null  float64\n",
            " 22  Hrs_LPN_emp       1330966 non-null  float64\n",
            " 23  Hrs_LPN_ctr       1330966 non-null  float64\n",
            " 24  Hrs_CNA           1330966 non-null  float64\n",
            " 25  Hrs_CNA_emp       1330966 non-null  float64\n",
            " 26  Hrs_CNA_ctr       1330966 non-null  float64\n",
            " 27  Hrs_NAtrn         1330966 non-null  float64\n",
            " 28  Hrs_NAtrn_emp     1330966 non-null  float64\n",
            " 29  Hrs_NAtrn_ctr     1330966 non-null  float64\n",
            " 30  Hrs_MedAide       1330966 non-null  float64\n",
            " 31  Hrs_MedAide_emp   1330966 non-null  float64\n",
            " 32  Hrs_MedAide_ctr   1330966 non-null  float64\n",
            "dtypes: float64(24), int64(3), object(6)\n",
            "memory usage: 335.1+ MB"
          ]
        }
      ],
      "source": [
        "data.info()"
      ],
      "id": "cell-15"
    },
    {
      "cell_type": "code",
      "execution_count": 81,
      "metadata": {},
      "outputs": [
        {
          "output_type": "display_data",
          "metadata": {},
          "data": {
            "text/html": [
              "\n",
              "<p>8 rows × 27 columns</p>\n",
              "</div>"
            ]
          }
        }
      ],
      "source": [
        "data.describe()"
      ],
      "id": "cell-16"
    },
    {
      "cell_type": "markdown",
      "metadata": {},
      "source": [
        "## SQL"
      ],
      "id": "01411b31-0244-46e7-a8c5-55930365d7cf"
    },
    {
      "cell_type": "code",
      "execution_count": null,
      "metadata": {
        "vscode": {
          "languageId": "sql"
        }
      },
      "outputs": [],
      "source": [
        "CREATE TABLE employees (\n",
        "    id INT PRIMARY KEY,\n",
        "    name VARCHAR(50),\n",
        "    position VARCHAR(50)\n",
        ");"
      ],
      "id": "cell-18"
    },
    {
      "cell_type": "code",
      "execution_count": null,
      "metadata": {
        "vscode": {
          "languageId": "sql"
        }
      },
      "outputs": [],
      "source": [
        "INSERT INTO employees (id, name, position)\n",
        "VALUES (1, 'Alice Johnson', 'Software Engineer'),\n",
        "       (2, 'Bob Smith', 'Data Analyst'),\n",
        "       (3, 'Charlie Brown', 'Project Manager');"
      ],
      "id": "cell-19"
    },
    {
      "cell_type": "code",
      "execution_count": null,
      "metadata": {
        "vscode": {
          "languageId": "sql"
        }
      },
      "outputs": [],
      "source": [
        "SELECT name\n",
        "FROM employees"
      ],
      "id": "cell-20"
    }
  ],
  "nbformat": 4,
  "nbformat_minor": 5,
  "metadata": {
    "kernelspec": {
      "name": "python3",
      "display_name": "clipboard-CMS",
      "language": "python"
    },
    "language_info": {
      "name": "python",
      "codemirror_mode": {
        "name": "ipython",
        "version": "3"
      },
      "file_extension": ".py",
      "mimetype": "text/x-python",
      "nbconvert_exporter": "python",
      "pygments_lexer": "ipython3",
      "version": "3.11.10"
    }
  }
}