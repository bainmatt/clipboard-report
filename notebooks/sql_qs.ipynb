{
 "cells": [
  {
   "cell_type": "raw",
   "metadata": {
    "vscode": {
     "languageId": "raw"
    }
   },
   "source": [
    "---\n",
    "title: \"Exploring a database with SQL\"\n",
    "subtitle: |\n",
    "  Implementing basic SQL queries in sqlite3\n",
    "date: \"March 22, 2024\"\n",
    "---"
   ]
  },
  {
   "cell_type": "markdown",
   "metadata": {},
   "source": [
    "## Imports"
   ]
  },
  {
   "cell_type": "code",
   "execution_count": 1146,
   "metadata": {},
   "outputs": [],
   "source": [
    "#| echo: false\n",
    "\n",
    "import sys\n",
    "from pathlib import Path\n",
    "\n",
    "src_path = Path('..')\n",
    "sys.path.append(str(src_path.resolve()))"
   ]
  },
  {
   "cell_type": "code",
   "execution_count": 1147,
   "metadata": {},
   "outputs": [],
   "source": [
    "import sqlite3\n",
    "import pandas as pd\n",
    "from IPython.display import Markdown, display"
   ]
  },
  {
   "cell_type": "code",
   "execution_count": 1148,
   "metadata": {},
   "outputs": [],
   "source": [
    "#| include: false\n",
    "from src.stylesheet import customize_plots\n",
    "customize_plots()\n",
    "%config InlineBackend.figure_format = 'svg'"
   ]
  },
  {
   "cell_type": "markdown",
   "metadata": {},
   "source": [
    "## SQL"
   ]
  },
  {
   "cell_type": "markdown",
   "metadata": {},
   "source": [
    "Let us imagine we have the following tables in our database:\n",
    "\n",
    "1. **Sales**\n",
    "- `sales_id` (INT)\n",
    "- `customer_id` (INT)\n",
    "- `product_id` (INT)\n",
    "- `sale_date` (DATE)\n",
    "- `quantity` (INT)\n",
    "- `total_amount` (DECIMAL)\n",
    "\n",
    "2. **Customers**\n",
    "- `customer_id` (INT)\n",
    "- `customer_name` (VARCHAR)\n",
    "- `sales_region` (VARCHAR)\n",
    "- `sign_up_date` (DATE)\n",
    "\n",
    "3. **Products**\n",
    "- `product_id` (INT)\n",
    "- `product_name` (VARCHAR)\n",
    "- `category` (VARCHAR)\n",
    "- `price` (DECIMAL)\n",
    "\n",
    "We can simulate this problem by creating a test database in Python and adding tables to it that match this description."
   ]
  },
  {
   "cell_type": "code",
   "execution_count": 1149,
   "metadata": {},
   "outputs": [],
   "source": [
    "#| include: true\n",
    "#| code-fold: true\n",
    "#| code-summary: Create a database\n",
    "\n",
    "# Create a database and cursor to query it\n",
    "conn = sqlite3.connect(\"testdatabase.db\", timeout=10.0)\n",
    "cursor = conn.cursor()"
   ]
  },
  {
   "cell_type": "code",
   "execution_count": 1150,
   "metadata": {},
   "outputs": [
    {
     "data": {
      "text/plain": [
       "<sqlite3.Cursor at 0x127d3b3c0>"
      ]
     },
     "execution_count": 1150,
     "metadata": {},
     "output_type": "execute_result"
    }
   ],
   "source": [
    "#| include: true\n",
    "#| code-fold: true\n",
    "#| code-summary: Create the tables\n",
    "\n",
    "# Create `Sales` table\n",
    "cursor.execute(\n",
    "    \"\"\"\n",
    "    CREATE TABLE IF NOT EXISTS Sales\n",
    "    (\n",
    "        sales_id INTEGER PRIMARY KEY AUTOINCREMENT,\n",
    "        customer_id INTEGER,\n",
    "        product_id INTEGER,\n",
    "        sales_date DATE,\n",
    "        quantity INTEGER,\n",
    "        total_amount DECIMAL(10, 2),\n",
    "        FOREIGN KEY (customer_id) REFERENCES Customers(customer_id),\n",
    "        FOREIGN KEY (product_id) REFERENCES Products(product_id)\n",
    "    )\n",
    "    \"\"\"\n",
    ")\n",
    "\n",
    "# Create `Customers` table\n",
    "cursor.execute(\n",
    "    \"\"\"\n",
    "    CREATE TABLE IF NOT EXISTS Customers\n",
    "    (\n",
    "        customer_id INTEGER PRIMARY KEY AUTOINCREMENT,\n",
    "        customer_name VARCHAR(255) NOT NULL,\n",
    "        sales_region VARCHAR(255),\n",
    "        sign_up_date DATE\n",
    "    )\n",
    "    \"\"\"\n",
    ")\n",
    "\n",
    "# Create `Products` table\n",
    "cursor.execute(\n",
    "    \"\"\"\n",
    "    CREATE TABLE IF NOT EXISTS Products\n",
    "    (\n",
    "        product_id INTEGER PRIMARY KEY AUTOINCREMENT,\n",
    "        product_name VARCHAR(255) NOT NULL,\n",
    "        category VARCHAR(255),\n",
    "        price DECIMAL(10, 2)\n",
    "    )\n",
    "    \"\"\"\n",
    ")"
   ]
  },
  {
   "cell_type": "code",
   "execution_count": 1151,
   "metadata": {},
   "outputs": [
    {
     "data": {
      "text/plain": [
       "<sqlite3.Cursor at 0x127d3b3c0>"
      ]
     },
     "execution_count": 1151,
     "metadata": {},
     "output_type": "execute_result"
    }
   ],
   "source": [
    "#| include: true\n",
    "#| code-fold: true\n",
    "#| code-summary: Insert example data\n",
    "\n",
    "# Insert record into `Customers` table\n",
    "query = \"\"\"\n",
    "    INSERT INTO Customers\n",
    "    (customer_name, sales_region, sign_up_date)\n",
    "    VALUES (?, ?, ?)\n",
    "\"\"\"\n",
    "values = [\n",
    "    (\"John Doe\", \"West\", \"2023-09-25\"),\n",
    "    (\"Jane Young\", \"South\", \"2024-09-25\"),\n",
    "    (\"Chris Nguyen\", \"West\", \"2024-09-25\"),\n",
    "]\n",
    "cursor.executemany(query, values)\n",
    "\n",
    "# Insert record into `Products` table\n",
    "query = \"\"\"\n",
    "    INSERT INTO Products\n",
    "    (product_name, category, price)\n",
    "    VALUES (?, ?, ?)\n",
    "\"\"\"\n",
    "values = [\n",
    "    (\"Washing machine\", \"Appliances\", 1500.00),\n",
    "    (\"Laptop\", \"Electronics\", 1000.00),\n",
    "    (\"Phone\", \"Electronics\", 800.00),\n",
    "]\n",
    "cursor.executemany(query, values)\n",
    "\n",
    "# Insert record into `Sales` table\n",
    "query = \"\"\"\n",
    "    INSERT INTO Sales\n",
    "    (customer_id, product_id, sales_date, quantity, total_amount)\n",
    "    VALUES (?, ?, ?, ?, ?)\n",
    "\"\"\"\n",
    "values = [\n",
    "    (1, 1, \"2023-09-26\", 2, values[0][2] * 2),\n",
    "    (2, 1, \"2023-01-15\", 4, values[0][2] * 4),\n",
    "    (2, 2, \"2024-09-20\", 3, values[1][2] * 3),\n",
    "    (3, 3, \"2024-09-22\", 9, values[2][2] * 9),\n",
    "    (1, 2, \"2023-09-26\", 5, values[1][2] * 5),\n",
    "]\n",
    "cursor.executemany(query, values)"
   ]
  },
  {
   "cell_type": "code",
   "execution_count": 1152,
   "metadata": {},
   "outputs": [
    {
     "data": {
      "text/markdown": [
       "**`Sales`**:"
      ],
      "text/plain": [
       "<IPython.core.display.Markdown object>"
      ]
     },
     "metadata": {},
     "output_type": "display_data"
    },
    {
     "data": {
      "text/html": [
       "<div>\n",
       "<style scoped>\n",
       "    .dataframe tbody tr th:only-of-type {\n",
       "        vertical-align: middle;\n",
       "    }\n",
       "\n",
       "    .dataframe tbody tr th {\n",
       "        vertical-align: top;\n",
       "    }\n",
       "\n",
       "    .dataframe thead th {\n",
       "        text-align: right;\n",
       "    }\n",
       "</style>\n",
       "<table border=\"1\" class=\"dataframe\">\n",
       "  <thead>\n",
       "    <tr style=\"text-align: right;\">\n",
       "      <th></th>\n",
       "      <th>sales_id</th>\n",
       "      <th>customer_id</th>\n",
       "      <th>product_id</th>\n",
       "      <th>sales_date</th>\n",
       "      <th>quantity</th>\n",
       "      <th>total_amount</th>\n",
       "    </tr>\n",
       "  </thead>\n",
       "  <tbody>\n",
       "    <tr>\n",
       "      <th>0</th>\n",
       "      <td>1</td>\n",
       "      <td>1</td>\n",
       "      <td>1</td>\n",
       "      <td>2023-09-26</td>\n",
       "      <td>2</td>\n",
       "      <td>3000</td>\n",
       "    </tr>\n",
       "    <tr>\n",
       "      <th>1</th>\n",
       "      <td>2</td>\n",
       "      <td>2</td>\n",
       "      <td>1</td>\n",
       "      <td>2023-01-15</td>\n",
       "      <td>4</td>\n",
       "      <td>6000</td>\n",
       "    </tr>\n",
       "    <tr>\n",
       "      <th>2</th>\n",
       "      <td>3</td>\n",
       "      <td>2</td>\n",
       "      <td>2</td>\n",
       "      <td>2024-09-20</td>\n",
       "      <td>3</td>\n",
       "      <td>3000</td>\n",
       "    </tr>\n",
       "    <tr>\n",
       "      <th>3</th>\n",
       "      <td>4</td>\n",
       "      <td>3</td>\n",
       "      <td>3</td>\n",
       "      <td>2024-09-22</td>\n",
       "      <td>9</td>\n",
       "      <td>7200</td>\n",
       "    </tr>\n",
       "    <tr>\n",
       "      <th>4</th>\n",
       "      <td>5</td>\n",
       "      <td>1</td>\n",
       "      <td>2</td>\n",
       "      <td>2023-09-26</td>\n",
       "      <td>5</td>\n",
       "      <td>5000</td>\n",
       "    </tr>\n",
       "  </tbody>\n",
       "</table>\n",
       "</div>"
      ],
      "text/plain": [
       "   sales_id  customer_id  product_id  sales_date  quantity  total_amount\n",
       "0         1            1           1  2023-09-26         2          3000\n",
       "1         2            2           1  2023-01-15         4          6000\n",
       "2         3            2           2  2024-09-20         3          3000\n",
       "3         4            3           3  2024-09-22         9          7200\n",
       "4         5            1           2  2023-09-26         5          5000"
      ]
     },
     "metadata": {},
     "output_type": "display_data"
    },
    {
     "data": {
      "text/markdown": [
       "**`Customers`**:"
      ],
      "text/plain": [
       "<IPython.core.display.Markdown object>"
      ]
     },
     "metadata": {},
     "output_type": "display_data"
    },
    {
     "data": {
      "text/html": [
       "<div>\n",
       "<style scoped>\n",
       "    .dataframe tbody tr th:only-of-type {\n",
       "        vertical-align: middle;\n",
       "    }\n",
       "\n",
       "    .dataframe tbody tr th {\n",
       "        vertical-align: top;\n",
       "    }\n",
       "\n",
       "    .dataframe thead th {\n",
       "        text-align: right;\n",
       "    }\n",
       "</style>\n",
       "<table border=\"1\" class=\"dataframe\">\n",
       "  <thead>\n",
       "    <tr style=\"text-align: right;\">\n",
       "      <th></th>\n",
       "      <th>customer_id</th>\n",
       "      <th>customer_name</th>\n",
       "      <th>sales_region</th>\n",
       "      <th>sign_up_date</th>\n",
       "    </tr>\n",
       "  </thead>\n",
       "  <tbody>\n",
       "    <tr>\n",
       "      <th>0</th>\n",
       "      <td>1</td>\n",
       "      <td>John Doe</td>\n",
       "      <td>West</td>\n",
       "      <td>2023-09-25</td>\n",
       "    </tr>\n",
       "    <tr>\n",
       "      <th>1</th>\n",
       "      <td>2</td>\n",
       "      <td>Jane Young</td>\n",
       "      <td>South</td>\n",
       "      <td>2024-09-25</td>\n",
       "    </tr>\n",
       "    <tr>\n",
       "      <th>2</th>\n",
       "      <td>3</td>\n",
       "      <td>Chris Nguyen</td>\n",
       "      <td>West</td>\n",
       "      <td>2024-09-25</td>\n",
       "    </tr>\n",
       "  </tbody>\n",
       "</table>\n",
       "</div>"
      ],
      "text/plain": [
       "   customer_id customer_name sales_region sign_up_date\n",
       "0            1      John Doe         West   2023-09-25\n",
       "1            2    Jane Young        South   2024-09-25\n",
       "2            3  Chris Nguyen         West   2024-09-25"
      ]
     },
     "metadata": {},
     "output_type": "display_data"
    },
    {
     "data": {
      "text/markdown": [
       "**`Products`**:"
      ],
      "text/plain": [
       "<IPython.core.display.Markdown object>"
      ]
     },
     "metadata": {},
     "output_type": "display_data"
    },
    {
     "data": {
      "text/html": [
       "<div>\n",
       "<style scoped>\n",
       "    .dataframe tbody tr th:only-of-type {\n",
       "        vertical-align: middle;\n",
       "    }\n",
       "\n",
       "    .dataframe tbody tr th {\n",
       "        vertical-align: top;\n",
       "    }\n",
       "\n",
       "    .dataframe thead th {\n",
       "        text-align: right;\n",
       "    }\n",
       "</style>\n",
       "<table border=\"1\" class=\"dataframe\">\n",
       "  <thead>\n",
       "    <tr style=\"text-align: right;\">\n",
       "      <th></th>\n",
       "      <th>product_id</th>\n",
       "      <th>product_name</th>\n",
       "      <th>category</th>\n",
       "      <th>price</th>\n",
       "    </tr>\n",
       "  </thead>\n",
       "  <tbody>\n",
       "    <tr>\n",
       "      <th>0</th>\n",
       "      <td>1</td>\n",
       "      <td>Washing machine</td>\n",
       "      <td>Appliances</td>\n",
       "      <td>1500</td>\n",
       "    </tr>\n",
       "    <tr>\n",
       "      <th>1</th>\n",
       "      <td>2</td>\n",
       "      <td>Laptop</td>\n",
       "      <td>Electronics</td>\n",
       "      <td>1000</td>\n",
       "    </tr>\n",
       "    <tr>\n",
       "      <th>2</th>\n",
       "      <td>3</td>\n",
       "      <td>Phone</td>\n",
       "      <td>Electronics</td>\n",
       "      <td>800</td>\n",
       "    </tr>\n",
       "  </tbody>\n",
       "</table>\n",
       "</div>"
      ],
      "text/plain": [
       "   product_id     product_name     category  price\n",
       "0           1  Washing machine   Appliances   1500\n",
       "1           2           Laptop  Electronics   1000\n",
       "2           3            Phone  Electronics    800"
      ]
     },
     "metadata": {},
     "output_type": "display_data"
    }
   ],
   "source": [
    "#| include: true\n",
    "#| cold-fold: true\n",
    "#| code-summary: Check the contents of the tables\n",
    "\n",
    "# Query `Sales`\n",
    "query = \"\"\"\n",
    "    SELECT *\n",
    "    FROM Sales\n",
    "    LIMIT 5;\n",
    "\"\"\"\n",
    "display(Markdown(\"**`Sales`**:\"), pd.read_sql(query, conn))\n",
    "\n",
    "# Query `Customers`\n",
    "query = \"\"\"\n",
    "    SELECT *\n",
    "    FROM Customers\n",
    "    LIMIT 5;\n",
    "\"\"\"\n",
    "display(Markdown(\"**`Customers`**:\"), pd.read_sql(query, conn))\n",
    "\n",
    "# Query `Products`\n",
    "query = \"\"\"\n",
    "    SELECT *\n",
    "    FROM Products\n",
    "    LIMIT 5;\n",
    "\"\"\"\n",
    "display(Markdown(\"**`Products`**:\"), pd.read_sql(query, conn))"
   ]
  },
  {
   "cell_type": "code",
   "execution_count": 1153,
   "metadata": {},
   "outputs": [
    {
     "data": {
      "text/plain": [
       "[('sqlite_sequence',), ('Customers',), ('Sales',), ('Products',)]"
      ]
     },
     "execution_count": 1153,
     "metadata": {},
     "output_type": "execute_result"
    }
   ],
   "source": [
    "#| include: false\n",
    "#| cold-fold: true\n",
    "#| code-summary: View the tables in the database\n",
    "\n",
    "cursor.execute(\n",
    "    \"\"\"\n",
    "    SELECT name\n",
    "    FROM sqlite_master\n",
    "    WHERE type='table'\n",
    "    \"\"\"\n",
    ")\n",
    "cursor.fetchall()"
   ]
  },
  {
   "cell_type": "code",
   "execution_count": 1154,
   "metadata": {},
   "outputs": [],
   "source": [
    "#| include: false\n",
    "#| code-summary: Drop tables as needed\n",
    "\n",
    "# cursor.execute(\n",
    "#     \"\"\"\n",
    "#     DROP TABLE Sales\n",
    "#     \"\"\"\n",
    "# )"
   ]
  },
  {
   "cell_type": "markdown",
   "metadata": {},
   "source": [
    "### Q1"
   ]
  },
  {
   "cell_type": "markdown",
   "metadata": {},
   "source": [
    "*Write a query to return the customer_name, product_name, and total_amount for each sale in the last 30 days.*"
   ]
  },
  {
   "cell_type": "code",
   "execution_count": 1155,
   "metadata": {},
   "outputs": [
    {
     "data": {
      "text/html": [
       "<div>\n",
       "<style scoped>\n",
       "    .dataframe tbody tr th:only-of-type {\n",
       "        vertical-align: middle;\n",
       "    }\n",
       "\n",
       "    .dataframe tbody tr th {\n",
       "        vertical-align: top;\n",
       "    }\n",
       "\n",
       "    .dataframe thead th {\n",
       "        text-align: right;\n",
       "    }\n",
       "</style>\n",
       "<table border=\"1\" class=\"dataframe\">\n",
       "  <thead>\n",
       "    <tr style=\"text-align: right;\">\n",
       "      <th></th>\n",
       "      <th>customer_name</th>\n",
       "      <th>product_name</th>\n",
       "      <th>total_amount</th>\n",
       "    </tr>\n",
       "  </thead>\n",
       "  <tbody>\n",
       "    <tr>\n",
       "      <th>0</th>\n",
       "      <td>Jane Young</td>\n",
       "      <td>Laptop</td>\n",
       "      <td>3000</td>\n",
       "    </tr>\n",
       "    <tr>\n",
       "      <th>1</th>\n",
       "      <td>Chris Nguyen</td>\n",
       "      <td>Phone</td>\n",
       "      <td>7200</td>\n",
       "    </tr>\n",
       "  </tbody>\n",
       "</table>\n",
       "</div>"
      ],
      "text/plain": [
       "  customer_name product_name  total_amount\n",
       "0    Jane Young       Laptop          3000\n",
       "1  Chris Nguyen        Phone          7200"
      ]
     },
     "execution_count": 1155,
     "metadata": {},
     "output_type": "execute_result"
    }
   ],
   "source": [
    "query = \"\"\"\n",
    "    SELECT\n",
    "        Customers.customer_name,\n",
    "        Products.product_name,\n",
    "        Sales.total_amount\n",
    "    FROM\n",
    "        Sales\n",
    "    LEFT JOIN Customers\n",
    "        ON Sales.customer_id = Customers.customer_id\n",
    "    LEFT JOIN Products\n",
    "        ON Sales.product_id = Products.product_id\n",
    "    WHERE\n",
    "        Sales.sales_date >= DATE('now', '-30 days');\n",
    "\"\"\"\n",
    "pd.read_sql(query, conn)"
   ]
  },
  {
   "cell_type": "markdown",
   "metadata": {},
   "source": [
    "### Q2"
   ]
  },
  {
   "cell_type": "markdown",
   "metadata": {},
   "source": [
    "*Write a query to find the total revenue generated by each product category in the last year. The output should include the product category and the total revenue for that category.*"
   ]
  },
  {
   "cell_type": "code",
   "execution_count": 1156,
   "metadata": {},
   "outputs": [
    {
     "data": {
      "text/html": [
       "<div>\n",
       "<style scoped>\n",
       "    .dataframe tbody tr th:only-of-type {\n",
       "        vertical-align: middle;\n",
       "    }\n",
       "\n",
       "    .dataframe tbody tr th {\n",
       "        vertical-align: top;\n",
       "    }\n",
       "\n",
       "    .dataframe thead th {\n",
       "        text-align: right;\n",
       "    }\n",
       "</style>\n",
       "<table border=\"1\" class=\"dataframe\">\n",
       "  <thead>\n",
       "    <tr style=\"text-align: right;\">\n",
       "      <th></th>\n",
       "      <th>category</th>\n",
       "      <th>total_revenue</th>\n",
       "    </tr>\n",
       "  </thead>\n",
       "  <tbody>\n",
       "    <tr>\n",
       "      <th>0</th>\n",
       "      <td>Electronics</td>\n",
       "      <td>10200</td>\n",
       "    </tr>\n",
       "  </tbody>\n",
       "</table>\n",
       "</div>"
      ],
      "text/plain": [
       "      category  total_revenue\n",
       "0  Electronics          10200"
      ]
     },
     "execution_count": 1156,
     "metadata": {},
     "output_type": "execute_result"
    }
   ],
   "source": [
    "query = \"\"\"\n",
    "    SELECT\n",
    "        Products.category,\n",
    "        SUM(Sales.total_amount) AS total_revenue\n",
    "    FROM\n",
    "        Sales\n",
    "    LEFT JOIN Products\n",
    "        ON Sales.product_id = Products.product_id\n",
    "    WHERE\n",
    "        Sales.sales_date >= DATE('now', '-1 year')\n",
    "    GROUP BY\n",
    "        category;\n",
    "\"\"\"\n",
    "pd.read_sql(query, conn)"
   ]
  },
  {
   "cell_type": "markdown",
   "metadata": {},
   "source": [
    "### Q3"
   ]
  },
  {
   "cell_type": "markdown",
   "metadata": {},
   "source": [
    "*Write a query to return all customers who made purchases in 2023 and are located in the \"West\" region.*"
   ]
  },
  {
   "cell_type": "code",
   "execution_count": 1157,
   "metadata": {},
   "outputs": [
    {
     "data": {
      "text/html": [
       "<div>\n",
       "<style scoped>\n",
       "    .dataframe tbody tr th:only-of-type {\n",
       "        vertical-align: middle;\n",
       "    }\n",
       "\n",
       "    .dataframe tbody tr th {\n",
       "        vertical-align: top;\n",
       "    }\n",
       "\n",
       "    .dataframe thead th {\n",
       "        text-align: right;\n",
       "    }\n",
       "</style>\n",
       "<table border=\"1\" class=\"dataframe\">\n",
       "  <thead>\n",
       "    <tr style=\"text-align: right;\">\n",
       "      <th></th>\n",
       "      <th>customer_name</th>\n",
       "    </tr>\n",
       "  </thead>\n",
       "  <tbody>\n",
       "    <tr>\n",
       "      <th>0</th>\n",
       "      <td>John Doe</td>\n",
       "    </tr>\n",
       "  </tbody>\n",
       "</table>\n",
       "</div>"
      ],
      "text/plain": [
       "  customer_name\n",
       "0      John Doe"
      ]
     },
     "execution_count": 1157,
     "metadata": {},
     "output_type": "execute_result"
    }
   ],
   "source": [
    "query = \"\"\"\n",
    "    SELECT DISTINCT\n",
    "        Customers.customer_name\n",
    "    FROM\n",
    "        Customers\n",
    "    INNER JOIN Sales\n",
    "        ON Customers.customer_id = Sales.customer_id\n",
    "    WHERE\n",
    "        strftime('%Y', Sales.sales_date) = '2023'\n",
    "        AND Customers.sales_region = 'West'\n",
    "\"\"\"\n",
    "pd.read_sql(query, conn)"
   ]
  },
  {
   "cell_type": "markdown",
   "metadata": {},
   "source": [
    "### Q4"
   ]
  },
  {
   "cell_type": "markdown",
   "metadata": {},
   "source": [
    "*Write a query to display the total number of sales, total quantity sold, and total revenue for each customer. The result should include the customer_name, total sales, total quantity, and total revenue.*"
   ]
  },
  {
   "cell_type": "code",
   "execution_count": 1158,
   "metadata": {},
   "outputs": [
    {
     "data": {
      "text/html": [
       "<div>\n",
       "<style scoped>\n",
       "    .dataframe tbody tr th:only-of-type {\n",
       "        vertical-align: middle;\n",
       "    }\n",
       "\n",
       "    .dataframe tbody tr th {\n",
       "        vertical-align: top;\n",
       "    }\n",
       "\n",
       "    .dataframe thead th {\n",
       "        text-align: right;\n",
       "    }\n",
       "</style>\n",
       "<table border=\"1\" class=\"dataframe\">\n",
       "  <thead>\n",
       "    <tr style=\"text-align: right;\">\n",
       "      <th></th>\n",
       "      <th>customer_name</th>\n",
       "      <th>total_sales</th>\n",
       "      <th>total_quantity</th>\n",
       "      <th>total_revenue</th>\n",
       "    </tr>\n",
       "  </thead>\n",
       "  <tbody>\n",
       "    <tr>\n",
       "      <th>0</th>\n",
       "      <td>John Doe</td>\n",
       "      <td>2</td>\n",
       "      <td>7</td>\n",
       "      <td>8000</td>\n",
       "    </tr>\n",
       "    <tr>\n",
       "      <th>1</th>\n",
       "      <td>Jane Young</td>\n",
       "      <td>2</td>\n",
       "      <td>7</td>\n",
       "      <td>9000</td>\n",
       "    </tr>\n",
       "    <tr>\n",
       "      <th>2</th>\n",
       "      <td>Chris Nguyen</td>\n",
       "      <td>1</td>\n",
       "      <td>9</td>\n",
       "      <td>7200</td>\n",
       "    </tr>\n",
       "  </tbody>\n",
       "</table>\n",
       "</div>"
      ],
      "text/plain": [
       "  customer_name  total_sales  total_quantity  total_revenue\n",
       "0      John Doe            2               7           8000\n",
       "1    Jane Young            2               7           9000\n",
       "2  Chris Nguyen            1               9           7200"
      ]
     },
     "execution_count": 1158,
     "metadata": {},
     "output_type": "execute_result"
    }
   ],
   "source": [
    "query = \"\"\"\n",
    "    SELECT\n",
    "        Customers.customer_name,\n",
    "        COUNT(Sales.sales_id) AS total_sales,\n",
    "        SUM(Sales.quantity) AS total_quantity,\n",
    "        SUM(Sales.total_amount) AS total_revenue\n",
    "    FROM\n",
    "        Customers\n",
    "    LEFT JOIN Sales\n",
    "        ON Sales.customer_id = Customers.customer_id\n",
    "    GROUP BY\n",
    "        Customers.customer_id;\n",
    "\"\"\"\n",
    "pd.read_sql(query, conn)"
   ]
  },
  {
   "cell_type": "markdown",
   "metadata": {},
   "source": [
    "### Q5"
   ]
  },
  {
   "cell_type": "markdown",
   "metadata": {},
   "source": [
    "*Write a query to find the top 3 customers (by total revenue) in the year 2023.*"
   ]
  },
  {
   "cell_type": "code",
   "execution_count": 1159,
   "metadata": {},
   "outputs": [
    {
     "data": {
      "text/html": [
       "<div>\n",
       "<style scoped>\n",
       "    .dataframe tbody tr th:only-of-type {\n",
       "        vertical-align: middle;\n",
       "    }\n",
       "\n",
       "    .dataframe tbody tr th {\n",
       "        vertical-align: top;\n",
       "    }\n",
       "\n",
       "    .dataframe thead th {\n",
       "        text-align: right;\n",
       "    }\n",
       "</style>\n",
       "<table border=\"1\" class=\"dataframe\">\n",
       "  <thead>\n",
       "    <tr style=\"text-align: right;\">\n",
       "      <th></th>\n",
       "      <th>customer_name</th>\n",
       "      <th>total_revenue</th>\n",
       "    </tr>\n",
       "  </thead>\n",
       "  <tbody>\n",
       "    <tr>\n",
       "      <th>0</th>\n",
       "      <td>John Doe</td>\n",
       "      <td>8000.0</td>\n",
       "    </tr>\n",
       "    <tr>\n",
       "      <th>1</th>\n",
       "      <td>Jane Young</td>\n",
       "      <td>6000.0</td>\n",
       "    </tr>\n",
       "    <tr>\n",
       "      <th>2</th>\n",
       "      <td>Chris Nguyen</td>\n",
       "      <td>NaN</td>\n",
       "    </tr>\n",
       "  </tbody>\n",
       "</table>\n",
       "</div>"
      ],
      "text/plain": [
       "  customer_name  total_revenue\n",
       "0      John Doe         8000.0\n",
       "1    Jane Young         6000.0\n",
       "2  Chris Nguyen            NaN"
      ]
     },
     "execution_count": 1159,
     "metadata": {},
     "output_type": "execute_result"
    }
   ],
   "source": [
    "query = \"\"\"\n",
    "    SELECT\n",
    "        Customers.customer_name,\n",
    "        SUM(Sales.total_amount) AS total_revenue\n",
    "    FROM\n",
    "        Customers\n",
    "    LEFT JOIN Sales\n",
    "        ON Customers.customer_id = Sales.customer_id\n",
    "        AND strftime('%Y', Sales.sales_date) = '2023'\n",
    "    GROUP BY\n",
    "        Customers.customer_name\n",
    "    ORDER BY\n",
    "        total_revenue DESC;\n",
    "\"\"\"\n",
    "pd.read_sql(query, conn)"
   ]
  },
  {
   "cell_type": "markdown",
   "metadata": {},
   "source": [
    "### Q6"
   ]
  },
  {
   "cell_type": "markdown",
   "metadata": {},
   "source": [
    "*Write a query to rank products by their total sales quantity in 2023. The result should include the product_name, total quantity sold, and rank.*"
   ]
  },
  {
   "cell_type": "code",
   "execution_count": 1160,
   "metadata": {},
   "outputs": [
    {
     "data": {
      "text/html": [
       "<div>\n",
       "<style scoped>\n",
       "    .dataframe tbody tr th:only-of-type {\n",
       "        vertical-align: middle;\n",
       "    }\n",
       "\n",
       "    .dataframe tbody tr th {\n",
       "        vertical-align: top;\n",
       "    }\n",
       "\n",
       "    .dataframe thead th {\n",
       "        text-align: right;\n",
       "    }\n",
       "</style>\n",
       "<table border=\"1\" class=\"dataframe\">\n",
       "  <thead>\n",
       "    <tr style=\"text-align: right;\">\n",
       "      <th></th>\n",
       "      <th>product_name</th>\n",
       "      <th>total_quantity</th>\n",
       "      <th>quantity_rank</th>\n",
       "    </tr>\n",
       "  </thead>\n",
       "  <tbody>\n",
       "    <tr>\n",
       "      <th>0</th>\n",
       "      <td>Washing machine</td>\n",
       "      <td>6.0</td>\n",
       "      <td>1</td>\n",
       "    </tr>\n",
       "    <tr>\n",
       "      <th>1</th>\n",
       "      <td>Laptop</td>\n",
       "      <td>5.0</td>\n",
       "      <td>2</td>\n",
       "    </tr>\n",
       "    <tr>\n",
       "      <th>2</th>\n",
       "      <td>Phone</td>\n",
       "      <td>NaN</td>\n",
       "      <td>3</td>\n",
       "    </tr>\n",
       "  </tbody>\n",
       "</table>\n",
       "</div>"
      ],
      "text/plain": [
       "      product_name  total_quantity  quantity_rank\n",
       "0  Washing machine             6.0              1\n",
       "1           Laptop             5.0              2\n",
       "2            Phone             NaN              3"
      ]
     },
     "execution_count": 1160,
     "metadata": {},
     "output_type": "execute_result"
    }
   ],
   "source": [
    "query = \"\"\"\n",
    "    SELECT\n",
    "        Products.product_name,\n",
    "        SUM(Sales.quantity) AS total_quantity,\n",
    "        RANK() OVER\n",
    "            (ORDER BY SUM(Sales.quantity) DESC) AS quantity_rank\n",
    "    FROM\n",
    "        Products\n",
    "    LEFT JOIN Sales\n",
    "        ON Products.product_id = Sales.product_id\n",
    "        AND strftime('%Y', Sales.sales_date) = '2023'\n",
    "    GROUP BY\n",
    "        Products.product_name;\n",
    "\"\"\"\n",
    "pd.read_sql(query, conn)"
   ]
  },
  {
   "cell_type": "markdown",
   "metadata": {},
   "source": [
    "### Q7"
   ]
  },
  {
   "cell_type": "markdown",
   "metadata": {},
   "source": [
    "*Write a query that categorizes customers into \"New\" (if they signed up in the last 6 months) or \"Existing\" based on their sign_up_date. Include the customer_name, region, and category in the result.*"
   ]
  },
  {
   "cell_type": "code",
   "execution_count": 1161,
   "metadata": {},
   "outputs": [
    {
     "data": {
      "text/html": [
       "<div>\n",
       "<style scoped>\n",
       "    .dataframe tbody tr th:only-of-type {\n",
       "        vertical-align: middle;\n",
       "    }\n",
       "\n",
       "    .dataframe tbody tr th {\n",
       "        vertical-align: top;\n",
       "    }\n",
       "\n",
       "    .dataframe thead th {\n",
       "        text-align: right;\n",
       "    }\n",
       "</style>\n",
       "<table border=\"1\" class=\"dataframe\">\n",
       "  <thead>\n",
       "    <tr style=\"text-align: right;\">\n",
       "      <th></th>\n",
       "      <th>customer_name</th>\n",
       "      <th>sales_region</th>\n",
       "      <th>customer_status</th>\n",
       "    </tr>\n",
       "  </thead>\n",
       "  <tbody>\n",
       "    <tr>\n",
       "      <th>0</th>\n",
       "      <td>John Doe</td>\n",
       "      <td>West</td>\n",
       "      <td>Existing</td>\n",
       "    </tr>\n",
       "    <tr>\n",
       "      <th>1</th>\n",
       "      <td>Jane Young</td>\n",
       "      <td>South</td>\n",
       "      <td>New</td>\n",
       "    </tr>\n",
       "    <tr>\n",
       "      <th>2</th>\n",
       "      <td>Chris Nguyen</td>\n",
       "      <td>West</td>\n",
       "      <td>New</td>\n",
       "    </tr>\n",
       "  </tbody>\n",
       "</table>\n",
       "</div>"
      ],
      "text/plain": [
       "  customer_name sales_region customer_status\n",
       "0      John Doe         West        Existing\n",
       "1    Jane Young        South             New\n",
       "2  Chris Nguyen         West             New"
      ]
     },
     "execution_count": 1161,
     "metadata": {},
     "output_type": "execute_result"
    }
   ],
   "source": [
    "query = \"\"\"\n",
    "    SELECT DISTINCT\n",
    "        Customers.customer_name,\n",
    "        Customers.sales_region,\n",
    "    CASE\n",
    "        WHEN\n",
    "            Customers.sign_up_date >= DATE('now', '-6 months')\n",
    "        THEN\n",
    "            'New'\n",
    "        ELSE\n",
    "            'Existing'\n",
    "    END AS customer_status\n",
    "    FROM\n",
    "        Customers\n",
    "    LEFT JOIN Sales\n",
    "        ON Customers.customer_id = Sales.customer_id\n",
    "\"\"\"\n",
    "pd.read_sql(query, conn)"
   ]
  },
  {
   "cell_type": "markdown",
   "metadata": {},
   "source": [
    "### Q8"
   ]
  },
  {
   "cell_type": "markdown",
   "metadata": {},
   "source": [
    "*Write a query to return the month and year along with the total sales for each month for the last 12 months.*"
   ]
  },
  {
   "cell_type": "code",
   "execution_count": null,
   "metadata": {},
   "outputs": [],
   "source": []
  },
  {
   "cell_type": "markdown",
   "metadata": {},
   "source": [
    "## Wrapping up"
   ]
  },
  {
   "cell_type": "code",
   "execution_count": 1162,
   "metadata": {},
   "outputs": [],
   "source": [
    "#| include: true\n",
    "#| code-fold: true\n",
    "#| code-summary: Close the database connection\n",
    "\n",
    "cursor.close()\n",
    "conn.close()"
   ]
  }
 ],
 "metadata": {
  "kernelspec": {
   "display_name": "clipboard-CMS",
   "language": "python",
   "name": "python3"
  },
  "language_info": {
   "codemirror_mode": {
    "name": "ipython",
    "version": 3
   },
   "file_extension": ".py",
   "mimetype": "text/x-python",
   "name": "python",
   "nbconvert_exporter": "python",
   "pygments_lexer": "ipython3",
   "version": "3.11.0"
  }
 },
 "nbformat": 4,
 "nbformat_minor": 2
}
