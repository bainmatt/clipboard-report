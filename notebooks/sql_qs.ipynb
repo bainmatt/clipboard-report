{
 "cells": [
  {
   "cell_type": "raw",
   "metadata": {
    "vscode": {
     "languageId": "raw"
    }
   },
   "source": [
    "---\n",
    "title: \"Exploring a database with SQL\"\n",
    "subtitle: |\n",
    "  Implementing basic SQL queries in sqlite3\n",
    "date: \"March 22, 2024\"\n",
    "---"
   ]
  },
  {
   "cell_type": "markdown",
   "metadata": {},
   "source": [
    "## Imports"
   ]
  },
  {
   "cell_type": "code",
   "execution_count": 1375,
   "metadata": {},
   "outputs": [],
   "source": [
    "#| echo: false\n",
    "\n",
    "import sys\n",
    "from pathlib import Path\n",
    "\n",
    "src_path = Path('..')\n",
    "sys.path.append(str(src_path.resolve()))"
   ]
  },
  {
   "cell_type": "code",
   "execution_count": 1376,
   "metadata": {},
   "outputs": [],
   "source": [
    "import sqlite3\n",
    "import pandas as pd\n",
    "from IPython.display import Markdown, display\n",
    "\n",
    "from src.util import DBManager"
   ]
  },
  {
   "cell_type": "code",
   "execution_count": 1377,
   "metadata": {},
   "outputs": [],
   "source": [
    "#| include: false\n",
    "from src.stylesheet import customize_plots\n",
    "customize_plots()\n",
    "%config InlineBackend.figure_format = 'svg'"
   ]
  },
  {
   "cell_type": "markdown",
   "metadata": {},
   "source": [
    "## Define the tables"
   ]
  },
  {
   "cell_type": "markdown",
   "metadata": {},
   "source": [
    "Let us imagine we have the following tables in our database:\n",
    "\n",
    "1. **Sales**\n",
    "- `sales_id` (INT)\n",
    "- `customer_id` (INT)\n",
    "- `product_id` (INT)\n",
    "- `sale_date` (DATE)\n",
    "- `quantity` (INT)\n",
    "- `total_amount` (DECIMAL)\n",
    "\n",
    "2. **Customers**\n",
    "- `customer_id` (INT)\n",
    "- `customer_name` (VARCHAR)\n",
    "- `sales_region` (VARCHAR)\n",
    "- `sign_up_date` (DATE)\n",
    "\n",
    "3. **Products**\n",
    "- `product_id` (INT)\n",
    "- `product_name` (VARCHAR)\n",
    "- `category` (VARCHAR)\n",
    "- `price` (DECIMAL)\n",
    "\n",
    "We can simulate this problem by creating a test database in Python, creating tables within it that match this description, and inserting some example values into the tables."
   ]
  },
  {
   "cell_type": "code",
   "execution_count": 1378,
   "metadata": {},
   "outputs": [],
   "source": [
    "#| include: true\n",
    "#| code-fold: true\n",
    "#| code-summary: Create a database\n",
    "\n",
    "# Create a database and cursor to query it\n",
    "# db.save()\n",
    "# db.close()\n",
    "\n",
    "db_name = \"testdatabase.db\"\n",
    "db = DBManager()\n",
    "conn, cursor = db.open()"
   ]
  },
  {
   "cell_type": "code",
   "execution_count": 1379,
   "metadata": {},
   "outputs": [],
   "source": [
    "#| include: false\n",
    "#| code-summary: Drop tables as needed\n",
    "\n",
    "query = \"\"\"\n",
    "    DROP TABLE IF EXISTS {};\n",
    "\"\"\"\n",
    "tables = [\"Sales\", \"Customers\", \"Products\", \"date_dim\"]\n",
    "for table in tables:\n",
    "    cursor.execute(query.format(table))\n",
    "db.save()"
   ]
  },
  {
   "cell_type": "code",
   "execution_count": 1380,
   "metadata": {},
   "outputs": [
    {
     "data": {
      "text/plain": [
       "<sqlite3.Cursor at 0x1318ec4c0>"
      ]
     },
     "execution_count": 1380,
     "metadata": {},
     "output_type": "execute_result"
    }
   ],
   "source": [
    "#| include: true\n",
    "#| code-fold: true\n",
    "#| code-summary: Create the tables\n",
    "\n",
    "# Create `Sales` table\n",
    "cursor.execute(\n",
    "    \"\"\"\n",
    "    CREATE TABLE IF NOT EXISTS Sales\n",
    "    (\n",
    "        sales_id        INTEGER PRIMARY KEY AUTOINCREMENT,\n",
    "        customer_id     INTEGER,\n",
    "        product_id      INTEGER,\n",
    "        sales_date      DATE,\n",
    "        quantity        INTEGER,\n",
    "        total_amount    DECIMAL(10, 2),\n",
    "        FOREIGN KEY (customer_id) REFERENCES Customers(customer_id),\n",
    "        FOREIGN KEY (product_id) REFERENCES Products(product_id)\n",
    "    );\n",
    "    \"\"\"\n",
    ")\n",
    "\n",
    "# Create `Customers` table\n",
    "cursor.execute(\n",
    "    \"\"\"\n",
    "    CREATE TABLE IF NOT EXISTS Customers\n",
    "    (\n",
    "        customer_id     INTEGER PRIMARY KEY AUTOINCREMENT,\n",
    "        customer_name   VARCHAR(255) NOT NULL,\n",
    "        sales_region    VARCHAR(255),\n",
    "        sign_up_date    DATE\n",
    "    );\n",
    "    \"\"\"\n",
    ")\n",
    "\n",
    "# Create `Products` table\n",
    "cursor.execute(\n",
    "    \"\"\"\n",
    "    CREATE TABLE IF NOT EXISTS Products\n",
    "    (\n",
    "        product_id      INTEGER PRIMARY KEY AUTOINCREMENT,\n",
    "        product_name    VARCHAR(255) NOT NULL,\n",
    "        category        VARCHAR(255),\n",
    "        price           DECIMAL(10, 2)\n",
    "    );\n",
    "    \"\"\"\n",
    ")"
   ]
  },
  {
   "cell_type": "code",
   "execution_count": 1381,
   "metadata": {},
   "outputs": [
    {
     "data": {
      "text/plain": [
       "<sqlite3.Cursor at 0x1318ec4c0>"
      ]
     },
     "execution_count": 1381,
     "metadata": {},
     "output_type": "execute_result"
    }
   ],
   "source": [
    "#| include: true\n",
    "#| code-fold: true\n",
    "#| code-summary: Insert example data into the tables\n",
    "\n",
    "# Insert record into `Customers` table\n",
    "query = \"\"\"\n",
    "    INSERT INTO Customers\n",
    "    (customer_name, sales_region, sign_up_date)\n",
    "    VALUES (?, ?, ?);\n",
    "\"\"\"\n",
    "values = [\n",
    "    (\"John Doe\", \"West\", \"2023-09-25\"),\n",
    "    (\"Jane Young\", \"South\", \"2024-09-25\"),\n",
    "    (\"Chris Nguyen\", \"West\", \"2024-09-25\"),\n",
    "]\n",
    "cursor.executemany(query, values)\n",
    "\n",
    "# Insert record into `Products` table\n",
    "query = \"\"\"\n",
    "    INSERT INTO Products\n",
    "    (product_name, category, price)\n",
    "    VALUES (?, ?, ?);\n",
    "\"\"\"\n",
    "values = [\n",
    "    (\"Washing machine\", \"Appliances\", 1500.00),\n",
    "    (\"Laptop\", \"Electronics\", 1000.00),\n",
    "    (\"Phone\", \"Electronics\", 800.00),\n",
    "]\n",
    "cursor.executemany(query, values)\n",
    "\n",
    "# Insert record into `Sales` table\n",
    "query = \"\"\"\n",
    "    INSERT INTO Sales\n",
    "    (customer_id, product_id, sales_date, quantity, total_amount)\n",
    "    VALUES (?, ?, ?, ?, ?);\n",
    "\"\"\"\n",
    "values = [\n",
    "    (1, 1, \"2023-09-26\", 2, values[0][2] * 2),\n",
    "    (2, 1, \"2023-01-15\", 4, values[0][2] * 4),\n",
    "    (2, 2, \"2024-09-20\", 3, values[1][2] * 3),\n",
    "    (3, 3, \"2024-08-22\", 9, values[2][2] * 10),\n",
    "    (1, 2, \"2023-09-26\", 40, values[1][2] * 40),\n",
    "]\n",
    "cursor.executemany(query, values)"
   ]
  },
  {
   "cell_type": "code",
   "execution_count": 1382,
   "metadata": {},
   "outputs": [
    {
     "data": {
      "text/markdown": [
       "**`Sales`**:"
      ],
      "text/plain": [
       "<IPython.core.display.Markdown object>"
      ]
     },
     "metadata": {},
     "output_type": "display_data"
    },
    {
     "data": {
      "text/html": [
       "<div>\n",
       "<style scoped>\n",
       "    .dataframe tbody tr th:only-of-type {\n",
       "        vertical-align: middle;\n",
       "    }\n",
       "\n",
       "    .dataframe tbody tr th {\n",
       "        vertical-align: top;\n",
       "    }\n",
       "\n",
       "    .dataframe thead th {\n",
       "        text-align: right;\n",
       "    }\n",
       "</style>\n",
       "<table border=\"1\" class=\"dataframe\">\n",
       "  <thead>\n",
       "    <tr style=\"text-align: right;\">\n",
       "      <th></th>\n",
       "      <th>sales_id</th>\n",
       "      <th>customer_id</th>\n",
       "      <th>product_id</th>\n",
       "      <th>sales_date</th>\n",
       "      <th>quantity</th>\n",
       "      <th>total_amount</th>\n",
       "    </tr>\n",
       "  </thead>\n",
       "  <tbody>\n",
       "    <tr>\n",
       "      <th>0</th>\n",
       "      <td>1</td>\n",
       "      <td>1</td>\n",
       "      <td>1</td>\n",
       "      <td>2023-09-26</td>\n",
       "      <td>2</td>\n",
       "      <td>3000</td>\n",
       "    </tr>\n",
       "    <tr>\n",
       "      <th>1</th>\n",
       "      <td>2</td>\n",
       "      <td>2</td>\n",
       "      <td>1</td>\n",
       "      <td>2023-01-15</td>\n",
       "      <td>4</td>\n",
       "      <td>6000</td>\n",
       "    </tr>\n",
       "    <tr>\n",
       "      <th>2</th>\n",
       "      <td>3</td>\n",
       "      <td>2</td>\n",
       "      <td>2</td>\n",
       "      <td>2024-09-20</td>\n",
       "      <td>3</td>\n",
       "      <td>3000</td>\n",
       "    </tr>\n",
       "    <tr>\n",
       "      <th>3</th>\n",
       "      <td>4</td>\n",
       "      <td>3</td>\n",
       "      <td>3</td>\n",
       "      <td>2024-08-22</td>\n",
       "      <td>9</td>\n",
       "      <td>8000</td>\n",
       "    </tr>\n",
       "    <tr>\n",
       "      <th>4</th>\n",
       "      <td>5</td>\n",
       "      <td>1</td>\n",
       "      <td>2</td>\n",
       "      <td>2023-09-26</td>\n",
       "      <td>40</td>\n",
       "      <td>40000</td>\n",
       "    </tr>\n",
       "  </tbody>\n",
       "</table>\n",
       "</div>"
      ],
      "text/plain": [
       "   sales_id  customer_id  product_id  sales_date  quantity  total_amount\n",
       "0         1            1           1  2023-09-26         2          3000\n",
       "1         2            2           1  2023-01-15         4          6000\n",
       "2         3            2           2  2024-09-20         3          3000\n",
       "3         4            3           3  2024-08-22         9          8000\n",
       "4         5            1           2  2023-09-26        40         40000"
      ]
     },
     "metadata": {},
     "output_type": "display_data"
    },
    {
     "data": {
      "text/markdown": [
       "**`Customers`**:"
      ],
      "text/plain": [
       "<IPython.core.display.Markdown object>"
      ]
     },
     "metadata": {},
     "output_type": "display_data"
    },
    {
     "data": {
      "text/html": [
       "<div>\n",
       "<style scoped>\n",
       "    .dataframe tbody tr th:only-of-type {\n",
       "        vertical-align: middle;\n",
       "    }\n",
       "\n",
       "    .dataframe tbody tr th {\n",
       "        vertical-align: top;\n",
       "    }\n",
       "\n",
       "    .dataframe thead th {\n",
       "        text-align: right;\n",
       "    }\n",
       "</style>\n",
       "<table border=\"1\" class=\"dataframe\">\n",
       "  <thead>\n",
       "    <tr style=\"text-align: right;\">\n",
       "      <th></th>\n",
       "      <th>customer_id</th>\n",
       "      <th>customer_name</th>\n",
       "      <th>sales_region</th>\n",
       "      <th>sign_up_date</th>\n",
       "    </tr>\n",
       "  </thead>\n",
       "  <tbody>\n",
       "    <tr>\n",
       "      <th>0</th>\n",
       "      <td>1</td>\n",
       "      <td>John Doe</td>\n",
       "      <td>West</td>\n",
       "      <td>2023-09-25</td>\n",
       "    </tr>\n",
       "    <tr>\n",
       "      <th>1</th>\n",
       "      <td>2</td>\n",
       "      <td>Jane Young</td>\n",
       "      <td>South</td>\n",
       "      <td>2024-09-25</td>\n",
       "    </tr>\n",
       "    <tr>\n",
       "      <th>2</th>\n",
       "      <td>3</td>\n",
       "      <td>Chris Nguyen</td>\n",
       "      <td>West</td>\n",
       "      <td>2024-09-25</td>\n",
       "    </tr>\n",
       "  </tbody>\n",
       "</table>\n",
       "</div>"
      ],
      "text/plain": [
       "   customer_id customer_name sales_region sign_up_date\n",
       "0            1      John Doe         West   2023-09-25\n",
       "1            2    Jane Young        South   2024-09-25\n",
       "2            3  Chris Nguyen         West   2024-09-25"
      ]
     },
     "metadata": {},
     "output_type": "display_data"
    },
    {
     "data": {
      "text/markdown": [
       "**`Products`**:"
      ],
      "text/plain": [
       "<IPython.core.display.Markdown object>"
      ]
     },
     "metadata": {},
     "output_type": "display_data"
    },
    {
     "data": {
      "text/html": [
       "<div>\n",
       "<style scoped>\n",
       "    .dataframe tbody tr th:only-of-type {\n",
       "        vertical-align: middle;\n",
       "    }\n",
       "\n",
       "    .dataframe tbody tr th {\n",
       "        vertical-align: top;\n",
       "    }\n",
       "\n",
       "    .dataframe thead th {\n",
       "        text-align: right;\n",
       "    }\n",
       "</style>\n",
       "<table border=\"1\" class=\"dataframe\">\n",
       "  <thead>\n",
       "    <tr style=\"text-align: right;\">\n",
       "      <th></th>\n",
       "      <th>product_id</th>\n",
       "      <th>product_name</th>\n",
       "      <th>category</th>\n",
       "      <th>price</th>\n",
       "    </tr>\n",
       "  </thead>\n",
       "  <tbody>\n",
       "    <tr>\n",
       "      <th>0</th>\n",
       "      <td>1</td>\n",
       "      <td>Washing machine</td>\n",
       "      <td>Appliances</td>\n",
       "      <td>1500</td>\n",
       "    </tr>\n",
       "    <tr>\n",
       "      <th>1</th>\n",
       "      <td>2</td>\n",
       "      <td>Laptop</td>\n",
       "      <td>Electronics</td>\n",
       "      <td>1000</td>\n",
       "    </tr>\n",
       "    <tr>\n",
       "      <th>2</th>\n",
       "      <td>3</td>\n",
       "      <td>Phone</td>\n",
       "      <td>Electronics</td>\n",
       "      <td>800</td>\n",
       "    </tr>\n",
       "  </tbody>\n",
       "</table>\n",
       "</div>"
      ],
      "text/plain": [
       "   product_id     product_name     category  price\n",
       "0           1  Washing machine   Appliances   1500\n",
       "1           2           Laptop  Electronics   1000\n",
       "2           3            Phone  Electronics    800"
      ]
     },
     "metadata": {},
     "output_type": "display_data"
    }
   ],
   "source": [
    "#| include: true\n",
    "#| cold-fold: true\n",
    "#| code-summary: Check the contents of the tables\n",
    "\n",
    "# Query `Sales`\n",
    "query = \"\"\"\n",
    "    SELECT *\n",
    "    FROM Sales\n",
    "    LIMIT 5;\n",
    "\"\"\"\n",
    "display(Markdown(\"**`Sales`**:\"), pd.read_sql(query, conn))\n",
    "\n",
    "# Query `Customers`\n",
    "query = \"\"\"\n",
    "    SELECT *\n",
    "    FROM Customers\n",
    "    LIMIT 5;\n",
    "\"\"\"\n",
    "display(Markdown(\"**`Customers`**:\"), pd.read_sql(query, conn))\n",
    "\n",
    "# Query `Products`\n",
    "query = \"\"\"\n",
    "    SELECT *\n",
    "    FROM Products\n",
    "    LIMIT 5;\n",
    "\"\"\"\n",
    "display(Markdown(\"**`Products`**:\"), pd.read_sql(query, conn))"
   ]
  },
  {
   "cell_type": "code",
   "execution_count": 1383,
   "metadata": {},
   "outputs": [
    {
     "data": {
      "text/plain": [
       "[('sqlite_sequence',), ('Sales',), ('Customers',), ('Products',)]"
      ]
     },
     "execution_count": 1383,
     "metadata": {},
     "output_type": "execute_result"
    }
   ],
   "source": [
    "#| include: false\n",
    "#| cold-fold: true\n",
    "#| code-summary: View the tables in the database\n",
    "\n",
    "cursor.execute(\n",
    "    \"\"\"\n",
    "    SELECT name\n",
    "    FROM sqlite_master\n",
    "    WHERE type='table'\n",
    "    \"\"\"\n",
    ")\n",
    "cursor.fetchall()"
   ]
  },
  {
   "cell_type": "markdown",
   "metadata": {},
   "source": [
    "## Query the tables"
   ]
  },
  {
   "cell_type": "markdown",
   "metadata": {},
   "source": [
    "With these example tables constructed, let us now run some queries."
   ]
  },
  {
   "cell_type": "markdown",
   "metadata": {},
   "source": [
    "### Q1"
   ]
  },
  {
   "cell_type": "markdown",
   "metadata": {},
   "source": [
    "*Write a query to return the customer_name, product_name, and total_amount for each sale in the last 30 days.*"
   ]
  },
  {
   "cell_type": "code",
   "execution_count": 1384,
   "metadata": {},
   "outputs": [
    {
     "data": {
      "text/html": [
       "<div>\n",
       "<style scoped>\n",
       "    .dataframe tbody tr th:only-of-type {\n",
       "        vertical-align: middle;\n",
       "    }\n",
       "\n",
       "    .dataframe tbody tr th {\n",
       "        vertical-align: top;\n",
       "    }\n",
       "\n",
       "    .dataframe thead th {\n",
       "        text-align: right;\n",
       "    }\n",
       "</style>\n",
       "<table border=\"1\" class=\"dataframe\">\n",
       "  <thead>\n",
       "    <tr style=\"text-align: right;\">\n",
       "      <th></th>\n",
       "      <th>customer_name</th>\n",
       "      <th>product_name</th>\n",
       "      <th>total_amount</th>\n",
       "    </tr>\n",
       "  </thead>\n",
       "  <tbody>\n",
       "    <tr>\n",
       "      <th>0</th>\n",
       "      <td>Jane Young</td>\n",
       "      <td>Laptop</td>\n",
       "      <td>3000</td>\n",
       "    </tr>\n",
       "  </tbody>\n",
       "</table>\n",
       "</div>"
      ],
      "text/plain": [
       "  customer_name product_name  total_amount\n",
       "0    Jane Young       Laptop          3000"
      ]
     },
     "execution_count": 1384,
     "metadata": {},
     "output_type": "execute_result"
    }
   ],
   "source": [
    "query = \"\"\"\n",
    "    SELECT\n",
    "        Customers.customer_name,\n",
    "        Products.product_name,\n",
    "        Sales.total_amount\n",
    "    FROM\n",
    "        Sales\n",
    "    LEFT JOIN Customers\n",
    "        ON Sales.customer_id = Customers.customer_id\n",
    "    LEFT JOIN Products\n",
    "        ON Sales.product_id = Products.product_id\n",
    "    WHERE\n",
    "        Sales.sales_date >= DATE('now', '-30 days');\n",
    "\"\"\"\n",
    "pd.read_sql(query, conn)"
   ]
  },
  {
   "cell_type": "markdown",
   "metadata": {},
   "source": [
    "### Q2"
   ]
  },
  {
   "cell_type": "markdown",
   "metadata": {},
   "source": [
    "*Write a query to find the total revenue generated by each product category in the last year. The output should include the product category and the total revenue for that category.*"
   ]
  },
  {
   "cell_type": "code",
   "execution_count": 1385,
   "metadata": {},
   "outputs": [
    {
     "data": {
      "text/html": [
       "<div>\n",
       "<style scoped>\n",
       "    .dataframe tbody tr th:only-of-type {\n",
       "        vertical-align: middle;\n",
       "    }\n",
       "\n",
       "    .dataframe tbody tr th {\n",
       "        vertical-align: top;\n",
       "    }\n",
       "\n",
       "    .dataframe thead th {\n",
       "        text-align: right;\n",
       "    }\n",
       "</style>\n",
       "<table border=\"1\" class=\"dataframe\">\n",
       "  <thead>\n",
       "    <tr style=\"text-align: right;\">\n",
       "      <th></th>\n",
       "      <th>category</th>\n",
       "      <th>total_revenue</th>\n",
       "    </tr>\n",
       "  </thead>\n",
       "  <tbody>\n",
       "    <tr>\n",
       "      <th>0</th>\n",
       "      <td>Electronics</td>\n",
       "      <td>11000</td>\n",
       "    </tr>\n",
       "  </tbody>\n",
       "</table>\n",
       "</div>"
      ],
      "text/plain": [
       "      category  total_revenue\n",
       "0  Electronics          11000"
      ]
     },
     "execution_count": 1385,
     "metadata": {},
     "output_type": "execute_result"
    }
   ],
   "source": [
    "query = \"\"\"\n",
    "    SELECT\n",
    "        Products.category,\n",
    "        SUM(Sales.total_amount) AS total_revenue\n",
    "    FROM\n",
    "        Sales\n",
    "    LEFT JOIN Products\n",
    "        ON Sales.product_id = Products.product_id\n",
    "    WHERE\n",
    "        Sales.sales_date >= DATE('now', '-1 year')\n",
    "    GROUP BY\n",
    "        category;\n",
    "\"\"\"\n",
    "pd.read_sql(query, conn)"
   ]
  },
  {
   "cell_type": "markdown",
   "metadata": {},
   "source": [
    "### Q3"
   ]
  },
  {
   "cell_type": "markdown",
   "metadata": {},
   "source": [
    "*Write a query to return all customers who made purchases in 2023 and are located in the \"West\" region.*"
   ]
  },
  {
   "cell_type": "code",
   "execution_count": 1386,
   "metadata": {},
   "outputs": [
    {
     "data": {
      "text/html": [
       "<div>\n",
       "<style scoped>\n",
       "    .dataframe tbody tr th:only-of-type {\n",
       "        vertical-align: middle;\n",
       "    }\n",
       "\n",
       "    .dataframe tbody tr th {\n",
       "        vertical-align: top;\n",
       "    }\n",
       "\n",
       "    .dataframe thead th {\n",
       "        text-align: right;\n",
       "    }\n",
       "</style>\n",
       "<table border=\"1\" class=\"dataframe\">\n",
       "  <thead>\n",
       "    <tr style=\"text-align: right;\">\n",
       "      <th></th>\n",
       "      <th>customer_name</th>\n",
       "    </tr>\n",
       "  </thead>\n",
       "  <tbody>\n",
       "    <tr>\n",
       "      <th>0</th>\n",
       "      <td>John Doe</td>\n",
       "    </tr>\n",
       "  </tbody>\n",
       "</table>\n",
       "</div>"
      ],
      "text/plain": [
       "  customer_name\n",
       "0      John Doe"
      ]
     },
     "execution_count": 1386,
     "metadata": {},
     "output_type": "execute_result"
    }
   ],
   "source": [
    "query = \"\"\"\n",
    "    SELECT DISTINCT\n",
    "        Customers.customer_name\n",
    "    FROM\n",
    "        Customers\n",
    "    INNER JOIN Sales\n",
    "        ON Customers.customer_id = Sales.customer_id\n",
    "    WHERE\n",
    "        strftime('%Y', Sales.sales_date) = '2023'\n",
    "        AND Customers.sales_region = 'West';\n",
    "\"\"\"\n",
    "pd.read_sql(query, conn)"
   ]
  },
  {
   "cell_type": "markdown",
   "metadata": {},
   "source": [
    "### Q4"
   ]
  },
  {
   "cell_type": "markdown",
   "metadata": {},
   "source": [
    "*Write a query to display the total number of sales, total quantity sold, and total revenue for each customer. The result should include the customer_name, total sales, total quantity, and total revenue.*"
   ]
  },
  {
   "cell_type": "code",
   "execution_count": 1387,
   "metadata": {},
   "outputs": [
    {
     "data": {
      "text/html": [
       "<div>\n",
       "<style scoped>\n",
       "    .dataframe tbody tr th:only-of-type {\n",
       "        vertical-align: middle;\n",
       "    }\n",
       "\n",
       "    .dataframe tbody tr th {\n",
       "        vertical-align: top;\n",
       "    }\n",
       "\n",
       "    .dataframe thead th {\n",
       "        text-align: right;\n",
       "    }\n",
       "</style>\n",
       "<table border=\"1\" class=\"dataframe\">\n",
       "  <thead>\n",
       "    <tr style=\"text-align: right;\">\n",
       "      <th></th>\n",
       "      <th>customer_name</th>\n",
       "      <th>total_sales</th>\n",
       "      <th>total_quantity</th>\n",
       "      <th>total_revenue</th>\n",
       "    </tr>\n",
       "  </thead>\n",
       "  <tbody>\n",
       "    <tr>\n",
       "      <th>0</th>\n",
       "      <td>John Doe</td>\n",
       "      <td>2</td>\n",
       "      <td>42</td>\n",
       "      <td>43000</td>\n",
       "    </tr>\n",
       "    <tr>\n",
       "      <th>1</th>\n",
       "      <td>Jane Young</td>\n",
       "      <td>2</td>\n",
       "      <td>7</td>\n",
       "      <td>9000</td>\n",
       "    </tr>\n",
       "    <tr>\n",
       "      <th>2</th>\n",
       "      <td>Chris Nguyen</td>\n",
       "      <td>1</td>\n",
       "      <td>9</td>\n",
       "      <td>8000</td>\n",
       "    </tr>\n",
       "  </tbody>\n",
       "</table>\n",
       "</div>"
      ],
      "text/plain": [
       "  customer_name  total_sales  total_quantity  total_revenue\n",
       "0      John Doe            2              42          43000\n",
       "1    Jane Young            2               7           9000\n",
       "2  Chris Nguyen            1               9           8000"
      ]
     },
     "execution_count": 1387,
     "metadata": {},
     "output_type": "execute_result"
    }
   ],
   "source": [
    "query = \"\"\"\n",
    "    SELECT\n",
    "        Customers.customer_name,\n",
    "        COUNT(Sales.sales_id) AS total_sales,\n",
    "        SUM(Sales.quantity) AS total_quantity,\n",
    "        SUM(Sales.total_amount) AS total_revenue\n",
    "    FROM\n",
    "        Customers\n",
    "    LEFT JOIN Sales\n",
    "        ON Sales.customer_id = Customers.customer_id\n",
    "    GROUP BY\n",
    "        Customers.customer_id;\n",
    "\"\"\"\n",
    "pd.read_sql(query, conn)"
   ]
  },
  {
   "cell_type": "markdown",
   "metadata": {},
   "source": [
    "### Q5"
   ]
  },
  {
   "cell_type": "markdown",
   "metadata": {},
   "source": [
    "*Write a query to find the top 3 customers (by total revenue) in the year 2023.*"
   ]
  },
  {
   "cell_type": "code",
   "execution_count": 1388,
   "metadata": {},
   "outputs": [
    {
     "data": {
      "text/html": [
       "<div>\n",
       "<style scoped>\n",
       "    .dataframe tbody tr th:only-of-type {\n",
       "        vertical-align: middle;\n",
       "    }\n",
       "\n",
       "    .dataframe tbody tr th {\n",
       "        vertical-align: top;\n",
       "    }\n",
       "\n",
       "    .dataframe thead th {\n",
       "        text-align: right;\n",
       "    }\n",
       "</style>\n",
       "<table border=\"1\" class=\"dataframe\">\n",
       "  <thead>\n",
       "    <tr style=\"text-align: right;\">\n",
       "      <th></th>\n",
       "      <th>customer_name</th>\n",
       "      <th>total_revenue</th>\n",
       "    </tr>\n",
       "  </thead>\n",
       "  <tbody>\n",
       "    <tr>\n",
       "      <th>0</th>\n",
       "      <td>John Doe</td>\n",
       "      <td>43000.0</td>\n",
       "    </tr>\n",
       "    <tr>\n",
       "      <th>1</th>\n",
       "      <td>Jane Young</td>\n",
       "      <td>6000.0</td>\n",
       "    </tr>\n",
       "    <tr>\n",
       "      <th>2</th>\n",
       "      <td>Chris Nguyen</td>\n",
       "      <td>NaN</td>\n",
       "    </tr>\n",
       "  </tbody>\n",
       "</table>\n",
       "</div>"
      ],
      "text/plain": [
       "  customer_name  total_revenue\n",
       "0      John Doe        43000.0\n",
       "1    Jane Young         6000.0\n",
       "2  Chris Nguyen            NaN"
      ]
     },
     "execution_count": 1388,
     "metadata": {},
     "output_type": "execute_result"
    }
   ],
   "source": [
    "query = \"\"\"\n",
    "    SELECT\n",
    "        Customers.customer_name,\n",
    "        SUM(Sales.total_amount) AS total_revenue\n",
    "    FROM\n",
    "        Customers\n",
    "    LEFT JOIN Sales\n",
    "        ON Customers.customer_id = Sales.customer_id\n",
    "        AND strftime('%Y', Sales.sales_date) = '2023'\n",
    "    GROUP BY\n",
    "        Customers.customer_name\n",
    "    ORDER BY\n",
    "        total_revenue DESC;\n",
    "\"\"\"\n",
    "pd.read_sql(query, conn)"
   ]
  },
  {
   "cell_type": "markdown",
   "metadata": {},
   "source": [
    "### Q6"
   ]
  },
  {
   "cell_type": "markdown",
   "metadata": {},
   "source": [
    "*Write a query to rank products by their total sales quantity in 2023. The result should include the product_name, total quantity sold, and rank.*"
   ]
  },
  {
   "cell_type": "code",
   "execution_count": 1389,
   "metadata": {},
   "outputs": [
    {
     "data": {
      "text/html": [
       "<div>\n",
       "<style scoped>\n",
       "    .dataframe tbody tr th:only-of-type {\n",
       "        vertical-align: middle;\n",
       "    }\n",
       "\n",
       "    .dataframe tbody tr th {\n",
       "        vertical-align: top;\n",
       "    }\n",
       "\n",
       "    .dataframe thead th {\n",
       "        text-align: right;\n",
       "    }\n",
       "</style>\n",
       "<table border=\"1\" class=\"dataframe\">\n",
       "  <thead>\n",
       "    <tr style=\"text-align: right;\">\n",
       "      <th></th>\n",
       "      <th>product_name</th>\n",
       "      <th>total_quantity</th>\n",
       "      <th>quantity_rank</th>\n",
       "    </tr>\n",
       "  </thead>\n",
       "  <tbody>\n",
       "    <tr>\n",
       "      <th>0</th>\n",
       "      <td>Laptop</td>\n",
       "      <td>40.0</td>\n",
       "      <td>1</td>\n",
       "    </tr>\n",
       "    <tr>\n",
       "      <th>1</th>\n",
       "      <td>Washing machine</td>\n",
       "      <td>6.0</td>\n",
       "      <td>2</td>\n",
       "    </tr>\n",
       "    <tr>\n",
       "      <th>2</th>\n",
       "      <td>Phone</td>\n",
       "      <td>NaN</td>\n",
       "      <td>3</td>\n",
       "    </tr>\n",
       "  </tbody>\n",
       "</table>\n",
       "</div>"
      ],
      "text/plain": [
       "      product_name  total_quantity  quantity_rank\n",
       "0           Laptop            40.0              1\n",
       "1  Washing machine             6.0              2\n",
       "2            Phone             NaN              3"
      ]
     },
     "execution_count": 1389,
     "metadata": {},
     "output_type": "execute_result"
    }
   ],
   "source": [
    "query = \"\"\"\n",
    "    SELECT\n",
    "        Products.product_name,\n",
    "        SUM(Sales.quantity) AS total_quantity,\n",
    "        RANK() OVER\n",
    "            (ORDER BY SUM(Sales.quantity) DESC) AS quantity_rank\n",
    "    FROM\n",
    "        Products\n",
    "    LEFT JOIN Sales\n",
    "        ON Products.product_id = Sales.product_id\n",
    "        AND strftime('%Y', Sales.sales_date) = '2023'\n",
    "    GROUP BY\n",
    "        Products.product_name;\n",
    "\"\"\"\n",
    "pd.read_sql(query, conn)"
   ]
  },
  {
   "cell_type": "markdown",
   "metadata": {},
   "source": [
    "### Q7"
   ]
  },
  {
   "cell_type": "markdown",
   "metadata": {},
   "source": [
    "*Write a query that categorizes customers into \"New\" (if they signed up in the last 6 months) or \"Existing\" based on their sign_up_date. Include the customer_name, region, and category in the result.*"
   ]
  },
  {
   "cell_type": "code",
   "execution_count": 1390,
   "metadata": {},
   "outputs": [
    {
     "data": {
      "text/html": [
       "<div>\n",
       "<style scoped>\n",
       "    .dataframe tbody tr th:only-of-type {\n",
       "        vertical-align: middle;\n",
       "    }\n",
       "\n",
       "    .dataframe tbody tr th {\n",
       "        vertical-align: top;\n",
       "    }\n",
       "\n",
       "    .dataframe thead th {\n",
       "        text-align: right;\n",
       "    }\n",
       "</style>\n",
       "<table border=\"1\" class=\"dataframe\">\n",
       "  <thead>\n",
       "    <tr style=\"text-align: right;\">\n",
       "      <th></th>\n",
       "      <th>customer_name</th>\n",
       "      <th>sales_region</th>\n",
       "      <th>customer_status</th>\n",
       "    </tr>\n",
       "  </thead>\n",
       "  <tbody>\n",
       "    <tr>\n",
       "      <th>0</th>\n",
       "      <td>John Doe</td>\n",
       "      <td>West</td>\n",
       "      <td>Existing</td>\n",
       "    </tr>\n",
       "    <tr>\n",
       "      <th>1</th>\n",
       "      <td>Jane Young</td>\n",
       "      <td>South</td>\n",
       "      <td>New</td>\n",
       "    </tr>\n",
       "    <tr>\n",
       "      <th>2</th>\n",
       "      <td>Chris Nguyen</td>\n",
       "      <td>West</td>\n",
       "      <td>New</td>\n",
       "    </tr>\n",
       "  </tbody>\n",
       "</table>\n",
       "</div>"
      ],
      "text/plain": [
       "  customer_name sales_region customer_status\n",
       "0      John Doe         West        Existing\n",
       "1    Jane Young        South             New\n",
       "2  Chris Nguyen         West             New"
      ]
     },
     "execution_count": 1390,
     "metadata": {},
     "output_type": "execute_result"
    }
   ],
   "source": [
    "query = \"\"\"\n",
    "    SELECT DISTINCT\n",
    "        Customers.customer_name,\n",
    "        Customers.sales_region,\n",
    "    CASE\n",
    "        WHEN\n",
    "            Customers.sign_up_date >= DATE('now', '-6 months')\n",
    "        THEN\n",
    "            'New'\n",
    "        ELSE\n",
    "            'Existing'\n",
    "    END AS customer_status\n",
    "    FROM\n",
    "        Customers\n",
    "    LEFT JOIN Sales\n",
    "        ON Customers.customer_id = Sales.customer_id;\n",
    "\"\"\"\n",
    "pd.read_sql(query, conn)"
   ]
  },
  {
   "cell_type": "markdown",
   "metadata": {},
   "source": [
    "### Q8"
   ]
  },
  {
   "cell_type": "markdown",
   "metadata": {},
   "source": [
    "*Write a query to return the month and year along with the total sales for each month for the last 12 months.*"
   ]
  },
  {
   "cell_type": "code",
   "execution_count": 1391,
   "metadata": {},
   "outputs": [
    {
     "data": {
      "text/plain": [
       "<sqlite3.Cursor at 0x1318eec40>"
      ]
     },
     "execution_count": 1391,
     "metadata": {},
     "output_type": "execute_result"
    }
   ],
   "source": [
    "#| include: true\n",
    "#| cold-fold: true\n",
    "#| code-summary: Create a date dimension table\n",
    "\n",
    "# Create the table\n",
    "query_create_table = \"\"\"\n",
    "    CREATE TABLE IF NOT EXISTS date_dim (\n",
    "        year        INTEGER,\n",
    "        month       INTEGER,\n",
    "        month_name  VARCHAR(255)\n",
    "    );\n",
    "\"\"\"\n",
    "conn.execute(query_create_table)\n",
    "\n",
    "# Create a date range\n",
    "start_date = '2023-01-01'\n",
    "end_date = pd.to_datetime('now')\n",
    "date_range = pd.date_range(\n",
    "    start=start_date, end=end_date, freq=\"ME\"\n",
    ")\n",
    "\n",
    "# Extract year and month pairs from the date range\n",
    "values = [\n",
    "    (date.year, date.month, date.month_name())\n",
    "    for date in date_range\n",
    "]\n",
    "\n",
    "# Insert the values into the table\n",
    "conn.executemany(\n",
    "    \"INSERT INTO date_dim (year, month, month_name) VALUES (?, ?, ?);\",\n",
    "    values\n",
    ")"
   ]
  },
  {
   "cell_type": "code",
   "execution_count": 1392,
   "metadata": {},
   "outputs": [
    {
     "data": {
      "text/html": [
       "<div>\n",
       "<style scoped>\n",
       "    .dataframe tbody tr th:only-of-type {\n",
       "        vertical-align: middle;\n",
       "    }\n",
       "\n",
       "    .dataframe tbody tr th {\n",
       "        vertical-align: top;\n",
       "    }\n",
       "\n",
       "    .dataframe thead th {\n",
       "        text-align: right;\n",
       "    }\n",
       "</style>\n",
       "<table border=\"1\" class=\"dataframe\">\n",
       "  <thead>\n",
       "    <tr style=\"text-align: right;\">\n",
       "      <th></th>\n",
       "      <th>sales_year</th>\n",
       "      <th>sales_month</th>\n",
       "      <th>total_sales</th>\n",
       "    </tr>\n",
       "  </thead>\n",
       "  <tbody>\n",
       "    <tr>\n",
       "      <th>0</th>\n",
       "      <td>2023</td>\n",
       "      <td>January</td>\n",
       "      <td>1</td>\n",
       "    </tr>\n",
       "    <tr>\n",
       "      <th>1</th>\n",
       "      <td>2023</td>\n",
       "      <td>February</td>\n",
       "      <td>0</td>\n",
       "    </tr>\n",
       "    <tr>\n",
       "      <th>2</th>\n",
       "      <td>2023</td>\n",
       "      <td>March</td>\n",
       "      <td>0</td>\n",
       "    </tr>\n",
       "    <tr>\n",
       "      <th>3</th>\n",
       "      <td>2023</td>\n",
       "      <td>April</td>\n",
       "      <td>0</td>\n",
       "    </tr>\n",
       "    <tr>\n",
       "      <th>4</th>\n",
       "      <td>2023</td>\n",
       "      <td>May</td>\n",
       "      <td>0</td>\n",
       "    </tr>\n",
       "    <tr>\n",
       "      <th>5</th>\n",
       "      <td>2023</td>\n",
       "      <td>June</td>\n",
       "      <td>0</td>\n",
       "    </tr>\n",
       "    <tr>\n",
       "      <th>6</th>\n",
       "      <td>2023</td>\n",
       "      <td>July</td>\n",
       "      <td>0</td>\n",
       "    </tr>\n",
       "    <tr>\n",
       "      <th>7</th>\n",
       "      <td>2023</td>\n",
       "      <td>August</td>\n",
       "      <td>0</td>\n",
       "    </tr>\n",
       "    <tr>\n",
       "      <th>8</th>\n",
       "      <td>2023</td>\n",
       "      <td>September</td>\n",
       "      <td>2</td>\n",
       "    </tr>\n",
       "    <tr>\n",
       "      <th>9</th>\n",
       "      <td>2023</td>\n",
       "      <td>October</td>\n",
       "      <td>0</td>\n",
       "    </tr>\n",
       "    <tr>\n",
       "      <th>10</th>\n",
       "      <td>2023</td>\n",
       "      <td>November</td>\n",
       "      <td>0</td>\n",
       "    </tr>\n",
       "    <tr>\n",
       "      <th>11</th>\n",
       "      <td>2023</td>\n",
       "      <td>December</td>\n",
       "      <td>0</td>\n",
       "    </tr>\n",
       "    <tr>\n",
       "      <th>12</th>\n",
       "      <td>2024</td>\n",
       "      <td>January</td>\n",
       "      <td>0</td>\n",
       "    </tr>\n",
       "    <tr>\n",
       "      <th>13</th>\n",
       "      <td>2024</td>\n",
       "      <td>February</td>\n",
       "      <td>0</td>\n",
       "    </tr>\n",
       "    <tr>\n",
       "      <th>14</th>\n",
       "      <td>2024</td>\n",
       "      <td>March</td>\n",
       "      <td>0</td>\n",
       "    </tr>\n",
       "    <tr>\n",
       "      <th>15</th>\n",
       "      <td>2024</td>\n",
       "      <td>April</td>\n",
       "      <td>0</td>\n",
       "    </tr>\n",
       "    <tr>\n",
       "      <th>16</th>\n",
       "      <td>2024</td>\n",
       "      <td>May</td>\n",
       "      <td>0</td>\n",
       "    </tr>\n",
       "    <tr>\n",
       "      <th>17</th>\n",
       "      <td>2024</td>\n",
       "      <td>June</td>\n",
       "      <td>0</td>\n",
       "    </tr>\n",
       "    <tr>\n",
       "      <th>18</th>\n",
       "      <td>2024</td>\n",
       "      <td>July</td>\n",
       "      <td>0</td>\n",
       "    </tr>\n",
       "    <tr>\n",
       "      <th>19</th>\n",
       "      <td>2024</td>\n",
       "      <td>August</td>\n",
       "      <td>1</td>\n",
       "    </tr>\n",
       "    <tr>\n",
       "      <th>20</th>\n",
       "      <td>2024</td>\n",
       "      <td>September</td>\n",
       "      <td>1</td>\n",
       "    </tr>\n",
       "  </tbody>\n",
       "</table>\n",
       "</div>"
      ],
      "text/plain": [
       "    sales_year sales_month  total_sales\n",
       "0         2023     January            1\n",
       "1         2023    February            0\n",
       "2         2023       March            0\n",
       "3         2023       April            0\n",
       "4         2023         May            0\n",
       "5         2023        June            0\n",
       "6         2023        July            0\n",
       "7         2023      August            0\n",
       "8         2023   September            2\n",
       "9         2023     October            0\n",
       "10        2023    November            0\n",
       "11        2023    December            0\n",
       "12        2024     January            0\n",
       "13        2024    February            0\n",
       "14        2024       March            0\n",
       "15        2024       April            0\n",
       "16        2024         May            0\n",
       "17        2024        June            0\n",
       "18        2024        July            0\n",
       "19        2024      August            1\n",
       "20        2024   September            1"
      ]
     },
     "execution_count": 1392,
     "metadata": {},
     "output_type": "execute_result"
    }
   ],
   "source": [
    "query = \"\"\"\n",
    "    SELECT\n",
    "        d.year AS sales_year,\n",
    "        d.month_name AS sales_month,\n",
    "        COALESCE(COUNT(S.sales_id), 0) AS total_sales\n",
    "    FROM\n",
    "        date_dim d\n",
    "    LEFT JOIN\n",
    "        Sales S ON d.year = strftime('%Y', S.sales_date)\n",
    "        AND d.month = strftime('%m', S.sales_date)\n",
    "    WHERE\n",
    "        d.year >= strftime('%Y', DATE('now', '-12 months'))\n",
    "    GROUP BY\n",
    "        d.year, d.month\n",
    "    ORDER BY\n",
    "        d.year, d.month;\n",
    "\"\"\"\n",
    "pd.read_sql(query, conn)"
   ]
  },
  {
   "cell_type": "markdown",
   "metadata": {},
   "source": [
    "### Q9"
   ]
  },
  {
   "cell_type": "markdown",
   "metadata": {},
   "source": [
    "*Write a query to return the product categories that generated more than $50,000 in revenue during the last 6 months.*"
   ]
  },
  {
   "cell_type": "code",
   "execution_count": 1393,
   "metadata": {},
   "outputs": [
    {
     "data": {
      "text/html": [
       "<div>\n",
       "<style scoped>\n",
       "    .dataframe tbody tr th:only-of-type {\n",
       "        vertical-align: middle;\n",
       "    }\n",
       "\n",
       "    .dataframe tbody tr th {\n",
       "        vertical-align: top;\n",
       "    }\n",
       "\n",
       "    .dataframe thead th {\n",
       "        text-align: right;\n",
       "    }\n",
       "</style>\n",
       "<table border=\"1\" class=\"dataframe\">\n",
       "  <thead>\n",
       "    <tr style=\"text-align: right;\">\n",
       "      <th></th>\n",
       "      <th>category</th>\n",
       "      <th>total_revenue</th>\n",
       "    </tr>\n",
       "  </thead>\n",
       "  <tbody>\n",
       "    <tr>\n",
       "      <th>0</th>\n",
       "      <td>Electronics</td>\n",
       "      <td>51000</td>\n",
       "    </tr>\n",
       "  </tbody>\n",
       "</table>\n",
       "</div>"
      ],
      "text/plain": [
       "      category  total_revenue\n",
       "0  Electronics          51000"
      ]
     },
     "execution_count": 1393,
     "metadata": {},
     "output_type": "execute_result"
    }
   ],
   "source": [
    "query = \"\"\"\n",
    "    SELECT\n",
    "        Products.category,\n",
    "        SUM(Sales.total_amount) as total_revenue\n",
    "    FROM\n",
    "        Products\n",
    "    LEFT JOIN Sales\n",
    "        ON Products.product_id = Sales.product_id\n",
    "    WHERE\n",
    "        Sales.sales_date >= DATE('now', '-25 months')\n",
    "    GROUP BY\n",
    "        Products.category\n",
    "    HAVING\n",
    "        SUM(Sales.total_amount) >= 50000;\n",
    "\"\"\"\n",
    "pd.read_sql(query, conn)"
   ]
  },
  {
   "cell_type": "markdown",
   "metadata": {},
   "source": [
    "### Q10"
   ]
  },
  {
   "cell_type": "markdown",
   "metadata": {},
   "source": [
    "*Write a query to check for any sales where the total_amount doesn’t match the expected value (i.e., quantity \\* price).*"
   ]
  },
  {
   "cell_type": "code",
   "execution_count": 1394,
   "metadata": {},
   "outputs": [
    {
     "data": {
      "text/html": [
       "<div>\n",
       "<style scoped>\n",
       "    .dataframe tbody tr th:only-of-type {\n",
       "        vertical-align: middle;\n",
       "    }\n",
       "\n",
       "    .dataframe tbody tr th {\n",
       "        vertical-align: top;\n",
       "    }\n",
       "\n",
       "    .dataframe thead th {\n",
       "        text-align: right;\n",
       "    }\n",
       "</style>\n",
       "<table border=\"1\" class=\"dataframe\">\n",
       "  <thead>\n",
       "    <tr style=\"text-align: right;\">\n",
       "      <th></th>\n",
       "      <th>sales_id</th>\n",
       "      <th>customer_id</th>\n",
       "      <th>product_id</th>\n",
       "      <th>sales_date</th>\n",
       "      <th>quantity</th>\n",
       "      <th>total_amount</th>\n",
       "      <th>price</th>\n",
       "    </tr>\n",
       "  </thead>\n",
       "  <tbody>\n",
       "    <tr>\n",
       "      <th>0</th>\n",
       "      <td>4</td>\n",
       "      <td>3</td>\n",
       "      <td>3</td>\n",
       "      <td>2024-08-22</td>\n",
       "      <td>9</td>\n",
       "      <td>8000</td>\n",
       "      <td>800</td>\n",
       "    </tr>\n",
       "  </tbody>\n",
       "</table>\n",
       "</div>"
      ],
      "text/plain": [
       "   sales_id  customer_id  product_id  sales_date  quantity  total_amount  \\\n",
       "0         4            3           3  2024-08-22         9          8000   \n",
       "\n",
       "   price  \n",
       "0    800  "
      ]
     },
     "execution_count": 1394,
     "metadata": {},
     "output_type": "execute_result"
    }
   ],
   "source": [
    "query = \"\"\"\n",
    "    SELECT\n",
    "        Sales.*,\n",
    "        Products.price\n",
    "    FROM\n",
    "        Sales\n",
    "    LEFT JOIN Products\n",
    "        ON Sales.product_id = Products.product_id\n",
    "    WHERE\n",
    "        Sales.total_amount != Sales.quantity * Products.price\n",
    "\"\"\"\n",
    "pd.read_sql(query, conn)"
   ]
  },
  {
   "cell_type": "markdown",
   "metadata": {},
   "source": [
    "## Wrap up"
   ]
  },
  {
   "cell_type": "code",
   "execution_count": 1395,
   "metadata": {},
   "outputs": [],
   "source": [
    "#| include: true\n",
    "#| code-fold: true\n",
    "#| code-summary: Close the database connection\n",
    "\n",
    "db.save()\n",
    "db.close()"
   ]
  },
  {
   "cell_type": "markdown",
   "metadata": {},
   "source": [
    "And that concludes this brief tour of using SQL to define, manipulate, and query tables in a database. In summary, we:\n",
    "\n",
    "- used `sqlite3` in Python to create a test database;\n",
    "- defined some tables;\n",
    "- inserted values into those tables;\n",
    "- ran various queries on the tables;\n",
    "- saw key elements of SQL logic including grouping, filtering, ordering, joins, and datetime manipulation."
   ]
  }
 ],
 "metadata": {
  "kernelspec": {
   "display_name": "clipboard-CMS",
   "language": "python",
   "name": "python3"
  },
  "language_info": {
   "codemirror_mode": {
    "name": "ipython",
    "version": 3
   },
   "file_extension": ".py",
   "mimetype": "text/x-python",
   "name": "python",
   "nbconvert_exporter": "python",
   "pygments_lexer": "ipython3",
   "version": "3.11.0"
  }
 },
 "nbformat": 4,
 "nbformat_minor": 2
}
